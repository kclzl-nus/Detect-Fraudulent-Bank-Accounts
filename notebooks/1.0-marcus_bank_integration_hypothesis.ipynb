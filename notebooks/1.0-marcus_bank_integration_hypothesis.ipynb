{
 "cells": [
  {
   "cell_type": "markdown",
   "id": "9aac97e1",
   "metadata": {},
   "source": [
    "# bank_integration = bank_months_count + has_other_cards*bank_months_count\n",
    "    - having more cards with a bank (has_other_cards) holding an account for a longer period of and would likely suggest that the customer is more integrated and has a relationship with the bank.\n",
    "    - hence, a customer with higher integration with a bank would less likely have the intention to commit fraud at the bank\n",
    "    - bank_integration = bank_months_count + has_other_cards*bank_months_count as has_other_cards is binary and having it multiplied by bank_months_count would give it a higher weightage as compared to the bank_months_count column"
   ]
  },
  {
   "cell_type": "code",
   "execution_count": 1,
   "id": "9e192082",
   "metadata": {},
   "outputs": [],
   "source": [
    "import pandas as pd\n",
    "import numpy as np"
   ]
  },
  {
   "cell_type": "code",
   "execution_count": 62,
   "id": "c6ece55b",
   "metadata": {},
   "outputs": [],
   "source": [
    "df = pd.read_csv('undersampled_data.csv')\n",
    "df['bank_integration'] = df['bank_months_count'] + df['has_other_cards']*df['bank_months_count']"
   ]
  },
  {
   "cell_type": "code",
   "execution_count": 63,
   "id": "e09b75c5",
   "metadata": {},
   "outputs": [
    {
     "data": {
      "text/plain": [
       "<AxesSubplot:>"
      ]
     },
     "execution_count": 63,
     "metadata": {},
     "output_type": "execute_result"
    },
    {
     "data": {
      "image/png": "[encoded data removed]",
      "text/plain": [
       "<Figure size 432x288 with 1 Axes>"
      ]
     },
     "metadata": {
      "needs_background": "light"
     },
     "output_type": "display_data"
    }
   ],
   "source": [
    "df['bank_integration'].hist()"
   ]
  },
  {
   "cell_type": "code",
   "execution_count": 64,
   "id": "92187826",
   "metadata": {},
   "outputs": [
    {
     "data": {
      "text/plain": [
       "count    65970.000000\n",
       "mean        12.955389\n",
       "std         15.962950\n",
       "min         -2.000000\n",
       "25%         -1.000000\n",
       "50%          5.000000\n",
       "75%         26.000000\n",
       "max         62.000000\n",
       "Name: bank_integration, dtype: float64"
      ]
     },
     "execution_count": 64,
     "metadata": {},
     "output_type": "execute_result"
    }
   ],
   "source": [
    "df['bank_integration'].describe()"
   ]
  },
  {
   "cell_type": "markdown",
   "id": "b47957a2",
   "metadata": {},
   "source": [
    "# use centre value to as threshold to determine 'higher' and 'lower' levels of bank_integration"
   ]
  },
  {
   "cell_type": "code",
   "execution_count": 65,
   "id": "da23e2fe",
   "metadata": {},
   "outputs": [],
   "source": [
    "threshold = (df['bank_integration'].max() + df['bank_integration'].min())/2"
   ]
  },
  {
   "cell_type": "code",
   "execution_count": 66,
   "id": "f8482b97",
   "metadata": {},
   "outputs": [
    {
     "data": {
      "text/html": [
       "<div>\n",
       "<style scoped>\n",
       "    .dataframe tbody tr th:only-of-type {\n",
       "        vertical-align: middle;\n",
       "    }\n",
       "\n",
       "    .dataframe tbody tr th {\n",
       "        vertical-align: top;\n",
       "    }\n",
       "\n",
       "    .dataframe thead th {\n",
       "        text-align: right;\n",
       "    }\n",
       "</style>\n",
       "<table border=\"1\" class=\"dataframe\">\n",
       "  <thead>\n",
       "    <tr style=\"text-align: right;\">\n",
       "      <th>fraud_bool</th>\n",
       "      <th>bank_integration</th>\n",
       "      <th>0</th>\n",
       "      <th>1</th>\n",
       "    </tr>\n",
       "  </thead>\n",
       "  <tbody>\n",
       "    <tr>\n",
       "      <th>0</th>\n",
       "      <td>-2</td>\n",
       "      <td>88.273728</td>\n",
       "      <td>11.726272</td>\n",
       "    </tr>\n",
       "    <tr>\n",
       "      <th>1</th>\n",
       "      <td>-1</td>\n",
       "      <td>75.095458</td>\n",
       "      <td>24.904542</td>\n",
       "    </tr>\n",
       "    <tr>\n",
       "      <th>2</th>\n",
       "      <td>1</td>\n",
       "      <td>87.334299</td>\n",
       "      <td>12.665701</td>\n",
       "    </tr>\n",
       "    <tr>\n",
       "      <th>3</th>\n",
       "      <td>2</td>\n",
       "      <td>89.088398</td>\n",
       "      <td>10.911602</td>\n",
       "    </tr>\n",
       "    <tr>\n",
       "      <th>4</th>\n",
       "      <td>3</td>\n",
       "      <td>91.315136</td>\n",
       "      <td>8.684864</td>\n",
       "    </tr>\n",
       "  </tbody>\n",
       "</table>\n",
       "</div>"
      ],
      "text/plain": [
       "fraud_bool  bank_integration          0          1\n",
       "0                         -2  88.273728  11.726272\n",
       "1                         -1  75.095458  24.904542\n",
       "2                          1  87.334299  12.665701\n",
       "3                          2  89.088398  10.911602\n",
       "4                          3  91.315136   8.684864"
      ]
     },
     "execution_count": 66,
     "metadata": {},
     "output_type": "execute_result"
    }
   ],
   "source": [
    "distribution = df.groupby(['bank_integration', 'fraud_bool']).size().unstack(fill_value=0)\n",
    "distribution_percentage = distribution.div(distribution.sum(axis=1), axis=0) * 100\n",
    "distribution_percentage.reset_index(drop=False, inplace=True)\n",
    "distribution_percentage.head()"
   ]
  },
  {
   "cell_type": "code",
   "execution_count": 67,
   "id": "fa65faeb",
   "metadata": {},
   "outputs": [
    {
     "data": {
      "text/plain": [
       "ShapiroResult(statistic=0.6294651627540588, pvalue=1.1899048413255287e-09)"
      ]
     },
     "execution_count": 67,
     "metadata": {},
     "output_type": "execute_result"
    }
   ],
   "source": [
    "import numpy as np\n",
    "import scipy.stats as stats\n",
    "from numpy.random import randn\n",
    " \n",
    "stats.shapiro(distribution_percentage[0])"
   ]
  },
  {
   "cell_type": "markdown",
   "id": "f47e50e3",
   "metadata": {},
   "source": [
    "As p-value<0.05, we have sufficient evidence to reject the null hypothesis to say that sample does not come from a normal distribution."
   ]
  },
  {
   "cell_type": "markdown",
   "id": "368b2bf4",
   "metadata": {},
   "source": [
    "As distribution of the proportion of fraud cases across values of bank_integration cannot be assumed as normal, will use Mann-Whitney U test for hypothesis testing"
   ]
  },
  {
   "cell_type": "markdown",
   "id": "0132f50f",
   "metadata": {},
   "source": [
    "# Mann-Whitney U test"
   ]
  },
  {
   "cell_type": "code",
   "execution_count": 68,
   "id": "dce3d022",
   "metadata": {},
   "outputs": [],
   "source": [
    "low_integration = distribution_percentage[distribution_percentage['bank_integration'] <= threshold][1]\n",
    "high_integration = distribution_percentage[distribution_percentage['bank_integration'] > threshold][1]"
   ]
  },
  {
   "cell_type": "code",
   "execution_count": 69,
   "id": "57c4f362",
   "metadata": {},
   "outputs": [
    {
     "data": {
      "text/plain": [
       "MannwhitneyuResult(statistic=394.0, pvalue=0.0005441101909586266)"
      ]
     },
     "execution_count": 69,
     "metadata": {},
     "output_type": "execute_result"
    }
   ],
   "source": [
    "stats.mannwhitneyu(x=low_integration, y=high_integration, alternative='greater')"
   ]
  },
  {
   "cell_type": "markdown",
   "id": "876e6d57",
   "metadata": {},
   "source": [
    "Since the p-value< 0.05, we have sufficient evidence to reject null hypothesis to say that the proportion of fraud cases among lower values of bank_integration is higher than the proportion of fraud cases in higher values of bank_integration"
   ]
  }
 ],
 "metadata": {
  "kernelspec": {
   "display_name": "Python 3 (ipykernel)",
   "language": "python",
   "name": "python3"
  },
  "language_info": {
   "codemirror_mode": {
    "name": "ipython",
    "version": 3
   },
   "file_extension": ".py",
   "mimetype": "text/x-python",
   "name": "python",
   "nbconvert_exporter": "python",
   "pygments_lexer": "ipython3",
   "version": "3.9.12"
  },
  "toc": {
   "base_numbering": 1,
   "nav_menu": {},
   "number_sections": true,
   "sideBar": true,
   "skip_h1_title": false,
   "title_cell": "Table of Contents",
   "title_sidebar": "Contents",
   "toc_cell": false,
   "toc_position": {},
   "toc_section_display": true,
   "toc_window_display": false
  }
 },
 "nbformat": 4,
 "nbformat_minor": 5
}
