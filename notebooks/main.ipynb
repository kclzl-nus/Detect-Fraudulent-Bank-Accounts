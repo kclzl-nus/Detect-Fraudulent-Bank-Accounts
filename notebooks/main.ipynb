{
 "cells": [
  {
   "cell_type": "markdown",
   "metadata": {},
   "source": [
    "# Import required packages"
   ]
  },
  {
   "cell_type": "code",
   "execution_count": 4,
   "metadata": {},
   "outputs": [],
   "source": [
    "import pandas as pd\n",
    "import numpy as np\n",
    "import matplotlib.pyplot as plt\n",
    "import seaborn as sns\n",
    "import pickle\n",
    "from sklearn.metrics import (\n",
    "    accuracy_score, precision_score, recall_score, f1_score,\n",
    "    confusion_matrix, roc_curve, auc, classification_report,\n",
    "    roc_auc_score\n",
    ")\n",
    "from sklearn.model_selection import (\n",
    "    train_test_split, GridSearchCV, cross_val_score, KFold\n",
    ")\n",
    "from sklearn.preprocessing import StandardScaler, LabelEncoder\n",
    "from sklearn.feature_selection import SelectKBest, f_classif, RFE, RFECV\n",
    "from sklearn.utils import resample\n",
    "from sklearn.linear_model import LogisticRegression, LassoCV, Lars\n",
    "from sklearn.tree import DecisionTreeClassifier\n",
    "from sklearn.ensemble import (\n",
    "    RandomForestClassifier, GradientBoostingClassifier,\n",
    "    AdaBoostClassifier, HistGradientBoostingClassifier\n",
    ")\n",
    "from xgboost import XGBClassifier\n",
    "from lightgbm import LGBMClassifier\n",
    "from catboost import CatBoostClassifier\n",
    "import os\n",
    "\n",
    "script_dir = os.path.abspath(\"../scripts\")\n",
    "import sys\n",
    "sys.path.append(script_dir)\n",
    "from data_preprocessing import data_preprocessing\n",
    "from feature_eng_hyp_device_activity import generateDeviceActivityFeatures\n",
    "from feature_eng_hyp_account_kmeans import get_account_related_and_kmeans_feature as generateKmeansFeatures\n",
    "from feature_eng_hyp_distinct_email_same_DOB import bin_distinct_emails_same_DOB as generateEmailsDobBins\n",
    "from feature_eng_hyp_name_email_similarity import bin_name_email_similarity as generateNameEmailSimilarityBins\n",
    "from feature_eng_hyp_session_length import bin_session_length as generateSessionLengthBins\n",
    "\n",
    "import warnings\n",
    "# Suppress warnings\n",
    "warnings.filterwarnings(\"ignore\")"
   ]
  },
  {
   "cell_type": "markdown",
   "metadata": {},
   "source": [
    "## Import dataset and data preprocessing\n",
    "\n",
    "This section includes:\n",
    "+ Downloading data from kaggle (_Note: In order to download dataset from Kaggle, you must first setup KaggleAPI._)\n",
    "+ Data preprocessing\n",
    "    + Removal of Irrelevant Variables\n",
    "    + Handling of Missing Variables\n",
    "    + Undersampling of Imbalanced Dataset\n",
    "\n",
    "For in-depth analysis on data preprocessing, please refer to [Data Preprocessing Notebook](./1.0-data-preprocessing.ipynb)."
   ]
  },
  {
   "cell_type": "markdown",
   "metadata": {},
   "source": [
    "### Setting up KaggleAPI\n",
    "\n",
    "In order to use the Kaggle’s public API, you must first authenticate using an API token.\n",
    "\n",
    "On Kaggle, go to 'Your Profile' > 'Settings' > 'Account' tab > 'API' section and select 'Create New Token'. This will trigger the download of `kaggle.json`, a file containing your API credentials.\n",
    "\n",
    "If you are using the Kaggle CLI tool, the tool will look for this token at `~/.kaggle/kaggle.json` on Linux, OSX, and other UNIX-based operating systems, and at `C:\\Users\\<Windows-username>\\.kaggle\\kaggle.json` on Windows. If the token is not there, an error will be raised. Hence, once you’ve downloaded the token, you should move it from your Downloads folder to this folder.\n",
    "\n",
    "If you are using the Kaggle API directly, where you keep the token doesn’t matter, so long as you are able to provide your credentials at runtime."
   ]
  },
  {
   "cell_type": "markdown",
   "metadata": {},
   "source": [
    "### Running import and preprocessing script"
   ]
  },
  {
   "cell_type": "code",
   "execution_count": 25,
   "metadata": {},
   "outputs": [
    {
     "name": "stdout",
     "output_type": "stream",
     "text": [
      "Base.csv found. Skipping the download and extraction process...\n",
      "Data Preprocessing...\n",
      "Data Preprocessing completed successfully. Data saved to 'data/processed/undersampled_data.csv'.\n",
      "Splitting the dataset into train-test subset...\n",
      "Train-test split completed successfully. Data saved to 'data/processed/X_train.csv', 'data/processed/X_test.csv', 'data/processed/y_train.csv', and 'data/processed/y_test.csv'.\n"
     ]
    }
   ],
   "source": [
    "sys.path.append('../scripts')\n",
    "import data_preprocessing\n",
    "\n",
    "data_preprocessing.data_preprocessing()"
   ]
  },
  {
   "cell_type": "code",
   "execution_count": 5,
   "metadata": {},
   "outputs": [],
   "source": [
    "# Read the CSV file into a DataFrame\n",
    "X_test = pd.read_csv('../data/processed/X_test.csv')\n",
    "y_test = pd.read_csv('../data/processed/y_test.csv')"
   ]
  },
  {
   "cell_type": "markdown",
   "metadata": {},
   "source": [
    "## Feature Enginnering\n",
    "\n",
    "New features are engineered and introduced into the dataset:\n",
    "\n",
    "Hypothesis - **Device Activity** ([Hypothesis - Device Activity Notebook](./3.0-hypothesis-device-activity.ipynb))\n",
    "+ `FE_01_device_os_emails_prob`\n",
    "+ `FE_02_keep_alive_device_emails_prob`\n",
    "+ `FE_03_source_foreign_request_prob`\n",
    "+ `FE_04_device_os_foreign_request_prob`\n",
    "+ `FE_05_device_os_prob`\n",
    "\n",
    "Hypothesis - **Distinct Email Same DOB** ([Hypothesis - Distinct Email Same DOB Notebook](./3.1-hypothesis-name-email-similarity.ipynb))\n",
    "+ `emails_bin`\n",
    "+ `name_email_similarity_bins`\n",
    "\n",
    "Hypothesis - **Session Length** ([Hypothesis - Session Length Notebook](./3.2-hypothesis-session-length.ipynb))\n",
    "+ `session_length_bins`\n",
    "\n",
    "Hypothesis - **K Means** ([Hypothesis - K Means Notebook](./3.3-hypothesis-clustering.ipynb))\n",
    "+ `kmeans_prob`\n",
    "\n",
    "Hypothesis - **Income Credit Limit Ratio** ([Hypothesis - K Means Notebook](./3.4-hypothesis-income-credit-limit-ratio.ipynb))\n",
    "+ `income_credit_limit_ratio`\n",
    "\n",
    "Hypothesis - **Bank Integration** ([Hypothesis - K Means Notebook](./3.5-hypothesis-bank-integration.ipynb))\n",
    "+ `have_prev_address`\n",
    "+ `have_initial_bal`\n",
    "+ `bank_integration`\n"
   ]
  },
  {
   "cell_type": "markdown",
   "metadata": {},
   "source": [
    "### Define feature engineering methods"
   ]
  },
  {
   "cell_type": "code",
   "execution_count": 6,
   "metadata": {},
   "outputs": [],
   "source": [
    "feature_engineering_methods = [\n",
    "    generateDeviceActivityFeatures,\n",
    "    generateKmeansFeatures,\n",
    "    generateEmailsDobBins,\n",
    "    generateNameEmailSimilarityBins,\n",
    "    generateSessionLengthBins\n",
    "]"
   ]
  },
  {
   "cell_type": "markdown",
   "metadata": {},
   "source": [
    "# Fraud Detection Models"
   ]
  },
  {
   "cell_type": "markdown",
   "metadata": {},
   "source": [
    "## Helper Functions"
   ]
  },
  {
   "cell_type": "markdown",
   "metadata": {},
   "source": [
    "### One-hot encoding for categorical variable in test dataset"
   ]
  },
  {
   "cell_type": "code",
   "execution_count": 7,
   "metadata": {},
   "outputs": [],
   "source": [
    "### One-hot encoding of categorical features\n",
    "# Split categorical and non-categorical variables\n",
    "def clean_df_dtype(df):\n",
    "    df = pd.DataFrame(df)\n",
    "    df_label = df['fraud_bool']\n",
    "    df_non_cat = df.drop(columns=['fraud_bool']).select_dtypes(exclude=['object','category'])\n",
    "    df_cat =df.drop(columns=['fraud_bool']).select_dtypes(include=['object','category']) \n",
    "    # Perform one-hot encoding\n",
    "    one_hot_encoded = pd.get_dummies(df_cat)\n",
    "    # Concatenate the one-hot encoded columns with the original DataFrame\n",
    "    df_encoded = pd.concat([df_non_cat, one_hot_encoded], axis=1)\n",
    "    # df_encoded.info()\n",
    "    X =df_encoded \n",
    "    y =df_label \n",
    "    return X,y"
   ]
  },
  {
   "cell_type": "markdown",
   "metadata": {},
   "source": [
    "### Run LARS to standardise and select features "
   ]
  },
  {
   "cell_type": "code",
   "execution_count": 8,
   "metadata": {},
   "outputs": [],
   "source": [
    "def standardize_and_select_features(df_train, df_test):\n",
    "    X_train, y_train = clean_df_dtype(df_train)\n",
    "    X_test, y_test = clean_df_dtype(df_test)\n",
    "\n",
    "    # Standardize the features\n",
    "    scaler = StandardScaler()\n",
    "    X_train_scaled = scaler.fit_transform(X_train)\n",
    "    X_test_scaled = scaler.transform(X_test)\n",
    "    \n",
    "    # Apply LARS feature selection\n",
    "    lars_model = Lars()\n",
    "    lars_model.fit(X_train_scaled, y_train)\n",
    "    selected_features = lars_model.coef_ != 0\n",
    "    \n",
    "    # Select relevant features\n",
    "    X_train_selected = X_train_scaled[:, selected_features]\n",
    "    X_test_selected = X_test_scaled[:, selected_features]\n",
    "    \n",
    "    # Print features removed and features kept\n",
    "    removed_features = X_train.columns[~selected_features]\n",
    "    kept_features = X_train.columns[selected_features]\n",
    "    print(\"Features Removed:\", removed_features)\n",
    "    print(\"Features Kept:\", kept_features)\n",
    "    \n",
    "    # Print the shapes of selected features\n",
    "    print(\"Shape of X_train_selected:\", X_train_selected.shape)\n",
    "    print(\"Shape of X_test_selected:\", X_test_selected.shape)\n",
    "    \n",
    "    return X_train_selected, X_test_selected, y_train, y_test, removed_features,kept_features\n",
    "    "
   ]
  },
  {
   "cell_type": "markdown",
   "metadata": {},
   "source": [
    "### Train and Evaluate Models"
   ]
  },
  {
   "cell_type": "code",
   "execution_count": 9,
   "metadata": {},
   "outputs": [],
   "source": [
    "def train_and_evaluate_model(model_name, model, X_train, y_train, X_test, y_test):\n",
    "    model_directory = '../models/'\n",
    "    os.makedirs(model_directory, exist_ok=True)  # Create the directory if it doesn't exist\n",
    "    \n",
    "    # Define the file path for saving/loading the model\n",
    "    # model_name = type(model).__name__\n",
    "    model_path = os.path.join(model_directory, f\"{model_name.lower()}.pkl\")\n",
    "    \n",
    "    # Check if the model file exists\n",
    "    if os.path.exists(model_path):\n",
    "        # Load the model from the file\n",
    "        with open(model_path, 'rb') as file:\n",
    "            model = pickle.load(file)\n",
    "    else:\n",
    "        # Initialize the KFold cross-validation iterator\n",
    "        kf = KFold(n_splits=5, shuffle=True, random_state=42)\n",
    "\n",
    "        # Perform k-fold cross-validation\n",
    "        cv_scores = cross_val_score(model, X_train, y_train, cv=kf, scoring='f1')\n",
    "        print(\"Cross-validation scores:\", cv_scores)\n",
    "        print(\"Mean CV accuracy:\", np.mean(cv_scores))\n",
    "\n",
    "        # Train the model on the entire training dataset\n",
    "        model.fit(X_train, y_train)\n",
    "\n",
    "        # Save the trained model\n",
    "        with open(model_path, 'wb') as file:\n",
    "            pickle.dump(model, file)\n",
    "    \n",
    "    # Make predictions on the test set\n",
    "    y_pred = model.predict(X_test)\n",
    "    \n",
    "    # Compute evaluation metrics\n",
    "    accuracy = accuracy_score(y_test, y_pred)\n",
    "    precision = precision_score(y_test, y_pred)\n",
    "    recall = recall_score(y_test, y_pred)\n",
    "    f1 = f1_score(y_test, y_pred) \n",
    "    # Compute ROC AUC\n",
    "    roc_auc = roc_auc_score(y_test, model.predict_proba(X_test)[:,1])\n",
    "    fpr, tpr, thresholds = roc_curve(y_test, model.predict_proba(X_test)[:,1])\n",
    "    \n",
    "    # Print evaluation metrics\n",
    "    print(\"Model:\", model_name)\n",
    "    print(\"Accuracy:\", accuracy)\n",
    "    print(\"Precision:\", precision)\n",
    "    print(\"Recall:\", recall)\n",
    "    print(\"F1 Score:\", f1)\n",
    "    \n",
    "    # Return the fitted model and evaluation metrics\n",
    "    return model, fpr, tpr, thresholds, roc_auc"
   ]
  },
  {
   "cell_type": "markdown",
   "metadata": {},
   "source": [
    "## Baseline Model\n",
    "\n",
    "For our Baseline model, we employed a logistic regression approach to train on the entire dataset, with categorical variables one-hot encoded. Additionally, we implemented K-fold cross-validation during both model training and evaluation stages.\n",
    "\n",
    "For more details on model training, refer to [Baseline Model Notebook](./4.0-baseline-model.ipynb)."
   ]
  },
  {
   "cell_type": "code",
   "execution_count": 10,
   "metadata": {},
   "outputs": [],
   "source": [
    "evaluation_metrics = {}\n",
    "\n",
    "# Load X_train and y_train data from the processed CSV files\n",
    "X_train = pd.read_csv('../data/processed/X_train.csv')\n",
    "y_train = pd.read_csv('../data/processed/y_train.csv')\n",
    "X_test = pd.read_csv('../data/processed/X_test.csv')\n",
    "y_test = pd.read_csv('../data/processed/y_test.csv')\n",
    "\n",
    "df_train = pd.concat([X_train, y_train], axis=1)\n",
    "df_test = pd.concat([X_test, y_test], axis=1)\n",
    "\n",
    "X_train,y_train = clean_df_dtype(df_train)\n",
    "X_test,y_test = clean_df_dtype(df_test)\n",
    "\n",
    "#Baseline Model\n",
    "with open('../models/baseline_model.pkl', 'rb') as file:\n",
    "    baseline_model = pickle.load(file)\n",
    "    \n",
    "y_pred = baseline_model.predict(X_test)\n",
    "\n",
    "# Compute evaluation metrics\n",
    "accuracy = accuracy_score(y_test, y_pred)\n",
    "precision = precision_score(y_test, y_pred)\n",
    "recall = recall_score(y_test, y_pred)\n",
    "f1 = f1_score(y_test, y_pred)\n",
    "baseline_conf_matrix = confusion_matrix(y_test, y_pred)\n",
    "\n",
    "# Compute ROC AUC\n",
    "baseline_roc_auc = roc_auc_score(y_test, baseline_model.predict_proba(X_test)[:,1])\n",
    "fpr_baseline, tpr_baseline, _ = roc_curve(y_test, baseline_model.predict_proba(X_test)[:,1])\n",
    "\n",
    "# Store evaluation metrics for the baseline model\n",
    "evaluation_metrics['Baseline'] = {\n",
    "    'Accuracy': accuracy,\n",
    "    'Precision': precision ,\n",
    "    'Recall': recall ,\n",
    "    'F1 Score': f1 ,\n",
    "    'ROC AUC': baseline_roc_auc,\n",
    "    'fpr': fpr_baseline,\n",
    "    'tpr' : tpr_baseline,\n",
    "    'Confusion Matrix' : baseline_conf_matrix\n",
    "}"
   ]
  },
  {
   "cell_type": "markdown",
   "metadata": {},
   "source": [
    "## Challenger Model\n",
    "\n",
    "For more details on:\n",
    "+ model analysis and selection\n",
    "+ feature set analysis selection\n",
    "+ model training\n",
    "\n",
    "refer to [Challenger Model Notebook](./4.1-challenger-model.ipynb).\n"
   ]
  },
  {
   "cell_type": "markdown",
   "metadata": {},
   "source": [
    "## Challenger Model 1\n",
    "\n",
    "Extreme Gradient Boosting (XGBoost) with feature selection using LARS:\n",
    "\n",
    "Selected features:\n",
    "+ `income`\n",
    "+ `name_email_similarity`\n",
    "+ `prev_address_months_count`\n",
    "+ `current_address_months_count`\n",
    "+ `customer_age`\n",
    "+ `days_since_request`\n",
    "+ `intended_balcon_amount`\n",
    "+ `zip_count_4w`\n",
    "+ `velocity_6h`, `velocity_24h`, `velocity_4w`\n",
    "+ `bank_branch_count_8w`\n",
    "+ `date_of_birth_distinct_emails_4w`\n",
    "+ `credit_risk_score`\n",
    "+ `email_is_free`\n",
    "+ `phone_home_valid`\n",
    "+ `phone_mobile_valid`\n",
    "+ `bank_months_count`\n",
    "+ `has_other_cards`\n",
    "+ `proposed_credit_limit`\n",
    "+ `foreign_request`\n",
    "+ `session_length_in_minutes`\n",
    "+ `keep_alive_session`\n",
    "+ `device_distinct_emails_8w`\n",
    "+ `month`\n",
    "+ `payment_type_AA`, `payment_type_AC`, `payment_type_AD`, `payment_type_AE`,\n",
    "+ `employment_status_CA`, `employment_status_CB`, `employment_status_CC`, `employment_status_CE`, `employment_status_CF`, `employment_status_CG`,\n",
    "+ `housing_status_BA`, `housing_status_BB`, `housing_status_BD`, `housing_status_BE`, `housing_status_BF`, `housing_status_BG`,\n",
    "+ `source_TELEAPP`\n",
    "+ `device_os_linux`, `device_os_macintosh`, `device_os_windows`, `device_os_x11`\n",
    "+ `emails_bin_0-10`, `emails_bin_20-30`, `emails_bin_>30`"
   ]
  },
  {
   "cell_type": "markdown",
   "metadata": {},
   "source": [
    "### Extract features for challenger model 1"
   ]
  },
  {
   "cell_type": "code",
   "execution_count": 12,
   "metadata": {},
   "outputs": [
    {
     "name": "stdout",
     "output_type": "stream",
     "text": [
      "Features Removed: Index(['payment_type_AB', 'employment_status_CD', 'housing_status_BC',\n",
      "       'source_INTERNET', 'device_os_other', 'emails_bin_10-20'],\n",
      "      dtype='object')\n",
      "Features Kept: Index(['income', 'name_email_similarity', 'prev_address_months_count',\n",
      "       'current_address_months_count', 'customer_age', 'days_since_request',\n",
      "       'intended_balcon_amount', 'zip_count_4w', 'velocity_6h', 'velocity_24h',\n",
      "       'velocity_4w', 'bank_branch_count_8w',\n",
      "       'date_of_birth_distinct_emails_4w', 'credit_risk_score',\n",
      "       'email_is_free', 'phone_home_valid', 'phone_mobile_valid',\n",
      "       'bank_months_count', 'has_other_cards', 'proposed_credit_limit',\n",
      "       'foreign_request', 'session_length_in_minutes', 'keep_alive_session',\n",
      "       'device_distinct_emails_8w', 'month', 'payment_type_AA',\n",
      "       'payment_type_AC', 'payment_type_AD', 'payment_type_AE',\n",
      "       'employment_status_CA', 'employment_status_CB', 'employment_status_CC',\n",
      "       'employment_status_CE', 'employment_status_CF', 'employment_status_CG',\n",
      "       'housing_status_BA', 'housing_status_BB', 'housing_status_BD',\n",
      "       'housing_status_BE', 'housing_status_BF', 'housing_status_BG',\n",
      "       'source_TELEAPP', 'device_os_linux', 'device_os_macintosh',\n",
      "       'device_os_windows', 'device_os_x11', 'emails_bin_0-10',\n",
      "       'emails_bin_20-30', 'emails_bin_>30'],\n",
      "      dtype='object')\n",
      "Shape of X_train_selected: (52776, 49)\n",
      "Shape of X_test_selected: (13194, 49)\n",
      "Cross-validation scores: [0.50309859 0.50307434 0.50357995 0.49584947 0.50677201]\n",
      "Mean CV accuracy: 0.5024748740642362\n",
      "Model: Challenger Model 1\n",
      "Accuracy: 0.878202213127179\n",
      "Precision: 0.6770379589296827\n",
      "Recall: 0.5\n",
      "F1 Score: 0.5752048638646576\n"
     ]
    }
   ],
   "source": [
    "# Load X_train and y_train data from the processed CSV files\n",
    "X_train = pd.read_csv('../data/processed/X_train.csv')\n",
    "y_train = pd.read_csv('../data/processed/y_train.csv')\n",
    "X_test = pd.read_csv('../data/processed/X_test.csv')\n",
    "y_test = pd.read_csv('../data/processed/y_test.csv')\n",
    "\n",
    "df_train_c1 = pd.concat([X_train, y_train], axis=1)\n",
    "df_test_c1 = pd.concat([X_test, y_test], axis=1)\n",
    "\n",
    "generateEmailsDobBins(df_train_c1)\n",
    "generateEmailsDobBins(df_test_c1)\n",
    "\n",
    "X_train_c1, X_test_c1, y_train_c1, y_test_c1 , removed_features,kept_features = standardize_and_select_features(df_train_c1, df_test_c1)\n",
    "challenger_model_1 = XGBClassifier(random_state=42)\n",
    "# Perform k-fold cross-validation\n",
    "kf = KFold(n_splits=5, shuffle=True, random_state=42)\n",
    "cv_scores = cross_val_score(challenger_model_1, X_train_c1, y_train_c1, cv=kf, scoring='recall')\n",
    "print(\"Cross-validation scores:\", cv_scores)\n",
    "print(\"Mean CV accuracy:\", np.mean(cv_scores))\n",
    "\n",
    "# Train the model on the entire training dataset\n",
    "challenger_model_1.fit(X_train_c1, y_train_c1)\n",
    "\n",
    "# Save the trained model\n",
    "with open('../models/challenger_model_1.pkl', 'wb') as file:\n",
    "    pickle.dump(challenger_model_1, file)\n",
    "\n",
    "# Make predictions on the test set\n",
    "y_pred = challenger_model_1.predict(X_test_c1)\n",
    "\n",
    "# Compute evaluation metrics\n",
    "accuracy = accuracy_score(y_test_c1, y_pred)\n",
    "precision = precision_score(y_test_c1, y_pred)\n",
    "recall = recall_score(y_test_c1, y_pred)\n",
    "f1 = f1_score(y_test_c1, y_pred) \n",
    "c1_conf_matrix = confusion_matrix(y_test_c1, y_pred)\n",
    "\n",
    "# Compute ROC AUC\n",
    "roc_auc = roc_auc_score(y_test_c1, challenger_model_1.predict_proba(X_test_c1)[:,1])\n",
    "fpr, tpr, thresholds = roc_curve(y_test_c1, challenger_model_1.predict_proba(X_test_c1)[:,1])\n",
    "\n",
    "# Print evaluation metrics\n",
    "print(\"Model:\", 'Challenger Model 1')\n",
    "print(\"Accuracy:\", accuracy)\n",
    "print(\"Precision:\", precision)\n",
    "print(\"Recall:\", recall)\n",
    "print(\"F1 Score:\", f1)\n",
    "\n",
    "evaluation_metrics['Challenger Model 1'] = {\n",
    "    'Accuracy': accuracy,\n",
    "    'Precision': precision ,\n",
    "    'Recall': recall ,\n",
    "    'F1 Score': f1 ,\n",
    "    'ROC AUC': roc_auc,\n",
    "    'fpr': fpr,\n",
    "    'tpr' : tpr,\n",
    "    'Confusion Matrix' : c1_conf_matrix }\n",
    "\n"
   ]
  },
  {
   "cell_type": "markdown",
   "metadata": {},
   "source": [
    "## Challenger Model 2\n",
    "\n",
    "Adaptive Boosting (ADA Boost) with feature selection\n",
    "\n",
    "Selected features:\n",
    "+ `income`\n",
    "+ `name_email_similarity`\n",
    "+ `prev_address_months_count`\n",
    "+ `current_address_months_count`\n",
    "+ `customer_age`\n",
    "+ `days_since_request`\n",
    "+ `intended_balcon_amount`\n",
    "+ `zip_count_4w`\n",
    "+ `velocity_24h`, `velocity_4w`\n",
    "+ `bank_branch_count_8w`\n",
    "+ `date_of_birth_distinct_emails_4w`\n",
    "+ `credit_risk_score`\n",
    "+ `email_is_free`\n",
    "+ `phone_home_valid`\n",
    "+ `phone_mobile_valid`\n",
    "+ `bank_months_count`\n",
    "+ `has_other_cards`\n",
    "+ `proposed_credit_limit`\n",
    "+ `foreign_request`\n",
    "+ `session_length_in_minutes`\n",
    "+ `keep_alive_session`\n",
    "+ `device_distinct_emails_8w`\n",
    "+ `month`\n",
    "+ `have_prev_address`\n",
    "+ `bank_integration`\n",
    "+ `income_credit_limit_ratio`\n",
    "+ `payment_type_AC`\n",
    "+ `employment_status_CA`, `employment_status_CB`, `employment_status_CC`\n",
    "+ `housing_status_BA`, `housing_status_BE`\n",
    "+ `device_os_linux`, `device_os_macintosh`, `device_os_windows`"
   ]
  },
  {
   "cell_type": "markdown",
   "metadata": {},
   "source": [
    "### Extract features for challenger model 1"
   ]
  },
  {
   "cell_type": "code",
   "execution_count": 13,
   "metadata": {},
   "outputs": [],
   "source": [
    "X_train_fe = pd.read_csv('../data/processed/X_train.csv')\n",
    "y_train_fe = pd.read_csv('../data/processed/y_train.csv')\n",
    "X_test_fe = pd.read_csv('../data/processed/X_test.csv')\n",
    "y_test_fe = pd.read_csv('../data/processed/y_test.csv')\n",
    "df_train_c2 = pd.concat([X_train_fe, y_train_fe], axis=1)\n",
    "df_test_c2 = pd.concat([X_test_fe, y_test_fe], axis=1)\n",
    "\n",
    "for feature in feature_engineering_methods:\n",
    "    feature(df_train_c2)\n",
    "    feature(df_test_c2)\n",
    "    \n",
    "X_train_c2,y_train_c2 = clean_df_dtype(df_train_c2)\n",
    "X_test_c2,y_test_c2 = clean_df_dtype(df_test_c2)\n",
    "\n",
    "challenger_model_2_data_cols = ['income', 'name_email_similarity', 'prev_address_months_count',\n",
    "       'current_address_months_count', 'customer_age', 'days_since_request',\n",
    "       'intended_balcon_amount', 'zip_count_4w', 'velocity_24h', 'velocity_4w',\n",
    "       'bank_branch_count_8w', 'date_of_birth_distinct_emails_4w',\n",
    "       'credit_risk_score', 'email_is_free', 'phone_home_valid',\n",
    "       'bank_months_count', 'has_other_cards', 'proposed_credit_limit',\n",
    "       'foreign_request', 'session_length_in_minutes', 'keep_alive_session',\n",
    "       'device_distinct_emails_8w', 'month', 'have_prev_address',\n",
    "       'bank_integration', 'income_credit_limit_ratio', 'payment_type_AC',\n",
    "       'employment_status_CA', 'employment_status_CB', 'employment_status_CC',\n",
    "       'housing_status_BA', 'housing_status_BE', 'device_os_linux',\n",
    "       'device_os_macintosh', 'device_os_windows']"
   ]
  },
  {
   "cell_type": "code",
   "execution_count": 14,
   "metadata": {},
   "outputs": [
    {
     "name": "stdout",
     "output_type": "stream",
     "text": [
      "Model: challenger_model_2\n",
      "Accuracy: 0.881158102167652\n",
      "Precision: 0.6946222791293214\n",
      "Recall: 0.49862132352941174\n",
      "F1 Score: 0.5805243445692884\n",
      "Model: Challenger Model 2\n",
      "Accuracy: 0.881158102167652\n",
      "Precision: 0.6946222791293214\n",
      "Recall: 0.49862132352941174\n",
      "F1 Score: 0.5805243445692884\n",
      "ROC AUC: 0.896764289618325\n"
     ]
    }
   ],
   "source": [
    "from sklearn.metrics import roc_auc_score, roc_curve\n",
    "import matplotlib.pyplot as plt\n",
    "\n",
    "with open('../models/challenger_model_2.pkl', 'rb') as file:\n",
    "    challenger_model_2 = pickle.load(file)\n",
    "\n",
    "# Select relevant columns for validation\n",
    "X_test_c2 = X_test_c2[challenger_model_2_data_cols]\n",
    "X_train_c2 =X_train_c2[challenger_model_2_data_cols] \n",
    "# challenger_model_2 = AdaBoostClassifier(random_state=24)\n",
    "challenger_model_2, fpr, tpr, thresholds, roc_auc = train_and_evaluate_model('challenger_model_2', challenger_model_2, X_train_c2, y_train_c2, X_test_c2, y_test_c2)\n",
    "\n",
    "y_pred_c2 = challenger_model_2.predict(X_test_c2)\n",
    "# Calculate evaluation metrics for Challenger Model 2\n",
    "accuracy = accuracy_score(y_test_c2, y_pred_c2)\n",
    "precision = precision_score(y_test_c2, y_pred_c2)\n",
    "recall = recall_score(y_test_c2, y_pred_c2)\n",
    "f1 = f1_score(y_test_c2, y_pred_c2)\n",
    "c2_conf_matrix = confusion_matrix(y_test_c2, y_pred_c2)\n",
    "\n",
    "# Print evaluation metrics\n",
    "print(\"Model: Challenger Model 2\")\n",
    "print(\"Accuracy:\", accuracy)\n",
    "print(\"Precision:\", precision)\n",
    "print(\"Recall:\", recall)\n",
    "print(\"F1 Score:\", f1)\n",
    "print(\"ROC AUC:\", roc_auc)\n",
    "\n",
    "# Store evaluation metrics in the dictionary\n",
    "evaluation_metrics['Challenger Model 2'] = {\n",
    "    'Accuracy': accuracy,\n",
    "    'Precision': precision,\n",
    "    'Recall': recall,\n",
    "    'F1 Score': f1,\n",
    "    'ROC AUC': roc_auc,\n",
    "    'fpr': fpr,\n",
    "    'tpr': tpr,\n",
    "    'Confusion Matrix' : c2_conf_matrix \n",
    "}"
   ]
  },
  {
   "cell_type": "markdown",
   "metadata": {},
   "source": [
    "## Model Ensemble"
   ]
  },
  {
   "cell_type": "code",
   "execution_count": 15,
   "metadata": {},
   "outputs": [],
   "source": [
    "import numpy as np\n",
    "from sklearn.metrics import accuracy_score, precision_score, recall_score, f1_score, confusion_matrix, roc_curve, auc\n",
    "# Obtain predictions from both models on their respective validation or test datasets\n",
    "y_pred_c1 = challenger_model_1.predict_proba(X_test_c1)[:,1]\n",
    "y_pred_c2 = challenger_model_2.predict_proba(X_test_c2)[:,1]\n",
    "\n",
    "\n",
    "# Combine predictions using a voting scheme\n",
    "ensemble_predictions =  0.75*(y_pred_c1 + y_pred_c2) # Unweighted average\n",
    "\n",
    "# Round all values of 0.5 to 1\n",
    "# ensemble_predictions = np.where(ensemble_predictions == 0.5, 1, ensemble_predictions)\n",
    "ensemble_predictions = np.round(ensemble_predictions)\n",
    "# Evaluate the performance of the ensemble model\n",
    "ensemble_accuracy = accuracy_score(y_test, ensemble_predictions)\n",
    "ensemble_precision = precision_score(y_test, ensemble_predictions)\n",
    "ensemble_recall = recall_score(y_test, ensemble_predictions)\n",
    "ensemble_f1 = f1_score(y_test, ensemble_predictions)\n",
    "ensemble_roc_auc = roc_auc_score(y_test, ensemble_predictions)\n",
    "\n",
    "# Calculate ROC curve for the ensemble model\n",
    "fpr_ensemble, tpr_ensemble, _ = roc_curve(y_test, ensemble_predictions)\n",
    "\n",
    "ensemble_conf_matrix = confusion_matrix(y_test, ensemble_predictions)\n",
    "\n",
    "# Store evaluation metrics for Challenger Model 2\n",
    "evaluation_metrics['Ensemble'] = {\n",
    "    'Accuracy': ensemble_accuracy,\n",
    "    'Precision': ensemble_precision,\n",
    "    'Recall': ensemble_recall,\n",
    "    'F1 Score': ensemble_f1,\n",
    "    'ROC AUC': ensemble_roc_auc,\n",
    "    'fpr': fpr_ensemble,\n",
    "    'tpr':tpr_ensemble ,\n",
    "    'Confusion Matrix' : ensemble_conf_matrix \n",
    "}\n"
   ]
  },
  {
   "cell_type": "markdown",
   "metadata": {},
   "source": [
    "# Results"
   ]
  },
  {
   "cell_type": "markdown",
   "metadata": {},
   "source": [
    "## Evaluation Metrics\n",
    "\n",
    "(accuracy, precision, recall, F1 score)"
   ]
  },
  {
   "cell_type": "code",
   "execution_count": 16,
   "metadata": {},
   "outputs": [
    {
     "name": "stdout",
     "output_type": "stream",
     "text": [
      "Metrics DataFrame without Confusion Matrix:\n",
      "                    Accuracy Precision    Recall  F1 Score   ROC AUC\n",
      "Baseline            0.844399  0.586255  0.192096  0.289373  0.767884\n",
      "Challenger Model 1  0.878202  0.677038       0.5  0.575205  0.890641\n",
      "Challenger Model 2  0.881158  0.694622  0.498621  0.580524  0.896764\n",
      "Ensemble             0.83106  0.492357  0.784467  0.604997  0.812364\n",
      "\n"
     ]
    }
   ],
   "source": [
    "# Convert to DataFrame\n",
    "metrics_df = pd.DataFrame(evaluation_metrics).T\n",
    "\n",
    "# Drop the 'Confusion Matrix' column\n",
    "metrics_df_no_confusion = metrics_df.drop(columns=['Confusion Matrix','tpr','fpr'])\n",
    "\n",
    "# Print the DataFrame without confusion matrix\n",
    "print(\"Metrics DataFrame without Confusion Matrix:\")\n",
    "print(pd.DataFrame(metrics_df_no_confusion))\n",
    "print()"
   ]
  },
  {
   "cell_type": "markdown",
   "metadata": {},
   "source": [
    "## AUC"
   ]
  },
  {
   "cell_type": "code",
   "execution_count": 17,
   "metadata": {},
   "outputs": [
    {
     "data": {
      "image/png": "[encoded data removed]",
      "text/plain": [
       "<Figure size 1000x600 with 1 Axes>"
      ]
     },
     "metadata": {},
     "output_type": "display_data"
    }
   ],
   "source": [
    "plt.figure(figsize=(10, 6))\n",
    "for model_name, metrics in evaluation_metrics.items():\n",
    "    fpr = metrics['fpr']\n",
    "    tpr = metrics['tpr']\n",
    "    roc_auc = metrics['ROC AUC']\n",
    "    plt.plot(fpr, tpr, label=model_name + f' (ROC AUC = {roc_auc:.2f})')\n",
    "\n",
    "plt.plot([0, 1], [0, 1], linestyle='--', color='gray')\n",
    "plt.xlabel('False Positive Rate')\n",
    "plt.ylabel('True Positive Rate')\n",
    "plt.title('ROC Curve for Different Models')\n",
    "plt.legend(loc='lower right')\n",
    "plt.grid(True)\n",
    "plt.show()\n"
   ]
  },
  {
   "cell_type": "markdown",
   "metadata": {},
   "source": [
    "## Confusion Matix"
   ]
  },
  {
   "cell_type": "code",
   "execution_count": 18,
   "metadata": {},
   "outputs": [
    {
     "name": "stdout",
     "output_type": "stream",
     "text": [
      "Confusion Matrices:\n"
     ]
    },
    {
     "data": {
      "image/png": "[encoded data removed]",
      "text/plain": [
       "<Figure size 1600x1200 with 4 Axes>"
      ]
     },
     "metadata": {},
     "output_type": "display_data"
    }
   ],
   "source": [
    "import matplotlib.pyplot as plt\n",
    "import seaborn as sns\n",
    "\n",
    "# Plotting confusion matrices for each model\n",
    "plt.figure(figsize=(16, 12))\n",
    "\n",
    "# Print each confusion matrix separately\n",
    "print(\"Confusion Matrices:\")\n",
    "for i, (model_name, metrics) in enumerate(evaluation_metrics.items(), 1):\n",
    "    \n",
    "    plt.subplot(2, 2, i)\n",
    "    sns.heatmap(metrics['Confusion Matrix'], annot=True, fmt='g', cmap='Blues', cbar=False, linewidths=0.5, linecolor='gray')\n",
    "    plt.title(model_name)\n",
    "    plt.xlabel('Predicted labels')\n",
    "    plt.ylabel('True labels')\n",
    "\n",
    "plt.tight_layout()  # Adjust spacing between subplots for better layout\n",
    "plt.show()\n"
   ]
  },
  {
   "cell_type": "markdown",
   "metadata": {},
   "source": [
    "# Conclusion"
   ]
  },
  {
   "cell_type": "markdown",
   "metadata": {},
   "source": [
    "We have opted for the Ensemble model as our top-performing choice, driven by its higher recall value and F1 score. The ensemble approach, as discussed earlier, utilises a bias correction to maximise recall, albeit potentially decreasing precision. Recall, in the context of fraud detection, signifies the model's proficiency in accurately flagging fraudulent instances, thereby minimising false negatives and capturing fraudulent activities effectively. Conversely, precision denotes the model's precision in identifying fraudulent cases among all predicted positives. \n",
    "While both precision and recall hold significance in evaluation, we prioritise recall given the paramount importance of detecting bank fraud w, outweighing the resource costs associated with validating fraud instances."
   ]
  }
 ],
 "metadata": {
  "kernelspec": {
   "display_name": "Python 3",
   "language": "python",
   "name": "python3"
  },
  "language_info": {
   "codemirror_mode": {
    "name": "ipython",
    "version": 3
   },
   "file_extension": ".py",
   "mimetype": "text/x-python",
   "name": "python",
   "nbconvert_exporter": "python",
   "pygments_lexer": "ipython3",
   "version": "3.10.8"
  }
 },
 "nbformat": 4,
 "nbformat_minor": 2
}
