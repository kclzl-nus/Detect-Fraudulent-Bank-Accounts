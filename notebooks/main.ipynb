{
 "cells": [
  {
   "cell_type": "markdown",
   "metadata": {},
   "source": [
    "# Install required packages"
   ]
  },
  {
   "cell_type": "code",
   "execution_count": null,
   "metadata": {},
   "outputs": [],
   "source": []
  },
  {
   "cell_type": "markdown",
   "metadata": {},
   "source": [
    "# Import required packages"
   ]
  },
  {
   "cell_type": "code",
   "execution_count": 22,
   "metadata": {},
   "outputs": [],
   "source": [
    "import sys\n",
    "import pandas as pd\n",
    "import numpy as np\n",
    "import matplotlib.pyplot as plt\n",
    "import seaborn as sns\n",
    "import pickle\n",
    "from sklearn.metrics import accuracy_score, precision_score, recall_score, f1_score, confusion_matrix, roc_curve, auc\n",
    "\n",
    "import warnings\n",
    "from IPython.display import display"
   ]
  },
  {
   "cell_type": "markdown",
   "metadata": {},
   "source": [
    "## Import dataset and data preprocessing\n",
    "\n",
    "This section includes:\n",
    "+ Downloading data from kaggle (_Note: In order to download dataset from Kaggle, you must first setup KaggleAPI._)\n",
    "+ Data preprocessing\n",
    "    + Conversion of Variable Data Types\n",
    "    + Removal of Irrelevant Variables\n",
    "    + Handling of Missing Variables\n",
    "    + Undersampling of Imbalanced Dataset\n",
    "\n",
    "For in-depth analysis on data preprocessing, pleas refer to [Data Preprocessing Notebook](./1.0-data-preprocessing.ipynb)."
   ]
  },
  {
   "cell_type": "markdown",
   "metadata": {},
   "source": [
    "### Setting up KaggleAPI\n",
    "\n",
    "In order to use the Kaggle’s public API, you must first authenticate using an API token.\n",
    "\n",
    "On Kaggle, go to 'Your Profile' > 'Settings' > 'Account' tab > 'API' section and select 'Create New Token'. This will trigger the download of `kaggle.json`, a file containing your API credentials.\n",
    "\n",
    "If you are using the Kaggle CLI tool, the tool will look for this token at `~/.kaggle/kaggle.json` on Linux, OSX, and other UNIX-based operating systems, and at `C:\\Users\\<Windows-username>\\.kaggle\\kaggle.json` on Windows. If the token is not there, an error will be raised. Hence, once you’ve downloaded the token, you should move it from your Downloads folder to this folder.\n",
    "\n",
    "If you are using the Kaggle API directly, where you keep the token doesn’t matter, so long as you are able to provide your credentials at runtime."
   ]
  },
  {
   "cell_type": "markdown",
   "metadata": {},
   "source": [
    "### Running import and preprocessing script"
   ]
  },
  {
   "cell_type": "code",
   "execution_count": 2,
   "metadata": {},
   "outputs": [
    {
     "name": "stdout",
     "output_type": "stream",
     "text": [
      "Base.csv found. Skipping the download and extraction process...\n",
      "Data Preprocessing...\n",
      "Data Preprocessing completed successfully. Data saved to 'data/processed/undersampled_data.csv'.\n",
      "Splitting the dataset into train-test subset...\n",
      "Train-test split completed successfully. Data saved to 'data/processed/X_train.csv', 'data/processed/X_test.csv', 'data/processed/y_train.csv', and 'data/processed/y_test.csv'.\n"
     ]
    }
   ],
   "source": [
    "sys.path.append('../scripts')\n",
    "import data_preprocessing\n",
    "\n",
    "data_preprocessing.data_preprocessing()"
   ]
  },
  {
   "cell_type": "code",
   "execution_count": 10,
   "metadata": {},
   "outputs": [],
   "source": [
    "# Read the CSV file into a DataFrame\n",
    "X_test = pd.read_csv('../data/processed/X_test.csv')\n",
    "y_test = pd.read_csv('../data/processed/y_test.csv')"
   ]
  },
  {
   "cell_type": "markdown",
   "metadata": {},
   "source": [
    "## Feature Enginnering\n",
    "\n",
    "New features are engineered and introduced into the dataset:\n",
    "\n",
    "Hypothesis - **Device Activity** ([Hypothesis - Device Activity Notebook](./3.0-hypothesis-device-activity.ipynb))\n",
    "+ `FE_01_device_os_emails_prob`\n",
    "+ `FE_02_keep_alive_device_emails_prob`\n",
    "+ `FE_03_source_foreign_request_prob`\n",
    "+ `FE_04_device_os_foreign_request_prob`\n",
    "+ `FE_05_device_os_prob`\n",
    "\n",
    "Hypothesis - **K Means** ([Hypothesis - K Means Notebook](./3.0-hypothesis-account-kmeans.ipynb))\n",
    "+ `have_prev_address`\n",
    "+ `have_initial_bal`\n",
    "+ `bank_integration`\n",
    "+ `income_credit_limit_ratio`\n",
    "+ `kmeans_prob`\n",
    "\n",
    "Hypothesis - **Distinct Email Same DOB** ([Hypothesis - Distinct Email Same DOB Notebook](./3.0-hypothesis-distinct-email-same-dob.ipynb))\n",
    "+ `emails_bin`\n",
    "+ `name_email_similarity_bins`\n",
    "\n",
    "Hypothesis - **Session Length** ([Hypothesis - Session Length Notebook](./3.0-hypothesis-session-length.ipynb))\n",
    "+ `session_length_bins`"
   ]
  },
  {
   "cell_type": "markdown",
   "metadata": {},
   "source": [
    "### Running feature engineering script"
   ]
  },
  {
   "cell_type": "code",
   "execution_count": 11,
   "metadata": {},
   "outputs": [
    {
     "name": "stdout",
     "output_type": "stream",
     "text": [
      "Feature 1 created.\n",
      "Feature 1 created.\n",
      "Feature 3 created.\n",
      "Feature 4 created.\n",
      "Feature 5 created.\n",
      "Features for Device Activity Hypothesis generated.\n"
     ]
    }
   ],
   "source": [
    "sys.path.append('../scripts')\n",
    "import feature_engineering\n",
    "\n",
    "# Suppress warnings\n",
    "warnings.filterwarnings(\"ignore\")\n",
    "\n",
    "X_test_FE, y_test_FE = feature_engineering.feature_engineer(X_test, y_test)\n",
    "\n",
    "# Reset warnings settings\n",
    "warnings.resetwarnings()"
   ]
  },
  {
   "cell_type": "markdown",
   "metadata": {},
   "source": [
    "# Models"
   ]
  },
  {
   "cell_type": "markdown",
   "metadata": {},
   "source": [
    "## Baseline Model\n",
    "\n",
    "For our Baseline model, we employed a logistic regression approach to train on the entire dataset, with categorical variables one-hot encoded. Additionally, we implemented K-fold cross-validation during both model training and evaluation stages.\n",
    "\n",
    "For more details on model training, refer to [Baseline Model Notebook](./4.0-baseline-model.ipynb)."
   ]
  },
  {
   "cell_type": "markdown",
   "metadata": {},
   "source": [
    "### One-hot encoding for categorical variable in test dataset"
   ]
  },
  {
   "cell_type": "code",
   "execution_count": 12,
   "metadata": {},
   "outputs": [
    {
     "name": "stdout",
     "output_type": "stream",
     "text": [
      "<class 'pandas.core.frame.DataFrame'>\n",
      "RangeIndex: 13194 entries, 0 to 13193\n",
      "Data columns (total 51 columns):\n",
      " #   Column                            Non-Null Count  Dtype  \n",
      "---  ------                            --------------  -----  \n",
      " 0   income                            13194 non-null  float64\n",
      " 1   name_email_similarity             13194 non-null  float64\n",
      " 2   prev_address_months_count         13194 non-null  int64  \n",
      " 3   current_address_months_count      13194 non-null  int64  \n",
      " 4   customer_age                      13194 non-null  int64  \n",
      " 5   days_since_request                13194 non-null  float64\n",
      " 6   intended_balcon_amount            13194 non-null  float64\n",
      " 7   zip_count_4w                      13194 non-null  int64  \n",
      " 8   velocity_6h                       13194 non-null  float64\n",
      " 9   velocity_24h                      13194 non-null  float64\n",
      " 10  velocity_4w                       13194 non-null  float64\n",
      " 11  bank_branch_count_8w              13194 non-null  int64  \n",
      " 12  date_of_birth_distinct_emails_4w  13194 non-null  int64  \n",
      " 13  credit_risk_score                 13194 non-null  int64  \n",
      " 14  email_is_free                     13194 non-null  int64  \n",
      " 15  phone_home_valid                  13194 non-null  int64  \n",
      " 16  phone_mobile_valid                13194 non-null  int64  \n",
      " 17  bank_months_count                 13194 non-null  int64  \n",
      " 18  has_other_cards                   13194 non-null  int64  \n",
      " 19  proposed_credit_limit             13194 non-null  float64\n",
      " 20  foreign_request                   13194 non-null  int64  \n",
      " 21  session_length_in_minutes         13194 non-null  float64\n",
      " 22  keep_alive_session                13194 non-null  int64  \n",
      " 23  device_distinct_emails_8w         13194 non-null  int64  \n",
      " 24  month                             13194 non-null  int64  \n",
      " 25  payment_type_AA                   13194 non-null  uint8  \n",
      " 26  payment_type_AB                   13194 non-null  uint8  \n",
      " 27  payment_type_AC                   13194 non-null  uint8  \n",
      " 28  payment_type_AD                   13194 non-null  uint8  \n",
      " 29  payment_type_AE                   13194 non-null  uint8  \n",
      " 30  employment_status_CA              13194 non-null  uint8  \n",
      " 31  employment_status_CB              13194 non-null  uint8  \n",
      " 32  employment_status_CC              13194 non-null  uint8  \n",
      " 33  employment_status_CD              13194 non-null  uint8  \n",
      " 34  employment_status_CE              13194 non-null  uint8  \n",
      " 35  employment_status_CF              13194 non-null  uint8  \n",
      " 36  employment_status_CG              13194 non-null  uint8  \n",
      " 37  housing_status_BA                 13194 non-null  uint8  \n",
      " 38  housing_status_BB                 13194 non-null  uint8  \n",
      " 39  housing_status_BC                 13194 non-null  uint8  \n",
      " 40  housing_status_BD                 13194 non-null  uint8  \n",
      " 41  housing_status_BE                 13194 non-null  uint8  \n",
      " 42  housing_status_BF                 13194 non-null  uint8  \n",
      " 43  housing_status_BG                 13194 non-null  uint8  \n",
      " 44  source_INTERNET                   13194 non-null  uint8  \n",
      " 45  source_TELEAPP                    13194 non-null  uint8  \n",
      " 46  device_os_linux                   13194 non-null  uint8  \n",
      " 47  device_os_macintosh               13194 non-null  uint8  \n",
      " 48  device_os_other                   13194 non-null  uint8  \n",
      " 49  device_os_windows                 13194 non-null  uint8  \n",
      " 50  device_os_x11                     13194 non-null  uint8  \n",
      "dtypes: float64(9), int64(16), uint8(26)\n",
      "memory usage: 2.8 MB\n"
     ]
    }
   ],
   "source": [
    "### One-hot encoding of categorical features\n",
    "# Split categorical and non-categorical variables\n",
    "bm_test_cat = X_test.select_dtypes(include='object')\n",
    "bm_test_non_cat = X_test.select_dtypes(exclude='object')\n",
    "\n",
    "# Perform one-hot encoding on categorical variables\n",
    "bm_test_one_hot_encoded = pd.get_dummies(bm_test_cat)\n",
    "\n",
    "# Combine the non-categorical and one-hot encoded categorical variables\n",
    "bm_X_test = pd.concat([bm_test_non_cat, bm_test_one_hot_encoded], axis=1)\n",
    "\n",
    "bm_X_test.info()"
   ]
  },
  {
   "cell_type": "code",
   "execution_count": 13,
   "metadata": {},
   "outputs": [
    {
     "name": "stderr",
     "output_type": "stream",
     "text": [
      "c:\\Users\\boomm\\AppData\\Local\\Programs\\Python\\Python310\\lib\\site-packages\\pandas\\core\\dtypes\\cast.py:1641: DeprecationWarning: np.find_common_type is deprecated.  Please use `np.result_type` or `np.promote_types`.\n",
      "See https://numpy.org/devdocs/release/1.25.0-notes.html and the docs for more information.  (Deprecated NumPy 1.25)\n",
      "  return np.find_common_type(types, [])\n"
     ]
    }
   ],
   "source": [
    "## Import trained model\n",
    "with open('../models/baseline_model.pkl', 'rb') as file:\n",
    "    baseline_model = pickle.load(file)\n",
    "\n",
    "## Use the trained model to make predictions on the test set\n",
    "bm_pred = baseline_model.predict(bm_X_test)\n",
    "\n",
    "## Evaluate the performance of the baseline_model\n",
    "# Compute accuracy\n",
    "bm_accuracy = accuracy_score(y_test, bm_pred)\n",
    "# Compute precision\n",
    "bm_precision = precision_score(y_test, bm_pred)\n",
    "# Compute recall\n",
    "bm_recall = recall_score(y_test, bm_pred)\n",
    "# Compute F1 score\n",
    "bm_f1 = f1_score(y_test, bm_pred)\n",
    "\n",
    "# Compute ROC curve and AUC\n",
    "bm_fpr, bm_tpr, bm_thresholds = roc_curve(y_test, bm_pred)\n",
    "bm_roc_auc = auc(bm_fpr, bm_tpr)\n",
    "\n",
    "# Compute confusion matrix\n",
    "bm_conf_matrix = confusion_matrix(y_test, bm_pred)\n"
   ]
  },
  {
   "cell_type": "markdown",
   "metadata": {},
   "source": [
    "## Challenger Model\n",
    "\n",
    "For more details on model selection, selection and training, refer to [Challenger Model Notebook](./4.1-challenger-model.ipynb).\n"
   ]
  },
  {
   "cell_type": "markdown",
   "metadata": {},
   "source": [
    "## Challenger Model 1\n",
    "\n",
    "Gradient boost + cross validation with features:\n",
    "+\n",
    "+\n",
    "+"
   ]
  },
  {
   "cell_type": "markdown",
   "metadata": {},
   "source": [
    "### Extract features for challenger model 1"
   ]
  },
  {
   "cell_type": "code",
   "execution_count": null,
   "metadata": {},
   "outputs": [],
   "source": [
    "# Extract features for challenger model 1\n",
    "cm1_features = [\n",
    "\n",
    "]\n",
    "\n",
    "cm1_X_test = X_test_FE.loc[:, cm1_features]\n",
    "cm1_y_test = y_test_FE"
   ]
  },
  {
   "cell_type": "markdown",
   "metadata": {},
   "source": [
    "### One-hot encoding for categorical variable in test dataset"
   ]
  },
  {
   "cell_type": "code",
   "execution_count": null,
   "metadata": {},
   "outputs": [],
   "source": []
  },
  {
   "cell_type": "code",
   "execution_count": null,
   "metadata": {},
   "outputs": [],
   "source": [
    "## Import trained model\n",
    "with open('../models/challenger_model1.pkl', 'rb') as file:\n",
    "    challenger_model1 = pickle.load(file)\n",
    "\n",
    "## Use the trained model to make predictions on the test set\n",
    "cm1_pred = challenger_model1.predict(cm1_X_test)\n",
    "\n",
    "## Evaluate the performance of the baseline_model\n",
    "# Compute accuracy\n",
    "cm1_accuracy = accuracy_score(cm1_y_test, cm1_pred)\n",
    "# Compute precision\n",
    "cm1_precision = precision_score(cm1_y_test, cm1_pred)\n",
    "# Compute recall\n",
    "cm1_recall = recall_score(cm1_y_test, cm1_pred)\n",
    "# Compute F1 score\n",
    "cm1_f1 = f1_score(cm1_y_test, cm1_pred)\n",
    "\n",
    "# Compute ROC curve and AUC\n",
    "cm1_fpr, cm1_tpr, cm1_thresholds = roc_curve(cm1_y_test, cm1_pred)\n",
    "cm1_roc_auc = auc(cm1_fpr, cm1_tpr)\n",
    "\n",
    "# Compute confusion matrix\n",
    "cm1_conf_matrix = confusion_matrix(cm1_y_test, cm1_pred)"
   ]
  },
  {
   "cell_type": "markdown",
   "metadata": {},
   "source": [
    "## Challenger Model 2\n",
    "\n",
    "Gradient boost + cross validation with features:\n",
    "+ \n",
    "+ \n",
    "+ "
   ]
  },
  {
   "cell_type": "markdown",
   "metadata": {},
   "source": [
    "### Extract features for challenger model 1"
   ]
  },
  {
   "cell_type": "code",
   "execution_count": 14,
   "metadata": {},
   "outputs": [],
   "source": [
    "# Extract features for challenger model 1\n",
    "cm2_features = [\n",
    "\n",
    "]\n",
    "\n",
    "cm2_X_test = X_test_FE.loc[:, cm2_features]\n",
    "cm2_y_test = y_test_FE"
   ]
  },
  {
   "cell_type": "markdown",
   "metadata": {},
   "source": [
    "### One-hot encoding for categorical variable in test dataset"
   ]
  },
  {
   "cell_type": "code",
   "execution_count": null,
   "metadata": {},
   "outputs": [],
   "source": []
  },
  {
   "cell_type": "code",
   "execution_count": null,
   "metadata": {},
   "outputs": [],
   "source": [
    "## Import trained model\n",
    "with open('../models/challenger_model2.pkl', 'rb') as file:\n",
    "    challenger_model2 = pickle.load(file)\n",
    "\n",
    "## Use the trained model to make predictions on the test set\n",
    "cm2_pred = challenger_model2.predict(cm2_y_test)\n",
    "\n",
    "## Evaluate the performance of the baseline_model\n",
    "# Compute accuracy\n",
    "cm2_accuracy = accuracy_score(cm2_y_test, cm2_pred)\n",
    "# Compute precision\n",
    "cm2_precision = precision_score(cm2_y_test, cm2_pred)\n",
    "# Compute recall\n",
    "cm2_recall = recall_score(cm2_y_test, cm2_pred)\n",
    "# Compute F1 score\n",
    "cm2_f1 = f1_score(cm2_y_test, cm2_pred)\n",
    "\n",
    "# Compute ROC curve and AUC\n",
    "cm2_fpr, cm2_tpr, cm2_thresholds = roc_curve(cm2_y_test, cm2_pred)\n",
    "cm2_roc_auc = auc(cm2_fpr, cm2_tpr)\n",
    "\n",
    "# Compute confusion matrix\n",
    "cm2_conf_matrix = confusion_matrix(cm2_y_test, cm2_pred)"
   ]
  },
  {
   "cell_type": "markdown",
   "metadata": {},
   "source": [
    "## Model Ensemble"
   ]
  },
  {
   "cell_type": "code",
   "execution_count": null,
   "metadata": {},
   "outputs": [],
   "source": []
  },
  {
   "cell_type": "markdown",
   "metadata": {},
   "source": [
    "# Results"
   ]
  },
  {
   "cell_type": "markdown",
   "metadata": {},
   "source": [
    "## Evaluation Metrics\n",
    "\n",
    "(accuracy, precision, recall, F1 score)"
   ]
  },
  {
   "cell_type": "code",
   "execution_count": 18,
   "metadata": {},
   "outputs": [
    {
     "data": {
      "text/html": [
       "<div>\n",
       "<style scoped>\n",
       "    .dataframe tbody tr th:only-of-type {\n",
       "        vertical-align: middle;\n",
       "    }\n",
       "\n",
       "    .dataframe tbody tr th {\n",
       "        vertical-align: top;\n",
       "    }\n",
       "\n",
       "    .dataframe thead th {\n",
       "        text-align: right;\n",
       "    }\n",
       "</style>\n",
       "<table border=\"1\" class=\"dataframe\">\n",
       "  <thead>\n",
       "    <tr style=\"text-align: right;\">\n",
       "      <th></th>\n",
       "      <th>Model</th>\n",
       "      <th>Accuracy</th>\n",
       "      <th>Precision</th>\n",
       "      <th>Recall</th>\n",
       "      <th>F1 Score</th>\n",
       "    </tr>\n",
       "  </thead>\n",
       "  <tbody>\n",
       "    <tr>\n",
       "      <th>0</th>\n",
       "      <td>Baseline</td>\n",
       "      <td>0.844399</td>\n",
       "      <td>0.586255</td>\n",
       "      <td>0.192096</td>\n",
       "      <td>0.289373</td>\n",
       "    </tr>\n",
       "    <tr>\n",
       "      <th>1</th>\n",
       "      <td>Challenger Model 1</td>\n",
       "      <td>1.000000</td>\n",
       "      <td>1.000000</td>\n",
       "      <td>1.000000</td>\n",
       "      <td>1.000000</td>\n",
       "    </tr>\n",
       "    <tr>\n",
       "      <th>2</th>\n",
       "      <td>Challenger Model 2</td>\n",
       "      <td>1.000000</td>\n",
       "      <td>1.000000</td>\n",
       "      <td>1.000000</td>\n",
       "      <td>1.000000</td>\n",
       "    </tr>\n",
       "    <tr>\n",
       "      <th>3</th>\n",
       "      <td>Ensemble Model</td>\n",
       "      <td>1.000000</td>\n",
       "      <td>1.000000</td>\n",
       "      <td>1.000000</td>\n",
       "      <td>1.000000</td>\n",
       "    </tr>\n",
       "  </tbody>\n",
       "</table>\n",
       "</div>"
      ],
      "text/plain": [
       "                Model  Accuracy  Precision    Recall  F1 Score\n",
       "0            Baseline  0.844399   0.586255  0.192096  0.289373\n",
       "1  Challenger Model 1  1.000000   1.000000  1.000000  1.000000\n",
       "2  Challenger Model 2  1.000000   1.000000  1.000000  1.000000\n",
       "3      Ensemble Model  1.000000   1.000000  1.000000  1.000000"
      ]
     },
     "execution_count": 18,
     "metadata": {},
     "output_type": "execute_result"
    }
   ],
   "source": [
    "# bm_accuracy\n",
    "# bm_precision\n",
    "# bm_recall\n",
    "# bm_f1\n",
    "\n",
    "cm1_accuracy = 1\n",
    "cm1_precision = 1\n",
    "cm1_recall = 1\n",
    "cm1_f1 = 1\n",
    "\n",
    "cm2_accuracy = 1\n",
    "cm2_precision = 1\n",
    "cm2_recall = 1\n",
    "cm2_f1 = 1\n",
    "\n",
    "em_accuracy = 1\n",
    "em_precision = 1\n",
    "em_recall = 1\n",
    "em_f1 = 1\n",
    "\n",
    "data = {\n",
    "    'Model': ['Baseline', 'Challenger Model 1', 'Challenger Model 2', 'Ensemble Model'],\n",
    "    'Accuracy': [bm_accuracy, cm1_accuracy, cm2_accuracy, em_accuracy],\n",
    "    'Precision': [bm_precision, cm1_precision, cm2_precision, em_precision],\n",
    "    'Recall': [bm_recall, cm1_recall, cm2_recall, em_recall],\n",
    "    'F1 Score': [bm_f1, cm1_f1, cm2_f1, em_f1]\n",
    "}\n",
    "\n",
    "# Create the DataFrame\n",
    "metrics_df = pd.DataFrame(data)\n",
    "\n",
    "# Display the DataFrame\n",
    "metrics_df"
   ]
  },
  {
   "cell_type": "markdown",
   "metadata": {},
   "source": [
    "## AUC"
   ]
  },
  {
   "cell_type": "code",
   "execution_count": 21,
   "metadata": {},
   "outputs": [
    {
     "data": {
      "image/png": "[encoded data removed]",
      "text/plain": [
       "<Figure size 1000x600 with 1 Axes>"
      ]
     },
     "metadata": {},
     "output_type": "display_data"
    }
   ],
   "source": [
    "plt.figure(figsize=(10, 6))\n",
    "plt.plot(bm_fpr, bm_tpr, lw=2, label='Baseline: ROC curve (area = %0.2f)' % bm_roc_auc)\n",
    "# plt.plot(cm1_fpr, cm1_tpr, lw=2, label='Challenger 1: ROC curve (area = %0.2f)' % cm1_roc_auc)\n",
    "# plt.plot(cm2_fpr, cm2_tpr, lw=2, label='Challenger 2: ROC curve (area = %0.2f)' % cm2_roc_auc)\n",
    "# plt.plot(em_fpr, em_tpr, lw=2, label='Ensemble: ROC curve (area = %0.2f)' % em_roc_auc)\n",
    "plt.plot([0, 1], [0, 1], color='navy', lw=2, linestyle='--')\n",
    "plt.xlim([0.0, 1.0])\n",
    "plt.ylim([0.0, 1.05])\n",
    "plt.xlabel('False Positive Rate')\n",
    "plt.ylabel('True Positive Rate')\n",
    "plt.title('Receiver Operating Characteristic (ROC)')\n",
    "plt.legend(loc=\"lower right\")\n",
    "plt.show()"
   ]
  },
  {
   "cell_type": "markdown",
   "metadata": {},
   "source": [
    "## Confusion Matix"
   ]
  },
  {
   "cell_type": "code",
   "execution_count": 30,
   "metadata": {},
   "outputs": [
    {
     "data": {
      "image/png": "[encoded data removed]",
      "text/plain": [
       "<Figure size 1000x1000 with 4 Axes>"
      ]
     },
     "metadata": {},
     "output_type": "display_data"
    }
   ],
   "source": [
    "plt.figure(figsize=(10, 10))\n",
    "\n",
    "plt.subplot(2, 2, 1)\n",
    "sns.heatmap(bm_conf_matrix, annot=True, fmt='g', cmap='Blues', cbar=False, linewidths=0.5, linecolor='gray')\n",
    "plt.title('Baseline Model')\n",
    "plt.xlabel('Predicted labels')\n",
    "plt.ylabel('True labels')\n",
    "\n",
    "plt.subplot(2, 2, 2)\n",
    "# sns.heatmap(cm1_conf_matrix, annot=True, fmt='g', cmap='Blues', cbar=False, linewidths=0.5, linecolor='gray')\n",
    "sns.heatmap(bm_conf_matrix, annot=True, fmt='g', cmap='Blues', cbar=False, linewidths=0.5, linecolor='gray')\n",
    "plt.title('Challenger Model 1')\n",
    "plt.xlabel('Predicted labels')\n",
    "plt.ylabel('True labels')\n",
    "\n",
    "plt.subplot(2, 2, 3)\n",
    "# sns.heatmap(cm2_conf_matrix, annot=True, fmt='g', cmap='Blues', cbar=False, linewidths=0.5, linecolor='gray')\n",
    "sns.heatmap(bm_conf_matrix, annot=True, fmt='g', cmap='Blues', cbar=False, linewidths=0.5, linecolor='gray')\n",
    "plt.title('Challenger Model 2')\n",
    "plt.xlabel('Predicted labels')\n",
    "plt.ylabel('True labels')\n",
    "\n",
    "plt.subplot(2, 2, 4)\n",
    "# sns.heatmap(em_conf_matrix, annot=True, fmt='g', cmap='Blues', cbar=False, linewidths=0.5, linecolor='gray')\n",
    "sns.heatmap(bm_conf_matrix, annot=True, fmt='g', cmap='Blues', cbar=False, linewidths=0.5, linecolor='gray')\n",
    "plt.title('Ensemble Model')\n",
    "plt.xlabel('Predicted labels')\n",
    "plt.ylabel('True labels')\n",
    "\n",
    "plt.tight_layout()  # Adjust spacing between subplots for better layout\n",
    "plt.show()"
   ]
  },
  {
   "cell_type": "markdown",
   "metadata": {},
   "source": [
    "# Conclusion"
   ]
  },
  {
   "cell_type": "markdown",
   "metadata": {},
   "source": []
  }
 ],
 "metadata": {
  "kernelspec": {
   "display_name": "Python 3",
   "language": "python",
   "name": "python3"
  },
  "language_info": {
   "codemirror_mode": {
    "name": "ipython",
    "version": 3
   },
   "file_extension": ".py",
   "mimetype": "text/x-python",
   "name": "python",
   "nbconvert_exporter": "python",
   "pygments_lexer": "ipython3",
   "version": "3.10.4"
  }
 },
 "nbformat": 4,
 "nbformat_minor": 2
}
