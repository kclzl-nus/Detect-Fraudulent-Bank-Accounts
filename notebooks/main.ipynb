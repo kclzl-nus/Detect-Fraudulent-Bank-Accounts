{
 "cells": [
  {
   "cell_type": "markdown",
   "metadata": {},
   "source": [
    "# Install required packages"
   ]
  },
  {
   "cell_type": "code",
   "execution_count": null,
   "metadata": {},
   "outputs": [],
   "source": []
  },
  {
   "cell_type": "markdown",
   "metadata": {},
   "source": [
    "# Import required packages"
   ]
  },
  {
   "cell_type": "code",
   "execution_count": 24,
   "metadata": {},
   "outputs": [],
   "source": [
    "import sys\n",
    "import pandas as pd\n",
    "import numpy as np\n",
    "import matplotlib.pyplot as plt\n",
    "import seaborn as sns\n",
    "import pickle\n",
    "from sklearn.metrics import accuracy_score, precision_score, recall_score, f1_score, confusion_matrix, roc_curve, auc\n",
    "\n",
    "import warnings\n",
    "from IPython.display import display"
   ]
  },
  {
   "cell_type": "markdown",
   "metadata": {},
   "source": [
    "## Import dataset and data preprocessing\n",
    "\n",
    "This section includes:\n",
    "+ Downloading data from kaggle (_Note: In order to download dataset from Kaggle, you must first setup KaggleAPI._)\n",
    "+ Data preprocessing\n",
    "    + Removal of Irrelevant Variables\n",
    "    + Handling of Missing Variables\n",
    "    + Undersampling of Imbalanced Dataset\n",
    "\n",
    "For in-depth analysis on data preprocessing, please refer to [Data Preprocessing Notebook](./1.0-data-preprocessing.ipynb)."
   ]
  },
  {
   "cell_type": "markdown",
   "metadata": {},
   "source": [
    "### Setting up KaggleAPI\n",
    "\n",
    "In order to use the Kaggle’s public API, you must first authenticate using an API token.\n",
    "\n",
    "On Kaggle, go to 'Your Profile' > 'Settings' > 'Account' tab > 'API' section and select 'Create New Token'. This will trigger the download of `kaggle.json`, a file containing your API credentials.\n",
    "\n",
    "If you are using the Kaggle CLI tool, the tool will look for this token at `~/.kaggle/kaggle.json` on Linux, OSX, and other UNIX-based operating systems, and at `C:\\Users\\<Windows-username>\\.kaggle\\kaggle.json` on Windows. If the token is not there, an error will be raised. Hence, once you’ve downloaded the token, you should move it from your Downloads folder to this folder.\n",
    "\n",
    "If you are using the Kaggle API directly, where you keep the token doesn’t matter, so long as you are able to provide your credentials at runtime."
   ]
  },
  {
   "cell_type": "markdown",
   "metadata": {},
   "source": [
    "### Running import and preprocessing script"
   ]
  },
  {
   "cell_type": "code",
   "execution_count": 25,
   "metadata": {},
   "outputs": [
    {
     "name": "stdout",
     "output_type": "stream",
     "text": [
      "Base.csv found. Skipping the download and extraction process...\n",
      "Data Preprocessing...\n",
      "Data Preprocessing completed successfully. Data saved to 'data/processed/undersampled_data.csv'.\n",
      "Splitting the dataset into train-test subset...\n",
      "Train-test split completed successfully. Data saved to 'data/processed/X_train.csv', 'data/processed/X_test.csv', 'data/processed/y_train.csv', and 'data/processed/y_test.csv'.\n"
     ]
    }
   ],
   "source": [
    "sys.path.append('../scripts')\n",
    "import data_preprocessing\n",
    "\n",
    "data_preprocessing.data_preprocessing()"
   ]
  },
  {
   "cell_type": "code",
   "execution_count": 26,
   "metadata": {},
   "outputs": [],
   "source": [
    "# Read the CSV file into a DataFrame\n",
    "X_test = pd.read_csv('../data/processed/X_test.csv')\n",
    "y_test = pd.read_csv('../data/processed/y_test.csv')"
   ]
  },
  {
   "cell_type": "markdown",
   "metadata": {},
   "source": [
    "## Feature Enginnering\n",
    "\n",
    "New features are engineered and introduced into the dataset:\n",
    "\n",
    "Hypothesis - **Device Activity** ([Hypothesis - Device Activity Notebook](./3.0-hypothesis-device-activity.ipynb))\n",
    "+ `FE_01_device_os_emails_prob`\n",
    "+ `FE_02_keep_alive_device_emails_prob`\n",
    "+ `FE_03_source_foreign_request_prob`\n",
    "+ `FE_04_device_os_foreign_request_prob`\n",
    "+ `FE_05_device_os_prob`\n",
    "\n",
    "Hypothesis - **K Means** ([Hypothesis - K Means Notebook](./3.0-hypothesis-account-kmeans.ipynb))\n",
    "+ `have_prev_address`\n",
    "+ `have_initial_bal`\n",
    "+ `bank_integration`\n",
    "+ `income_credit_limit_ratio`\n",
    "+ `kmeans_prob`\n",
    "\n",
    "Hypothesis - **Distinct Email Same DOB** ([Hypothesis - Distinct Email Same DOB Notebook](./3.0-hypothesis-distinct-email-same-dob.ipynb))\n",
    "+ `emails_bin`\n",
    "+ `name_email_similarity_bins`\n",
    "\n",
    "Hypothesis - **Session Length** ([Hypothesis - Session Length Notebook](./3.0-hypothesis-session-length.ipynb))\n",
    "+ `session_length_bins`"
   ]
  },
  {
   "cell_type": "markdown",
   "metadata": {},
   "source": [
    "### Running feature engineering script"
   ]
  },
  {
   "cell_type": "code",
   "execution_count": 27,
   "metadata": {},
   "outputs": [
    {
     "name": "stdout",
     "output_type": "stream",
     "text": [
      "Feature 1 created.\n",
      "Feature 1 created.\n",
      "Feature 3 created.\n",
      "Feature 4 created.\n",
      "Features for Device Activity Hypothesis generated.\n"
     ]
    }
   ],
   "source": [
    "sys.path.append('../scripts')\n",
    "import feature_engineering\n",
    "\n",
    "# Suppress warnings\n",
    "warnings.filterwarnings(\"ignore\")\n",
    "\n",
    "X_test_FE, y_test_FE = feature_engineering.feature_engineer(X_test, y_test)\n",
    "\n",
    "# Reset warnings settings\n",
    "warnings.resetwarnings()"
   ]
  },
  {
   "cell_type": "markdown",
   "metadata": {},
   "source": [
    "# Fraud Detection Models"
   ]
  },
  {
   "cell_type": "markdown",
   "metadata": {},
   "source": [
    "## Baseline Model\n",
    "\n",
    "For our Baseline model, we employed a logistic regression approach to train on the entire dataset, with categorical variables one-hot encoded. Additionally, we implemented K-fold cross-validation during both model training and evaluation stages.\n",
    "\n",
    "For more details on model training, refer to [Baseline Model Notebook](./4.0-baseline-model.ipynb)."
   ]
  },
  {
   "cell_type": "markdown",
   "metadata": {},
   "source": [
    "### One-hot encoding for categorical variable in test dataset"
   ]
  },
  {
   "cell_type": "code",
   "execution_count": 28,
   "metadata": {},
   "outputs": [
    {
     "name": "stdout",
     "output_type": "stream",
     "text": [
      "<class 'pandas.core.frame.DataFrame'>\n",
      "RangeIndex: 13194 entries, 0 to 13193\n",
      "Data columns (total 51 columns):\n",
      " #   Column                            Non-Null Count  Dtype  \n",
      "---  ------                            --------------  -----  \n",
      " 0   income                            13194 non-null  float64\n",
      " 1   name_email_similarity             13194 non-null  float64\n",
      " 2   prev_address_months_count         13194 non-null  int64  \n",
      " 3   current_address_months_count      13194 non-null  int64  \n",
      " 4   customer_age                      13194 non-null  int64  \n",
      " 5   days_since_request                13194 non-null  float64\n",
      " 6   intended_balcon_amount            13194 non-null  float64\n",
      " 7   zip_count_4w                      13194 non-null  int64  \n",
      " 8   velocity_6h                       13194 non-null  float64\n",
      " 9   velocity_24h                      13194 non-null  float64\n",
      " 10  velocity_4w                       13194 non-null  float64\n",
      " 11  bank_branch_count_8w              13194 non-null  int64  \n",
      " 12  date_of_birth_distinct_emails_4w  13194 non-null  int64  \n",
      " 13  credit_risk_score                 13194 non-null  int64  \n",
      " 14  email_is_free                     13194 non-null  int64  \n",
      " 15  phone_home_valid                  13194 non-null  int64  \n",
      " 16  phone_mobile_valid                13194 non-null  int64  \n",
      " 17  bank_months_count                 13194 non-null  int64  \n",
      " 18  has_other_cards                   13194 non-null  int64  \n",
      " 19  proposed_credit_limit             13194 non-null  float64\n",
      " 20  foreign_request                   13194 non-null  int64  \n",
      " 21  session_length_in_minutes         13194 non-null  float64\n",
      " 22  keep_alive_session                13194 non-null  int64  \n",
      " 23  device_distinct_emails_8w         13194 non-null  int64  \n",
      " 24  month                             13194 non-null  int64  \n",
      " 25  payment_type_AA                   13194 non-null  uint8  \n",
      " 26  payment_type_AB                   13194 non-null  uint8  \n",
      " 27  payment_type_AC                   13194 non-null  uint8  \n",
      " 28  payment_type_AD                   13194 non-null  uint8  \n",
      " 29  payment_type_AE                   13194 non-null  uint8  \n",
      " 30  employment_status_CA              13194 non-null  uint8  \n",
      " 31  employment_status_CB              13194 non-null  uint8  \n",
      " 32  employment_status_CC              13194 non-null  uint8  \n",
      " 33  employment_status_CD              13194 non-null  uint8  \n",
      " 34  employment_status_CE              13194 non-null  uint8  \n",
      " 35  employment_status_CF              13194 non-null  uint8  \n",
      " 36  employment_status_CG              13194 non-null  uint8  \n",
      " 37  housing_status_BA                 13194 non-null  uint8  \n",
      " 38  housing_status_BB                 13194 non-null  uint8  \n",
      " 39  housing_status_BC                 13194 non-null  uint8  \n",
      " 40  housing_status_BD                 13194 non-null  uint8  \n",
      " 41  housing_status_BE                 13194 non-null  uint8  \n",
      " 42  housing_status_BF                 13194 non-null  uint8  \n",
      " 43  housing_status_BG                 13194 non-null  uint8  \n",
      " 44  source_INTERNET                   13194 non-null  uint8  \n",
      " 45  source_TELEAPP                    13194 non-null  uint8  \n",
      " 46  device_os_linux                   13194 non-null  uint8  \n",
      " 47  device_os_macintosh               13194 non-null  uint8  \n",
      " 48  device_os_other                   13194 non-null  uint8  \n",
      " 49  device_os_windows                 13194 non-null  uint8  \n",
      " 50  device_os_x11                     13194 non-null  uint8  \n",
      "dtypes: float64(9), int64(16), uint8(26)\n",
      "memory usage: 2.8 MB\n"
     ]
    }
   ],
   "source": [
    "### One-hot encoding of categorical features\n",
    "# Split categorical and non-categorical variables\n",
    "bm_test_cat = X_test.select_dtypes(include='object')\n",
    "bm_test_non_cat = X_test.select_dtypes(exclude='object')\n",
    "\n",
    "# Perform one-hot encoding on categorical variables\n",
    "bm_test_one_hot_encoded = pd.get_dummies(bm_test_cat)\n",
    "\n",
    "# Combine the non-categorical and one-hot encoded categorical variables\n",
    "bm_X_test = pd.concat([bm_test_non_cat, bm_test_one_hot_encoded], axis=1)\n",
    "\n",
    "bm_X_test.info()"
   ]
  },
  {
   "cell_type": "code",
   "execution_count": 29,
   "metadata": {},
   "outputs": [
    {
     "name": "stderr",
     "output_type": "stream",
     "text": [
      "c:\\Users\\boomm\\AppData\\Local\\Programs\\Python\\Python310\\lib\\site-packages\\pandas\\core\\dtypes\\cast.py:1641: DeprecationWarning: np.find_common_type is deprecated.  Please use `np.result_type` or `np.promote_types`.\n",
      "See https://numpy.org/devdocs/release/1.25.0-notes.html and the docs for more information.  (Deprecated NumPy 1.25)\n",
      "  return np.find_common_type(types, [])\n",
      "c:\\Users\\boomm\\AppData\\Local\\Programs\\Python\\Python310\\lib\\site-packages\\pandas\\core\\dtypes\\cast.py:1641: DeprecationWarning: np.find_common_type is deprecated.  Please use `np.result_type` or `np.promote_types`.\n",
      "See https://numpy.org/devdocs/release/1.25.0-notes.html and the docs for more information.  (Deprecated NumPy 1.25)\n",
      "  return np.find_common_type(types, [])\n"
     ]
    }
   ],
   "source": [
    "## Import trained model\n",
    "with open('../models/baseline_model.pkl', 'rb') as file:\n",
    "    baseline_model = pickle.load(file)\n",
    "\n",
    "## Use the trained model to make predictions on the test set\n",
    "bm_pred = baseline_model.predict(bm_X_test)\n",
    "\n",
    "## Evaluate the performance of the baseline_model\n",
    "# Compute accuracy\n",
    "bm_accuracy = accuracy_score(y_test, bm_pred)\n",
    "# Compute precision\n",
    "bm_precision = precision_score(y_test, bm_pred)\n",
    "# Compute recall\n",
    "bm_recall = recall_score(y_test, bm_pred)\n",
    "# Compute F1 score\n",
    "bm_f1 = f1_score(y_test, bm_pred)\n",
    "\n",
    "# Compute ROC curve and AUC\n",
    "bm_fpr, bm_tpr, bm_thresholds = roc_curve(y_test, baseline_model.predict_proba(bm_X_test)[:,1])\n",
    "bm_roc_auc = auc(bm_fpr, bm_tpr)\n",
    "\n",
    "# Compute confusion matrix\n",
    "bm_conf_matrix = confusion_matrix(y_test, bm_pred)\n"
   ]
  },
  {
   "cell_type": "markdown",
   "metadata": {},
   "source": [
    "## Challenger Model\n",
    "\n",
    "For more details on:\n",
    "+ model analysis and selection\n",
    "+ feature set analysis selection\n",
    "+ model training\n",
    "\n",
    "refer to [Challenger Model Notebook](./4.1-challenger-model.ipynb).\n"
   ]
  },
  {
   "cell_type": "markdown",
   "metadata": {},
   "source": [
    "### One-hot enconding for categorical variables"
   ]
  },
  {
   "cell_type": "code",
   "execution_count": 30,
   "metadata": {},
   "outputs": [
    {
     "name": "stdout",
     "output_type": "stream",
     "text": [
      "<class 'pandas.core.frame.DataFrame'>\n",
      "Int64Index: 13194 entries, 1054 to 12177\n",
      "Data columns (total 76 columns):\n",
      " #   Column                               Non-Null Count  Dtype  \n",
      "---  ------                               --------------  -----  \n",
      " 0   income                               13194 non-null  float64\n",
      " 1   name_email_similarity                13194 non-null  float64\n",
      " 2   prev_address_months_count            13194 non-null  int64  \n",
      " 3   current_address_months_count         13194 non-null  int64  \n",
      " 4   customer_age                         13194 non-null  int64  \n",
      " 5   days_since_request                   13194 non-null  float64\n",
      " 6   intended_balcon_amount               13194 non-null  float64\n",
      " 7   zip_count_4w                         13194 non-null  int64  \n",
      " 8   velocity_6h                          13194 non-null  float64\n",
      " 9   velocity_24h                         13194 non-null  float64\n",
      " 10  velocity_4w                          13194 non-null  float64\n",
      " 11  bank_branch_count_8w                 13194 non-null  int64  \n",
      " 12  date_of_birth_distinct_emails_4w     13194 non-null  int64  \n",
      " 13  credit_risk_score                    13194 non-null  int64  \n",
      " 14  email_is_free                        13194 non-null  int64  \n",
      " 15  phone_home_valid                     13194 non-null  int64  \n",
      " 16  phone_mobile_valid                   13194 non-null  int64  \n",
      " 17  bank_months_count                    13194 non-null  int64  \n",
      " 18  has_other_cards                      13194 non-null  int64  \n",
      " 19  proposed_credit_limit                13194 non-null  float64\n",
      " 20  foreign_request                      13194 non-null  int64  \n",
      " 21  session_length_in_minutes            13194 non-null  float64\n",
      " 22  keep_alive_session                   13194 non-null  int64  \n",
      " 23  device_distinct_emails_8w            13194 non-null  int64  \n",
      " 24  month                                13194 non-null  int64  \n",
      " 25  FE_01_device_os_emails_prob          13194 non-null  float64\n",
      " 26  FE_02_keep_alive_device_emails_prob  13194 non-null  float64\n",
      " 27  FE_03_source_foreign_request_prob    13194 non-null  float64\n",
      " 28  FE_04_device_os_prob                 13194 non-null  float64\n",
      " 29  have_prev_address                    13194 non-null  int32  \n",
      " 30  have_initial_bal                     13194 non-null  int32  \n",
      " 31  bank_integration                     13194 non-null  int64  \n",
      " 32  income_credit_limit_ratio            13194 non-null  float64\n",
      " 33  kmeans_prob                          13194 non-null  float64\n",
      " 34  payment_type_AA                      13194 non-null  uint8  \n",
      " 35  payment_type_AB                      13194 non-null  uint8  \n",
      " 36  payment_type_AC                      13194 non-null  uint8  \n",
      " 37  payment_type_AD                      13194 non-null  uint8  \n",
      " 38  payment_type_AE                      13194 non-null  uint8  \n",
      " 39  employment_status_CA                 13194 non-null  uint8  \n",
      " 40  employment_status_CB                 13194 non-null  uint8  \n",
      " 41  employment_status_CC                 13194 non-null  uint8  \n",
      " 42  employment_status_CD                 13194 non-null  uint8  \n",
      " 43  employment_status_CE                 13194 non-null  uint8  \n",
      " 44  employment_status_CF                 13194 non-null  uint8  \n",
      " 45  employment_status_CG                 13194 non-null  uint8  \n",
      " 46  housing_status_BA                    13194 non-null  uint8  \n",
      " 47  housing_status_BB                    13194 non-null  uint8  \n",
      " 48  housing_status_BC                    13194 non-null  uint8  \n",
      " 49  housing_status_BD                    13194 non-null  uint8  \n",
      " 50  housing_status_BE                    13194 non-null  uint8  \n",
      " 51  housing_status_BF                    13194 non-null  uint8  \n",
      " 52  housing_status_BG                    13194 non-null  uint8  \n",
      " 53  source_INTERNET                      13194 non-null  uint8  \n",
      " 54  source_TELEAPP                       13194 non-null  uint8  \n",
      " 55  device_os_linux                      13194 non-null  uint8  \n",
      " 56  device_os_macintosh                  13194 non-null  uint8  \n",
      " 57  device_os_other                      13194 non-null  uint8  \n",
      " 58  device_os_windows                    13194 non-null  uint8  \n",
      " 59  device_os_x11                        13194 non-null  uint8  \n",
      " 60  emails_bin_0-10                      13194 non-null  uint8  \n",
      " 61  emails_bin_10-20                     13194 non-null  uint8  \n",
      " 62  emails_bin_20-30                     13194 non-null  uint8  \n",
      " 63  emails_bin_>30                       13194 non-null  uint8  \n",
      " 64  name_email_similarity_bins_0-0.2     13194 non-null  uint8  \n",
      " 65  name_email_similarity_bins_0.2-0.4   13194 non-null  uint8  \n",
      " 66  name_email_similarity_bins_0.4-0.6   13194 non-null  uint8  \n",
      " 67  name_email_similarity_bins_0.6-0.8   13194 non-null  uint8  \n",
      " 68  name_email_similarity_bins_0.8-1     13194 non-null  uint8  \n",
      " 69  session_length_bins_<0               13194 non-null  uint8  \n",
      " 70  session_length_bins_0-20             13194 non-null  uint8  \n",
      " 71  session_length_bins_20-40            13194 non-null  uint8  \n",
      " 72  session_length_bins_40-60            13194 non-null  uint8  \n",
      " 73  session_length_bins_60-80            13194 non-null  uint8  \n",
      " 74  session_length_bins_80-100           13194 non-null  uint8  \n",
      " 75  session_length_bins_>100             13194 non-null  uint8  \n",
      "dtypes: float64(15), int32(2), int64(17), uint8(42)\n",
      "memory usage: 4.0 MB\n"
     ]
    }
   ],
   "source": [
    "### One-hot encoding of categorical features\n",
    "# Split categorical and non-categorical variables\n",
    "cm_test_cat = X_test_FE.select_dtypes(include=['object', 'category'])\n",
    "cm_test_non_cat = X_test_FE.select_dtypes(exclude=['object', 'category'])\n",
    "\n",
    "# Perform one-hot encoding on categorical variables\n",
    "cm_test_one_hot_encoded = pd.get_dummies(cm_test_cat)\n",
    "\n",
    "# Combine the non-categorical and one-hot encoded categorical variables\n",
    "cm_X_test = pd.concat([cm_test_non_cat, cm_test_one_hot_encoded], axis=1)\n",
    "\n",
    "cm_X_test.info()"
   ]
  },
  {
   "cell_type": "markdown",
   "metadata": {},
   "source": [
    "## Challenger Model 1\n",
    "\n",
    "Extreme Gradient Boosting (XGBoost) with feature selection using LARS:\n",
    "\n",
    "Selected features:\n",
    "+ `income`\n",
    "+ `name_email_similarity`\n",
    "+ `prev_address_months_count`\n",
    "+ `current_address_months_count`\n",
    "+ `customer_age`\n",
    "+ `days_since_request`\n",
    "+ `intended_balcon_amount`\n",
    "+ `zip_count_4w`\n",
    "+ `velocity_6h`, `velocity_24h`, `velocity_4w`\n",
    "+ `bank_branch_count_8w`\n",
    "+ `date_of_birth_distinct_emails_4w`\n",
    "+ `credit_risk_score`\n",
    "+ `email_is_free`\n",
    "+ `phone_home_valid`\n",
    "+ `phone_mobile_valid`\n",
    "+ `bank_months_count`\n",
    "+ `has_other_cards`\n",
    "+ `proposed_credit_limit`\n",
    "+ `foreign_request`\n",
    "+ `session_length_in_minutes`\n",
    "+ `keep_alive_session`\n",
    "+ `device_distinct_emails_8w`\n",
    "+ `month`\n",
    "+ `payment_type_AA`, `payment_type_AC`, `payment_type_AD`, `payment_type_AE`,\n",
    "+ `employment_status_CA`, `employment_status_CB`, `employment_status_CC`, `employment_status_CE`, `employment_status_CF`, `employment_status_CG`,\n",
    "+ `housing_status_BA`, `housing_status_BB`, `housing_status_BD`, `housing_status_BE`, `housing_status_BF`, `housing_status_BG`,\n",
    "+ `source_TELEAPP`\n",
    "+ `device_os_linux`, `device_os_macintosh`, `device_os_windows`, `device_os_x11`\n",
    "+ `emails_bin_0-10`, `emails_bin_20-30`, `emails_bin_>30`"
   ]
  },
  {
   "cell_type": "markdown",
   "metadata": {},
   "source": [
    "### Extract features for challenger model 1"
   ]
  },
  {
   "cell_type": "code",
   "execution_count": 31,
   "metadata": {},
   "outputs": [],
   "source": [
    "# Extract features for challenger model 1\n",
    "cm1_features = [\n",
    "    'income', 'name_email_similarity', 'prev_address_months_count',\n",
    "    'current_address_months_count', 'customer_age', 'days_since_request',\n",
    "    'intended_balcon_amount', 'zip_count_4w', 'velocity_6h', 'velocity_24h',\n",
    "    'velocity_4w', 'bank_branch_count_8w',\n",
    "    'date_of_birth_distinct_emails_4w', 'credit_risk_score',\n",
    "    'email_is_free', 'phone_home_valid', 'phone_mobile_valid',\n",
    "    'bank_months_count', 'has_other_cards', 'proposed_credit_limit',\n",
    "    'foreign_request', 'session_length_in_minutes', 'keep_alive_session',\n",
    "    'device_distinct_emails_8w', 'month', 'payment_type_AA',\n",
    "    'payment_type_AC', 'payment_type_AD', 'payment_type_AE',\n",
    "    'employment_status_CA', 'employment_status_CB', 'employment_status_CC',\n",
    "    'employment_status_CE', 'employment_status_CF', 'employment_status_CG',\n",
    "    'housing_status_BA', 'housing_status_BB', 'housing_status_BD',\n",
    "    'housing_status_BE', 'housing_status_BF', 'housing_status_BG',\n",
    "    'source_TELEAPP', 'device_os_linux', 'device_os_macintosh',\n",
    "    'device_os_windows', 'device_os_x11', 'emails_bin_0-10',\n",
    "    'emails_bin_20-30', 'emails_bin_>30'\n",
    "]\n",
    "\n",
    "cm1_X_test = cm_X_test.loc[:, cm1_features]\n",
    "cm1_y_test = y_test_FE"
   ]
  },
  {
   "cell_type": "code",
   "execution_count": 32,
   "metadata": {},
   "outputs": [
    {
     "name": "stderr",
     "output_type": "stream",
     "text": [
      "c:\\Users\\boomm\\AppData\\Local\\Programs\\Python\\Python310\\lib\\site-packages\\pandas\\core\\dtypes\\cast.py:1641: DeprecationWarning: np.find_common_type is deprecated.  Please use `np.result_type` or `np.promote_types`.\n",
      "See https://numpy.org/devdocs/release/1.25.0-notes.html and the docs for more information.  (Deprecated NumPy 1.25)\n",
      "  return np.find_common_type(types, [])\n",
      "c:\\Users\\boomm\\AppData\\Local\\Programs\\Python\\Python310\\lib\\site-packages\\pandas\\core\\dtypes\\cast.py:1641: DeprecationWarning: np.find_common_type is deprecated.  Please use `np.result_type` or `np.promote_types`.\n",
      "See https://numpy.org/devdocs/release/1.25.0-notes.html and the docs for more information.  (Deprecated NumPy 1.25)\n",
      "  return np.find_common_type(types, [])\n"
     ]
    }
   ],
   "source": [
    "## Import trained model\n",
    "with open('../models/challenger_model_1.pkl', 'rb') as file:\n",
    "    challenger_model1 = pickle.load(file)\n",
    "\n",
    "## Use the trained model to make predictions on the test set\n",
    "cm1_pred = challenger_model1.predict(cm1_X_test)\n",
    "\n",
    "## Evaluate the performance of the baseline_model\n",
    "# Compute accuracy\n",
    "cm1_accuracy = accuracy_score(cm1_y_test, cm1_pred)\n",
    "# Compute precision\n",
    "cm1_precision = precision_score(cm1_y_test, cm1_pred)\n",
    "# Compute recall\n",
    "cm1_recall = recall_score(cm1_y_test, cm1_pred)\n",
    "# Compute F1 score\n",
    "cm1_f1 = f1_score(cm1_y_test, cm1_pred)\n",
    "\n",
    "# Compute ROC curve and AUC\n",
    "cm1_fpr, cm1_tpr, cm1_thresholds = roc_curve(cm1_y_test, challenger_model1.predict_proba(cm1_X_test)[:,1])\n",
    "cm1_roc_auc = auc(cm1_fpr, cm1_tpr)\n",
    "\n",
    "# Compute confusion matrix\n",
    "cm1_conf_matrix = confusion_matrix(cm1_y_test, cm1_pred)"
   ]
  },
  {
   "cell_type": "markdown",
   "metadata": {},
   "source": [
    "## Challenger Model 2\n",
    "\n",
    "Adaptive Boosting (ADA Boost) with feature selection\n",
    "\n",
    "Selected features:\n",
    "+ `income`\n",
    "+ `name_email_similarity`\n",
    "+ `prev_address_months_count`\n",
    "+ `current_address_months_count`\n",
    "+ `customer_age`\n",
    "+ `days_since_request`\n",
    "+ `intended_balcon_amount`\n",
    "+ `zip_count_4w`\n",
    "+ `velocity_24h`, `velocity_4w`\n",
    "+ `bank_branch_count_8w`\n",
    "+ `date_of_birth_distinct_emails_4w`\n",
    "+ `credit_risk_score`\n",
    "+ `email_is_free`\n",
    "+ `phone_home_valid`\n",
    "+ `phone_mobile_valid`\n",
    "+ `bank_months_count`\n",
    "+ `has_other_cards`\n",
    "+ `proposed_credit_limit`\n",
    "+ `foreign_request`\n",
    "+ `session_length_in_minutes`\n",
    "+ `keep_alive_session`\n",
    "+ `device_distinct_emails_8w`\n",
    "+ `month`\n",
    "+ `have_prev_address`\n",
    "+ `bank_integration`\n",
    "+ `income_credit_limit_ratio`\n",
    "+ `payment_type_AC`\n",
    "+ `employment_status_CA`, `employment_status_CB`, `employment_status_CC`\n",
    "+ `housing_status_BA`, `housing_status_BE`\n",
    "+ `device_os_linux`, `device_os_macintosh`, `device_os_windows`"
   ]
  },
  {
   "cell_type": "markdown",
   "metadata": {},
   "source": [
    "### Extract features for challenger model 1"
   ]
  },
  {
   "cell_type": "code",
   "execution_count": 35,
   "metadata": {},
   "outputs": [],
   "source": [
    "# Extract features for challenger model 1\n",
    "cm2_features = [\n",
    "    'income', 'name_email_similarity', 'prev_address_months_count',\n",
    "    'current_address_months_count', 'customer_age', 'days_since_request',\n",
    "    'intended_balcon_amount', 'zip_count_4w', 'velocity_24h', 'velocity_4w',\n",
    "    'bank_branch_count_8w', 'date_of_birth_distinct_emails_4w',\n",
    "    'credit_risk_score', 'email_is_free', 'phone_home_valid',\n",
    "    'bank_months_count', 'has_other_cards', 'proposed_credit_limit',\n",
    "    'foreign_request', 'session_length_in_minutes', 'keep_alive_session',\n",
    "    'device_distinct_emails_8w', 'month', 'have_prev_address',\n",
    "    'bank_integration', 'income_credit_limit_ratio', 'payment_type_AC',\n",
    "    'employment_status_CA', 'employment_status_CB', 'employment_status_CC',\n",
    "    'housing_status_BA', 'housing_status_BE', 'device_os_linux',\n",
    "    'device_os_macintosh', 'device_os_windows'\n",
    "]\n",
    "\n",
    "cm2_X_test = cm_X_test.loc[:, cm2_features]\n",
    "cm2_y_test = y_test_FE"
   ]
  },
  {
   "cell_type": "code",
   "execution_count": 34,
   "metadata": {},
   "outputs": [
    {
     "name": "stderr",
     "output_type": "stream",
     "text": [
      "c:\\Users\\boomm\\AppData\\Local\\Programs\\Python\\Python310\\lib\\site-packages\\sklearn\\base.py:299: UserWarning: Trying to unpickle estimator DecisionTreeClassifier from version 1.4.1.post1 when using version 1.2.1. This might lead to breaking code or invalid results. Use at your own risk. For more info please refer to:\n",
      "https://scikit-learn.org/stable/model_persistence.html#security-maintainability-limitations\n",
      "  warnings.warn(\n"
     ]
    },
    {
     "ename": "ValueError",
     "evalue": "node array from the pickle has an incompatible dtype:\n- expected: [('left_child', '<i8'), ('right_child', '<i8'), ('feature', '<i8'), ('threshold', '<f8'), ('impurity', '<f8'), ('n_node_samples', '<i8'), ('weighted_n_node_samples', '<f8')]\n- got     : {'names': ['left_child', 'right_child', 'feature', 'threshold', 'impurity', 'n_node_samples', 'weighted_n_node_samples', 'missing_go_to_left'], 'formats': ['<i8', '<i8', '<i8', '<f8', '<f8', '<i8', '<f8', 'u1'], 'offsets': [0, 8, 16, 24, 32, 40, 48, 56], 'itemsize': 64}",
     "output_type": "error",
     "traceback": [
      "\u001b[1;31m---------------------------------------------------------------------------\u001b[0m",
      "\u001b[1;31mValueError\u001b[0m                                Traceback (most recent call last)",
      "Cell \u001b[1;32mIn[34], line 3\u001b[0m\n\u001b[0;32m      1\u001b[0m \u001b[38;5;66;03m## Import trained model\u001b[39;00m\n\u001b[0;32m      2\u001b[0m \u001b[38;5;28;01mwith\u001b[39;00m \u001b[38;5;28mopen\u001b[39m(\u001b[38;5;124m'\u001b[39m\u001b[38;5;124m../models/challenger_model_2.pkl\u001b[39m\u001b[38;5;124m'\u001b[39m, \u001b[38;5;124m'\u001b[39m\u001b[38;5;124mrb\u001b[39m\u001b[38;5;124m'\u001b[39m) \u001b[38;5;28;01mas\u001b[39;00m file:\n\u001b[1;32m----> 3\u001b[0m     challenger_model2 \u001b[38;5;241m=\u001b[39m \u001b[43mpickle\u001b[49m\u001b[38;5;241;43m.\u001b[39;49m\u001b[43mload\u001b[49m\u001b[43m(\u001b[49m\u001b[43mfile\u001b[49m\u001b[43m)\u001b[49m\n\u001b[0;32m      5\u001b[0m \u001b[38;5;66;03m## Use the trained model to make predictions on the test set\u001b[39;00m\n\u001b[0;32m      6\u001b[0m cm2_pred \u001b[38;5;241m=\u001b[39m challenger_model2\u001b[38;5;241m.\u001b[39mpredict(cm2_y_test)\n",
      "File \u001b[1;32msklearn\\tree\\_tree.pyx:676\u001b[0m, in \u001b[0;36msklearn.tree._tree.Tree.__setstate__\u001b[1;34m()\u001b[0m\n",
      "File \u001b[1;32msklearn\\tree\\_tree.pyx:1363\u001b[0m, in \u001b[0;36msklearn.tree._tree._check_node_ndarray\u001b[1;34m()\u001b[0m\n",
      "\u001b[1;31mValueError\u001b[0m: node array from the pickle has an incompatible dtype:\n- expected: [('left_child', '<i8'), ('right_child', '<i8'), ('feature', '<i8'), ('threshold', '<f8'), ('impurity', '<f8'), ('n_node_samples', '<i8'), ('weighted_n_node_samples', '<f8')]\n- got     : {'names': ['left_child', 'right_child', 'feature', 'threshold', 'impurity', 'n_node_samples', 'weighted_n_node_samples', 'missing_go_to_left'], 'formats': ['<i8', '<i8', '<i8', '<f8', '<f8', '<i8', '<f8', 'u1'], 'offsets': [0, 8, 16, 24, 32, 40, 48, 56], 'itemsize': 64}"
     ]
    }
   ],
   "source": [
    "## Import trained model\n",
    "with open('../models/challenger_model_2.pkl', 'rb') as file:\n",
    "    challenger_model2 = pickle.load(file)\n",
    "\n",
    "## Use the trained model to make predictions on the test set\n",
    "cm2_pred = challenger_model2.predict(cm2_y_test)\n",
    "\n",
    "## Evaluate the performance of the baseline_model\n",
    "# Compute accuracy\n",
    "cm2_accuracy = accuracy_score(cm2_y_test, cm2_pred)\n",
    "# Compute precision\n",
    "cm2_precision = precision_score(cm2_y_test, cm2_pred)\n",
    "# Compute recall\n",
    "cm2_recall = recall_score(cm2_y_test, cm2_pred)\n",
    "# Compute F1 score\n",
    "cm2_f1 = f1_score(cm2_y_test, cm2_pred)\n",
    "\n",
    "# Compute ROC curve and AUC\n",
    "cm2_fpr, cm2_tpr, cm2_thresholds = roc_curve(cm2_y_test, challenger_model2.predict_proba(cm2_y_test)[:,1])\n",
    "cm2_roc_auc = auc(cm2_fpr, cm2_tpr)\n",
    "\n",
    "# Compute confusion matrix\n",
    "cm2_conf_matrix = confusion_matrix(cm2_y_test, cm2_pred)"
   ]
  },
  {
   "cell_type": "markdown",
   "metadata": {},
   "source": [
    "## Model Ensemble"
   ]
  },
  {
   "cell_type": "code",
   "execution_count": null,
   "metadata": {},
   "outputs": [],
   "source": []
  },
  {
   "cell_type": "markdown",
   "metadata": {},
   "source": [
    "# Results"
   ]
  },
  {
   "cell_type": "markdown",
   "metadata": {},
   "source": [
    "## Evaluation Metrics\n",
    "\n",
    "(accuracy, precision, recall, F1 score)"
   ]
  },
  {
   "cell_type": "code",
   "execution_count": 39,
   "metadata": {},
   "outputs": [
    {
     "data": {
      "text/html": [
       "<div>\n",
       "<style scoped>\n",
       "    .dataframe tbody tr th:only-of-type {\n",
       "        vertical-align: middle;\n",
       "    }\n",
       "\n",
       "    .dataframe tbody tr th {\n",
       "        vertical-align: top;\n",
       "    }\n",
       "\n",
       "    .dataframe thead th {\n",
       "        text-align: right;\n",
       "    }\n",
       "</style>\n",
       "<table border=\"1\" class=\"dataframe\">\n",
       "  <thead>\n",
       "    <tr style=\"text-align: right;\">\n",
       "      <th></th>\n",
       "      <th>Model</th>\n",
       "      <th>Accuracy</th>\n",
       "      <th>Precision</th>\n",
       "      <th>Recall</th>\n",
       "      <th>F1 Score</th>\n",
       "    </tr>\n",
       "  </thead>\n",
       "  <tbody>\n",
       "    <tr>\n",
       "      <th>0</th>\n",
       "      <td>Baseline</td>\n",
       "      <td>0.844399</td>\n",
       "      <td>0.586255</td>\n",
       "      <td>0.192096</td>\n",
       "      <td>0.289373</td>\n",
       "    </tr>\n",
       "    <tr>\n",
       "      <th>1</th>\n",
       "      <td>Challenger Model 1</td>\n",
       "      <td>0.309610</td>\n",
       "      <td>0.181651</td>\n",
       "      <td>0.909007</td>\n",
       "      <td>0.302794</td>\n",
       "    </tr>\n",
       "    <tr>\n",
       "      <th>2</th>\n",
       "      <td>Challenger Model 2</td>\n",
       "      <td>1.000000</td>\n",
       "      <td>1.000000</td>\n",
       "      <td>1.000000</td>\n",
       "      <td>1.000000</td>\n",
       "    </tr>\n",
       "    <tr>\n",
       "      <th>3</th>\n",
       "      <td>Ensemble Model</td>\n",
       "      <td>1.000000</td>\n",
       "      <td>1.000000</td>\n",
       "      <td>1.000000</td>\n",
       "      <td>1.000000</td>\n",
       "    </tr>\n",
       "  </tbody>\n",
       "</table>\n",
       "</div>"
      ],
      "text/plain": [
       "                Model  Accuracy  Precision    Recall  F1 Score\n",
       "0            Baseline  0.844399   0.586255  0.192096  0.289373\n",
       "1  Challenger Model 1  0.309610   0.181651  0.909007  0.302794\n",
       "2  Challenger Model 2  1.000000   1.000000  1.000000  1.000000\n",
       "3      Ensemble Model  1.000000   1.000000  1.000000  1.000000"
      ]
     },
     "execution_count": 39,
     "metadata": {},
     "output_type": "execute_result"
    }
   ],
   "source": [
    "# bm_accuracy\n",
    "# bm_precision\n",
    "# bm_recall\n",
    "# bm_f1\n",
    "\n",
    "# cm1_accuracy = 1\n",
    "# cm1_precision = 1\n",
    "# cm1_recall = 1\n",
    "# cm1_f1 = 1\n",
    "\n",
    "cm2_accuracy = 1\n",
    "cm2_precision = 1\n",
    "cm2_recall = 1\n",
    "cm2_f1 = 1\n",
    "\n",
    "em_accuracy = 1\n",
    "em_precision = 1\n",
    "em_recall = 1\n",
    "em_f1 = 1\n",
    "\n",
    "data = {\n",
    "    'Model': ['Baseline', 'Challenger Model 1', 'Challenger Model 2', 'Ensemble Model'],\n",
    "    'Accuracy': [bm_accuracy, cm1_accuracy, cm2_accuracy, em_accuracy],\n",
    "    'Precision': [bm_precision, cm1_precision, cm2_precision, em_precision],\n",
    "    'Recall': [bm_recall, cm1_recall, cm2_recall, em_recall],\n",
    "    'F1 Score': [bm_f1, cm1_f1, cm2_f1, em_f1]\n",
    "}\n",
    "\n",
    "# Create the DataFrame\n",
    "metrics_df = pd.DataFrame(data)\n",
    "\n",
    "# Display the DataFrame\n",
    "metrics_df"
   ]
  },
  {
   "cell_type": "markdown",
   "metadata": {},
   "source": [
    "## AUC"
   ]
  },
  {
   "cell_type": "code",
   "execution_count": 40,
   "metadata": {},
   "outputs": [
    {
     "data": {
      "image/png": "[encoded data removed]",
      "text/plain": [
       "<Figure size 1000x600 with 1 Axes>"
      ]
     },
     "metadata": {},
     "output_type": "display_data"
    }
   ],
   "source": [
    "plt.figure(figsize=(10, 6))\n",
    "plt.plot(bm_fpr, bm_tpr, lw=2, label='Baseline: ROC curve (area = %0.2f)' % bm_roc_auc)\n",
    "plt.plot(cm1_fpr, cm1_tpr, lw=2, label='Challenger 1: ROC curve (area = %0.2f)' % cm1_roc_auc)\n",
    "# plt.plot(cm2_fpr, cm2_tpr, lw=2, label='Challenger 2: ROC curve (area = %0.2f)' % cm2_roc_auc)\n",
    "# plt.plot(em_fpr, em_tpr, lw=2, label='Ensemble: ROC curve (area = %0.2f)' % em_roc_auc)\n",
    "plt.plot([0, 1], [0, 1], color='navy', lw=2, linestyle='--')\n",
    "plt.xlim([0.0, 1.0])\n",
    "plt.ylim([0.0, 1.05])\n",
    "plt.xlabel('False Positive Rate')\n",
    "plt.ylabel('True Positive Rate')\n",
    "plt.title('Receiver Operating Characteristic (ROC)')\n",
    "plt.legend(loc=\"lower right\")\n",
    "plt.show()"
   ]
  },
  {
   "cell_type": "markdown",
   "metadata": {},
   "source": [
    "## Confusion Matix"
   ]
  },
  {
   "cell_type": "code",
   "execution_count": 30,
   "metadata": {},
   "outputs": [
    {
     "data": {
      "image/png": "[encoded data removed]",
      "text/plain": [
       "<Figure size 1000x1000 with 4 Axes>"
      ]
     },
     "metadata": {},
     "output_type": "display_data"
    }
   ],
   "source": [
    "plt.figure(figsize=(10, 10))\n",
    "\n",
    "plt.subplot(2, 2, 1)\n",
    "sns.heatmap(bm_conf_matrix, annot=True, fmt='g', cmap='Blues', cbar=False, linewidths=0.5, linecolor='gray')\n",
    "plt.title('Baseline Model')\n",
    "plt.xlabel('Predicted labels')\n",
    "plt.ylabel('True labels')\n",
    "\n",
    "plt.subplot(2, 2, 2)\n",
    "sns.heatmap(cm1_conf_matrix, annot=True, fmt='g', cmap='Blues', cbar=False, linewidths=0.5, linecolor='gray')\n",
    "# sns.heatmap(bm_conf_matrix, annot=True, fmt='g', cmap='Blues', cbar=False, linewidths=0.5, linecolor='gray')\n",
    "plt.title('Challenger Model 1')\n",
    "plt.xlabel('Predicted labels')\n",
    "plt.ylabel('True labels')\n",
    "\n",
    "plt.subplot(2, 2, 3)\n",
    "sns.heatmap(cm2_conf_matrix, annot=True, fmt='g', cmap='Blues', cbar=False, linewidths=0.5, linecolor='gray')\n",
    "# sns.heatmap(bm_conf_matrix, annot=True, fmt='g', cmap='Blues', cbar=False, linewidths=0.5, linecolor='gray')\n",
    "plt.title('Challenger Model 2')\n",
    "plt.xlabel('Predicted labels')\n",
    "plt.ylabel('True labels')\n",
    "\n",
    "plt.subplot(2, 2, 4)\n",
    "# sns.heatmap(em_conf_matrix, annot=True, fmt='g', cmap='Blues', cbar=False, linewidths=0.5, linecolor='gray')\n",
    "sns.heatmap(bm_conf_matrix, annot=True, fmt='g', cmap='Blues', cbar=False, linewidths=0.5, linecolor='gray')\n",
    "plt.title('Ensemble Model')\n",
    "plt.xlabel('Predicted labels')\n",
    "plt.ylabel('True labels')\n",
    "\n",
    "plt.tight_layout()  # Adjust spacing between subplots for better layout\n",
    "plt.show()"
   ]
  },
  {
   "cell_type": "markdown",
   "metadata": {},
   "source": [
    "# Conclusion"
   ]
  },
  {
   "cell_type": "markdown",
   "metadata": {},
   "source": []
  }
 ],
 "metadata": {
  "kernelspec": {
   "display_name": "Python 3",
   "language": "python",
   "name": "python3"
  },
  "language_info": {
   "codemirror_mode": {
    "name": "ipython",
    "version": 3
   },
   "file_extension": ".py",
   "mimetype": "text/x-python",
   "name": "python",
   "nbconvert_exporter": "python",
   "pygments_lexer": "ipython3",
   "version": "3.10.4"
  }
 },
 "nbformat": 4,
 "nbformat_minor": 2
}
