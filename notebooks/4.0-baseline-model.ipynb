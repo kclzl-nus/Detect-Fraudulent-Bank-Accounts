{
 "cells": [
  {
   "cell_type": "markdown",
   "metadata": {},
   "source": [
    "## Import required  packages"
   ]
  },
  {
   "cell_type": "code",
   "execution_count": 1,
   "metadata": {},
   "outputs": [],
   "source": [
    "import sys\n",
    "import pandas as pd\n",
    "import matplotlib.pyplot as plt\n",
    "import seaborn as sns\n",
    "from sklearn.linear_model import LogisticRegression\n",
    "from sklearn.model_selection import cross_val_score, KFold, cross_val_predict\n",
    "from sklearn.metrics import accuracy_score, precision_score, recall_score, f1_score, confusion_matrix, roc_curve, auc\n",
    "import pickle\n",
    "import warnings\n",
    "from IPython.display import display"
   ]
  },
  {
   "cell_type": "markdown",
   "metadata": {},
   "source": [
    "## Import dataset"
   ]
  },
  {
   "cell_type": "markdown",
   "metadata": {},
   "source": [
    "This section includes:\n",
    "+ Downloading data from kaggle\n",
    "+ Data cleaning\n",
    "    + Conversion of Variable Data Types\n",
    "    + Removal of Irrelevant Variables\n",
    "    + Handling of Missing Variables\n",
    "    + Undersampling of Imbalanced Dataset"
   ]
  },
  {
   "cell_type": "code",
   "execution_count": 2,
   "metadata": {},
   "outputs": [
    {
     "name": "stdout",
     "output_type": "stream",
     "text": [
      "Base.csv found. Skipping the download and extraction process...\n",
      "Data Preprocessing...\n",
      "Data Preprocessing completed successfully. Data saved to 'data/processed/undersampled_data.csv'.\n",
      "Splitting the dataset into train-test subset...\n",
      "Train-test split completed successfully. Data saved to 'data/processed/X_train.csv', 'data/processed/X_test.csv', 'data/processed/y_train.csv', and 'data/processed/y_test.csv'.\n"
     ]
    }
   ],
   "source": [
    "sys.path.append('../scripts')\n",
    "import data_preprocessing\n",
    "\n",
    "data_preprocessing.data_preprocessing()"
   ]
  },
  {
   "cell_type": "markdown",
   "metadata": {},
   "source": [
    "### Read in processed dataset"
   ]
  },
  {
   "cell_type": "code",
   "execution_count": 3,
   "metadata": {},
   "outputs": [],
   "source": [
    "# Read the CSV file into a DataFrame\n",
    "X_train = pd.read_csv('../data/processed/X_train.csv')\n",
    "X_test = pd.read_csv('../data/processed/X_test.csv')\n",
    "y_train = pd.read_csv('../data/processed/y_train.csv')\n",
    "y_test = pd.read_csv('../data/processed/y_test.csv')"
   ]
  },
  {
   "cell_type": "code",
   "execution_count": 4,
   "metadata": {},
   "outputs": [
    {
     "name": "stdout",
     "output_type": "stream",
     "text": [
      "<class 'pandas.core.frame.DataFrame'>\n",
      "RangeIndex: 52776 entries, 0 to 52775\n",
      "Data columns (total 30 columns):\n",
      " #   Column                            Non-Null Count  Dtype  \n",
      "---  ------                            --------------  -----  \n",
      " 0   income                            52776 non-null  float64\n",
      " 1   name_email_similarity             52776 non-null  float64\n",
      " 2   prev_address_months_count         52776 non-null  int64  \n",
      " 3   current_address_months_count      52776 non-null  int64  \n",
      " 4   customer_age                      52776 non-null  int64  \n",
      " 5   days_since_request                52776 non-null  float64\n",
      " 6   intended_balcon_amount            52776 non-null  float64\n",
      " 7   payment_type                      52776 non-null  object \n",
      " 8   zip_count_4w                      52776 non-null  int64  \n",
      " 9   velocity_6h                       52776 non-null  float64\n",
      " 10  velocity_24h                      52776 non-null  float64\n",
      " 11  velocity_4w                       52776 non-null  float64\n",
      " 12  bank_branch_count_8w              52776 non-null  int64  \n",
      " 13  date_of_birth_distinct_emails_4w  52776 non-null  int64  \n",
      " 14  employment_status                 52776 non-null  object \n",
      " 15  credit_risk_score                 52776 non-null  int64  \n",
      " 16  email_is_free                     52776 non-null  int64  \n",
      " 17  housing_status                    52776 non-null  object \n",
      " 18  phone_home_valid                  52776 non-null  int64  \n",
      " 19  phone_mobile_valid                52776 non-null  int64  \n",
      " 20  bank_months_count                 52776 non-null  int64  \n",
      " 21  has_other_cards                   52776 non-null  int64  \n",
      " 22  proposed_credit_limit             52776 non-null  float64\n",
      " 23  foreign_request                   52776 non-null  int64  \n",
      " 24  source                            52776 non-null  object \n",
      " 25  session_length_in_minutes         52776 non-null  float64\n",
      " 26  device_os                         52776 non-null  object \n",
      " 27  keep_alive_session                52776 non-null  int64  \n",
      " 28  device_distinct_emails_8w         52776 non-null  int64  \n",
      " 29  month                             52776 non-null  int64  \n",
      "dtypes: float64(9), int64(16), object(5)\n",
      "memory usage: 12.1+ MB\n"
     ]
    }
   ],
   "source": [
    "X_train.info()"
   ]
  },
  {
   "cell_type": "markdown",
   "metadata": {},
   "source": [
    "## Baseline Model"
   ]
  },
  {
   "cell_type": "markdown",
   "metadata": {},
   "source": [
    "### One-hot encoding for categorical variables"
   ]
  },
  {
   "cell_type": "markdown",
   "metadata": {},
   "source": [
    "**X_train Dataset**"
   ]
  },
  {
   "cell_type": "code",
   "execution_count": 5,
   "metadata": {},
   "outputs": [],
   "source": [
    "# Split categorical and non-categorical variables\n",
    "train_cat = X_train.select_dtypes(include='object')\n",
    "train_non_cat = X_train.select_dtypes(exclude='object')\n",
    "\n",
    "# Perform one-hot encoding on categorical variables\n",
    "train_one_hot_encoded = pd.get_dummies(train_cat)\n",
    "\n",
    "# Combine the non-categorical and one-hot encoded categorical variables\n",
    "X_train = pd.concat([train_non_cat, train_one_hot_encoded], axis=1)"
   ]
  },
  {
   "cell_type": "code",
   "execution_count": 6,
   "metadata": {},
   "outputs": [
    {
     "name": "stdout",
     "output_type": "stream",
     "text": [
      "<class 'pandas.core.frame.DataFrame'>\n",
      "RangeIndex: 52776 entries, 0 to 52775\n",
      "Data columns (total 51 columns):\n",
      " #   Column                            Non-Null Count  Dtype  \n",
      "---  ------                            --------------  -----  \n",
      " 0   income                            52776 non-null  float64\n",
      " 1   name_email_similarity             52776 non-null  float64\n",
      " 2   prev_address_months_count         52776 non-null  int64  \n",
      " 3   current_address_months_count      52776 non-null  int64  \n",
      " 4   customer_age                      52776 non-null  int64  \n",
      " 5   days_since_request                52776 non-null  float64\n",
      " 6   intended_balcon_amount            52776 non-null  float64\n",
      " 7   zip_count_4w                      52776 non-null  int64  \n",
      " 8   velocity_6h                       52776 non-null  float64\n",
      " 9   velocity_24h                      52776 non-null  float64\n",
      " 10  velocity_4w                       52776 non-null  float64\n",
      " 11  bank_branch_count_8w              52776 non-null  int64  \n",
      " 12  date_of_birth_distinct_emails_4w  52776 non-null  int64  \n",
      " 13  credit_risk_score                 52776 non-null  int64  \n",
      " 14  email_is_free                     52776 non-null  int64  \n",
      " 15  phone_home_valid                  52776 non-null  int64  \n",
      " 16  phone_mobile_valid                52776 non-null  int64  \n",
      " 17  bank_months_count                 52776 non-null  int64  \n",
      " 18  has_other_cards                   52776 non-null  int64  \n",
      " 19  proposed_credit_limit             52776 non-null  float64\n",
      " 20  foreign_request                   52776 non-null  int64  \n",
      " 21  session_length_in_minutes         52776 non-null  float64\n",
      " 22  keep_alive_session                52776 non-null  int64  \n",
      " 23  device_distinct_emails_8w         52776 non-null  int64  \n",
      " 24  month                             52776 non-null  int64  \n",
      " 25  payment_type_AA                   52776 non-null  uint8  \n",
      " 26  payment_type_AB                   52776 non-null  uint8  \n",
      " 27  payment_type_AC                   52776 non-null  uint8  \n",
      " 28  payment_type_AD                   52776 non-null  uint8  \n",
      " 29  payment_type_AE                   52776 non-null  uint8  \n",
      " 30  employment_status_CA              52776 non-null  uint8  \n",
      " 31  employment_status_CB              52776 non-null  uint8  \n",
      " 32  employment_status_CC              52776 non-null  uint8  \n",
      " 33  employment_status_CD              52776 non-null  uint8  \n",
      " 34  employment_status_CE              52776 non-null  uint8  \n",
      " 35  employment_status_CF              52776 non-null  uint8  \n",
      " 36  employment_status_CG              52776 non-null  uint8  \n",
      " 37  housing_status_BA                 52776 non-null  uint8  \n",
      " 38  housing_status_BB                 52776 non-null  uint8  \n",
      " 39  housing_status_BC                 52776 non-null  uint8  \n",
      " 40  housing_status_BD                 52776 non-null  uint8  \n",
      " 41  housing_status_BE                 52776 non-null  uint8  \n",
      " 42  housing_status_BF                 52776 non-null  uint8  \n",
      " 43  housing_status_BG                 52776 non-null  uint8  \n",
      " 44  source_INTERNET                   52776 non-null  uint8  \n",
      " 45  source_TELEAPP                    52776 non-null  uint8  \n",
      " 46  device_os_linux                   52776 non-null  uint8  \n",
      " 47  device_os_macintosh               52776 non-null  uint8  \n",
      " 48  device_os_other                   52776 non-null  uint8  \n",
      " 49  device_os_windows                 52776 non-null  uint8  \n",
      " 50  device_os_x11                     52776 non-null  uint8  \n",
      "dtypes: float64(9), int64(16), uint8(26)\n",
      "memory usage: 11.4 MB\n"
     ]
    }
   ],
   "source": [
    "X_train.info()"
   ]
  },
  {
   "cell_type": "markdown",
   "metadata": {},
   "source": [
    "**X_test Dataset**"
   ]
  },
  {
   "cell_type": "code",
   "execution_count": 7,
   "metadata": {},
   "outputs": [],
   "source": [
    "# Split categorical and non-categorical variables\n",
    "test_cat = X_test.select_dtypes(include='object')\n",
    "test_non_cat = X_test.select_dtypes(exclude='object')\n",
    "\n",
    "# Perform one-hot encoding on categorical variables\n",
    "test_one_hot_encoded = pd.get_dummies(test_cat)\n",
    "\n",
    "# Combine the non-categorical and one-hot encoded categorical variables\n",
    "X_test = pd.concat([test_non_cat, test_one_hot_encoded], axis=1)"
   ]
  },
  {
   "cell_type": "code",
   "execution_count": 8,
   "metadata": {},
   "outputs": [
    {
     "name": "stdout",
     "output_type": "stream",
     "text": [
      "<class 'pandas.core.frame.DataFrame'>\n",
      "RangeIndex: 13194 entries, 0 to 13193\n",
      "Data columns (total 51 columns):\n",
      " #   Column                            Non-Null Count  Dtype  \n",
      "---  ------                            --------------  -----  \n",
      " 0   income                            13194 non-null  float64\n",
      " 1   name_email_similarity             13194 non-null  float64\n",
      " 2   prev_address_months_count         13194 non-null  int64  \n",
      " 3   current_address_months_count      13194 non-null  int64  \n",
      " 4   customer_age                      13194 non-null  int64  \n",
      " 5   days_since_request                13194 non-null  float64\n",
      " 6   intended_balcon_amount            13194 non-null  float64\n",
      " 7   zip_count_4w                      13194 non-null  int64  \n",
      " 8   velocity_6h                       13194 non-null  float64\n",
      " 9   velocity_24h                      13194 non-null  float64\n",
      " 10  velocity_4w                       13194 non-null  float64\n",
      " 11  bank_branch_count_8w              13194 non-null  int64  \n",
      " 12  date_of_birth_distinct_emails_4w  13194 non-null  int64  \n",
      " 13  credit_risk_score                 13194 non-null  int64  \n",
      " 14  email_is_free                     13194 non-null  int64  \n",
      " 15  phone_home_valid                  13194 non-null  int64  \n",
      " 16  phone_mobile_valid                13194 non-null  int64  \n",
      " 17  bank_months_count                 13194 non-null  int64  \n",
      " 18  has_other_cards                   13194 non-null  int64  \n",
      " 19  proposed_credit_limit             13194 non-null  float64\n",
      " 20  foreign_request                   13194 non-null  int64  \n",
      " 21  session_length_in_minutes         13194 non-null  float64\n",
      " 22  keep_alive_session                13194 non-null  int64  \n",
      " 23  device_distinct_emails_8w         13194 non-null  int64  \n",
      " 24  month                             13194 non-null  int64  \n",
      " 25  payment_type_AA                   13194 non-null  uint8  \n",
      " 26  payment_type_AB                   13194 non-null  uint8  \n",
      " 27  payment_type_AC                   13194 non-null  uint8  \n",
      " 28  payment_type_AD                   13194 non-null  uint8  \n",
      " 29  payment_type_AE                   13194 non-null  uint8  \n",
      " 30  employment_status_CA              13194 non-null  uint8  \n",
      " 31  employment_status_CB              13194 non-null  uint8  \n",
      " 32  employment_status_CC              13194 non-null  uint8  \n",
      " 33  employment_status_CD              13194 non-null  uint8  \n",
      " 34  employment_status_CE              13194 non-null  uint8  \n",
      " 35  employment_status_CF              13194 non-null  uint8  \n",
      " 36  employment_status_CG              13194 non-null  uint8  \n",
      " 37  housing_status_BA                 13194 non-null  uint8  \n",
      " 38  housing_status_BB                 13194 non-null  uint8  \n",
      " 39  housing_status_BC                 13194 non-null  uint8  \n",
      " 40  housing_status_BD                 13194 non-null  uint8  \n",
      " 41  housing_status_BE                 13194 non-null  uint8  \n",
      " 42  housing_status_BF                 13194 non-null  uint8  \n",
      " 43  housing_status_BG                 13194 non-null  uint8  \n",
      " 44  source_INTERNET                   13194 non-null  uint8  \n",
      " 45  source_TELEAPP                    13194 non-null  uint8  \n",
      " 46  device_os_linux                   13194 non-null  uint8  \n",
      " 47  device_os_macintosh               13194 non-null  uint8  \n",
      " 48  device_os_other                   13194 non-null  uint8  \n",
      " 49  device_os_windows                 13194 non-null  uint8  \n",
      " 50  device_os_x11                     13194 non-null  uint8  \n",
      "dtypes: float64(9), int64(16), uint8(26)\n",
      "memory usage: 2.8 MB\n"
     ]
    }
   ],
   "source": [
    "X_test.info()"
   ]
  },
  {
   "cell_type": "markdown",
   "metadata": {},
   "source": [
    "### Model Training\n",
    "\n",
    "For our baseline model, we employed a logistic regression approach to train on the entire dataset, with categorical variables one-hot encoded. Additionally, we implemented K-fold cross-validation during both model training and evaluation stages."
   ]
  },
  {
   "cell_type": "code",
   "execution_count": 9,
   "metadata": {},
   "outputs": [
    {
     "name": "stdout",
     "output_type": "stream",
     "text": [
      "Cross-validation scores: [0.23416856 0.28509532 0.28086278 0.24526601 0.30928726]\n",
      "Mean cross-validation score: 0.2709359858132305\n"
     ]
    }
   ],
   "source": [
    "# Suppress warnings\n",
    "warnings.filterwarnings(\"ignore\")\n",
    "\n",
    "# Define the Logistic Regression model\n",
    "baseline_model = LogisticRegression(max_iter=1000, random_state=42)\n",
    "\n",
    "# Initialize the KFold cross-validation iterator\n",
    "kf = KFold(n_splits=5, shuffle=True, random_state=42)\n",
    "\n",
    "# Perform k-fold cross-validation\n",
    "cv_scores = cross_val_score(baseline_model, X_train, y_train, cv=kf, scoring='f1')\n",
    "\n",
    "# Print the cross-validation scores\n",
    "print(\"Cross-validation scores:\", cv_scores)\n",
    "\n",
    "# Compute the mean cross-validation score\n",
    "mean_cv_score = cv_scores.mean()\n",
    "print(\"Mean cross-validation score:\", mean_cv_score)\n",
    "\n",
    "# Fit the model to the entire training dataset\n",
    "baseline_model.fit(X_train, y_train)\n",
    "\n",
    "## Test Logistic Regression model\n",
    "bm_pred = baseline_model.predict(X_test)\n",
    "\n",
    "## Evaluate the performance of the baseline_model\n",
    "# Compute accuracy\n",
    "accuracy = accuracy_score(y_test, bm_pred)\n",
    "# Compute precision\n",
    "precision = precision_score(y_test, bm_pred)\n",
    "# Compute recall\n",
    "recall = recall_score(y_test, bm_pred)\n",
    "# Compute F1 score\n",
    "f1 = f1_score(y_test, bm_pred)\n",
    "\n",
    "# Compute ROC curve and AUC\n",
    "fpr, tpr, thresholds = roc_curve(y_test, bm_pred)\n",
    "roc_auc = auc(fpr, tpr)\n",
    "\n",
    "# Compute confusion matrix\n",
    "conf_matrix = confusion_matrix(y_test, bm_pred)\n",
    "\n",
    "# Reset warnings settings\n",
    "warnings.resetwarnings()"
   ]
  },
  {
   "cell_type": "markdown",
   "metadata": {},
   "source": [
    "### Save trained model"
   ]
  },
  {
   "cell_type": "code",
   "execution_count": 10,
   "metadata": {},
   "outputs": [],
   "source": [
    "### Save the trained model to a file\n",
    "# Open a file in binary write mode\n",
    "with open('../models/baseline_model.pkl', 'wb') as file:\n",
    "    # Use pickle.dump() to save the model to the file\n",
    "    pickle.dump(baseline_model, file)"
   ]
  },
  {
   "cell_type": "markdown",
   "metadata": {},
   "source": [
    "### Results"
   ]
  },
  {
   "cell_type": "markdown",
   "metadata": {},
   "source": [
    "**Classification Report**"
   ]
  },
  {
   "cell_type": "code",
   "execution_count": 11,
   "metadata": {},
   "outputs": [
    {
     "name": "stdout",
     "output_type": "stream",
     "text": [
      "Accuracy: 0.8443989692284372\n",
      "Precision: 0.5862552594670407\n",
      "Recall: 0.19209558823529413\n",
      "F1 Score: 0.28937348563516785\n"
     ]
    }
   ],
   "source": [
    "print(\"Accuracy:\", accuracy)\n",
    "print(\"Precision:\", precision)\n",
    "print(\"Recall:\", recall)\n",
    "print(\"F1 Score:\", f1)"
   ]
  },
  {
   "cell_type": "markdown",
   "metadata": {},
   "source": [
    "**AUC**"
   ]
  },
  {
   "cell_type": "code",
   "execution_count": 12,
   "metadata": {},
   "outputs": [
    {
     "data": {
      "image/png": "[encoded data removed]",
      "text/plain": [
       "<Figure size 1000x600 with 1 Axes>"
      ]
     },
     "metadata": {},
     "output_type": "display_data"
    }
   ],
   "source": [
    "plt.figure(figsize=(10, 6))\n",
    "plt.plot(fpr, tpr, color='darkorange', lw=2, label='ROC curve (area = %0.2f)' % roc_auc)\n",
    "plt.plot([0, 1], [0, 1], color='navy', lw=2, linestyle='--')\n",
    "plt.xlim([0.0, 1.0])\n",
    "plt.ylim([0.0, 1.05])\n",
    "plt.xlabel('False Positive Rate')\n",
    "plt.ylabel('True Positive Rate')\n",
    "plt.title('Receiver Operating Characteristic (ROC)')\n",
    "plt.legend(loc=\"lower right\")\n",
    "plt.show()"
   ]
  },
  {
   "cell_type": "markdown",
   "metadata": {},
   "source": [
    "**Confusion Matrix**"
   ]
  },
  {
   "cell_type": "code",
   "execution_count": 13,
   "metadata": {},
   "outputs": [
    {
     "data": {
      "image/png": "[encoded data removed]",
      "text/plain": [
       "<Figure size 800x600 with 1 Axes>"
      ]
     },
     "metadata": {},
     "output_type": "display_data"
    }
   ],
   "source": [
    "plt.figure(figsize=(8, 6))\n",
    "sns.heatmap(conf_matrix, annot=True, fmt='g', cmap='Blues', cbar=False, linewidths=0.5, linecolor='gray')\n",
    "plt.title('Confusion Matrix')\n",
    "plt.xlabel('Predicted labels')\n",
    "plt.ylabel('True labels')\n",
    "plt.show()"
   ]
  }
 ],
 "metadata": {
  "kernelspec": {
   "display_name": "Python 3",
   "language": "python",
   "name": "python3"
  },
  "language_info": {
   "codemirror_mode": {
    "name": "ipython",
    "version": 3
   },
   "file_extension": ".py",
   "mimetype": "text/x-python",
   "name": "python",
   "nbconvert_exporter": "python",
   "pygments_lexer": "ipython3",
   "version": "3.10.4"
  }
 },
 "nbformat": 4,
 "nbformat_minor": 2
}
