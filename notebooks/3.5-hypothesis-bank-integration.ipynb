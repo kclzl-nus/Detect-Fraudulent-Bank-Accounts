{
 "cells": [
  {
   "cell_type": "markdown",
   "id": "8240c309",
   "metadata": {},
   "source": [
    "# bank_integration = bank_months_count + has_other_cards*bank_months_count\n",
    "    - having more cards with a bank (has_other_cards) holding an account for a longer period of and would likely suggest that the customer is more integrated and has a relationship with the bank.\n",
    "    - hence, a customer with higher integration with a bank would less likely have the intention to commit fraud at the bank\n",
    "    - bank_integration = bank_months_count + has_other_cards*bank_months_count as has_other_cards is binary and having it multiplied by bank_months_count would give it a higher weightage as compared to the bank_months_count column\n",
    "    \n",
    "Hypothesis:\n",
    "- H0: There is no significant difference in the rate of fraudulent cases between the group with low bank integration and the rest of the population.\n",
    "- H1: Applicants with low bank integration tend to have higher fraud rates"
   ]
  },
  {
   "cell_type": "code",
   "execution_count": 2,
   "id": "57d20bde",
   "metadata": {},
   "outputs": [],
   "source": [
    "import pandas as pd\n",
    "import numpy as np"
   ]
  },
  {
   "cell_type": "code",
   "execution_count": 3,
   "id": "47b43873",
   "metadata": {},
   "outputs": [],
   "source": [
    "x_train =  pd.read_csv('../data/processed/X_train.csv')\n",
    "y_train = pd.read_csv('../data/processed/y_train.csv')\n",
    "df = pd.concat([x_train, y_train], axis=1)"
   ]
  },
  {
   "cell_type": "code",
   "execution_count": 4,
   "id": "dee8e3f2",
   "metadata": {},
   "outputs": [],
   "source": [
    "\n",
    "df['bank_integration'] = df['bank_months_count'] + df['has_other_cards']*df['bank_months_count']"
   ]
  },
  {
   "cell_type": "code",
   "execution_count": 6,
   "id": "42e52479",
   "metadata": {},
   "outputs": [
    {
     "data": {
      "text/plain": [
       "Text(0, 0.5, 'Frequency')"
      ]
     },
     "execution_count": 6,
     "metadata": {},
     "output_type": "execute_result"
    },
    {
     "data": {
      "image/png": "[encoded data removed]",
      "text/plain": [
       "<Figure size 432x288 with 1 Axes>"
      ]
     },
     "metadata": {
      "needs_background": "light"
     },
     "output_type": "display_data"
    }
   ],
   "source": [
    "ax = df['bank_integration'].hist()\n",
    "ax.set_title('Histogram of bank_integration')\n",
    "ax.set_xlabel('bank_integration')\n",
    "ax.set_ylabel('Frequency')"
   ]
  },
  {
   "cell_type": "code",
   "execution_count": 5,
   "id": "ae7477a0",
   "metadata": {},
   "outputs": [
    {
     "data": {
      "text/plain": [
       "count    52776.000000\n",
       "mean        12.943971\n",
       "std         15.937975\n",
       "min         -2.000000\n",
       "25%         -1.000000\n",
       "50%          5.000000\n",
       "75%         26.000000\n",
       "max         62.000000\n",
       "Name: bank_integration, dtype: float64"
      ]
     },
     "execution_count": 5,
     "metadata": {},
     "output_type": "execute_result"
    }
   ],
   "source": [
    "df['bank_integration'].describe()"
   ]
  },
  {
   "cell_type": "markdown",
   "id": "23ce0c7f",
   "metadata": {},
   "source": [
    "# use centre value to as threshold to determine 'higher' and 'lower' levels of bank_integration"
   ]
  },
  {
   "cell_type": "code",
   "execution_count": 6,
   "id": "fa0221b1",
   "metadata": {},
   "outputs": [],
   "source": [
    "threshold = (df['bank_integration'].max() + df['bank_integration'].min())/2"
   ]
  },
  {
   "cell_type": "code",
   "execution_count": 7,
   "id": "1b7e5965",
   "metadata": {},
   "outputs": [
    {
     "data": {
      "text/html": [
       "<div>\n",
       "<style scoped>\n",
       "    .dataframe tbody tr th:only-of-type {\n",
       "        vertical-align: middle;\n",
       "    }\n",
       "\n",
       "    .dataframe tbody tr th {\n",
       "        vertical-align: top;\n",
       "    }\n",
       "\n",
       "    .dataframe thead th {\n",
       "        text-align: right;\n",
       "    }\n",
       "</style>\n",
       "<table border=\"1\" class=\"dataframe\">\n",
       "  <thead>\n",
       "    <tr style=\"text-align: right;\">\n",
       "      <th>fraud_bool</th>\n",
       "      <th>bank_integration</th>\n",
       "      <th>0</th>\n",
       "      <th>1</th>\n",
       "    </tr>\n",
       "  </thead>\n",
       "  <tbody>\n",
       "    <tr>\n",
       "      <th>0</th>\n",
       "      <td>-2</td>\n",
       "      <td>89.042876</td>\n",
       "      <td>10.957124</td>\n",
       "    </tr>\n",
       "    <tr>\n",
       "      <th>1</th>\n",
       "      <td>-1</td>\n",
       "      <td>75.083954</td>\n",
       "      <td>24.916046</td>\n",
       "    </tr>\n",
       "    <tr>\n",
       "      <th>2</th>\n",
       "      <td>1</td>\n",
       "      <td>87.408861</td>\n",
       "      <td>12.591139</td>\n",
       "    </tr>\n",
       "    <tr>\n",
       "      <th>3</th>\n",
       "      <td>2</td>\n",
       "      <td>88.772846</td>\n",
       "      <td>11.227154</td>\n",
       "    </tr>\n",
       "    <tr>\n",
       "      <th>4</th>\n",
       "      <td>3</td>\n",
       "      <td>92.429022</td>\n",
       "      <td>7.570978</td>\n",
       "    </tr>\n",
       "  </tbody>\n",
       "</table>\n",
       "</div>"
      ],
      "text/plain": [
       "fraud_bool  bank_integration          0          1\n",
       "0                         -2  89.042876  10.957124\n",
       "1                         -1  75.083954  24.916046\n",
       "2                          1  87.408861  12.591139\n",
       "3                          2  88.772846  11.227154\n",
       "4                          3  92.429022   7.570978"
      ]
     },
     "execution_count": 7,
     "metadata": {},
     "output_type": "execute_result"
    }
   ],
   "source": [
    "distribution = df.groupby(['bank_integration', 'fraud_bool']).size().unstack(fill_value=0)\n",
    "distribution_percentage = distribution.div(distribution.sum(axis=1), axis=0) * 100\n",
    "distribution_percentage.reset_index(drop=False, inplace=True)\n",
    "distribution_percentage.head()"
   ]
  },
  {
   "cell_type": "code",
   "execution_count": 8,
   "id": "04fb254f",
   "metadata": {},
   "outputs": [
    {
     "data": {
      "text/plain": [
       "ShapiroResult(statistic=0.6400927901268005, pvalue=1.7349509606745528e-09)"
      ]
     },
     "execution_count": 8,
     "metadata": {},
     "output_type": "execute_result"
    }
   ],
   "source": [
    "import numpy as np\n",
    "import scipy.stats as stats\n",
    "from numpy.random import randn\n",
    " \n",
    "stats.shapiro(distribution_percentage[0])"
   ]
  },
  {
   "cell_type": "markdown",
   "id": "302c9930",
   "metadata": {},
   "source": [
    "As p-value<0.05, we have sufficient evidence to reject the null hypothesis to say that sample does not come from a normal distribution."
   ]
  },
  {
   "cell_type": "markdown",
   "id": "0d090408",
   "metadata": {},
   "source": [
    "As distribution of the proportion of fraud cases across values of bank_integration cannot be assumed as normal, will use Mann-Whitney U test for hypothesis testing"
   ]
  },
  {
   "cell_type": "markdown",
   "id": "a88a92cf",
   "metadata": {},
   "source": [
    "# Mann-Whitney U test"
   ]
  },
  {
   "cell_type": "code",
   "execution_count": 9,
   "id": "1236b18f",
   "metadata": {},
   "outputs": [],
   "source": [
    "low_integration = distribution_percentage[distribution_percentage['bank_integration'] <= threshold][1]\n",
    "high_integration = distribution_percentage[distribution_percentage['bank_integration'] > threshold][1]"
   ]
  },
  {
   "cell_type": "code",
   "execution_count": 10,
   "id": "927bf00a",
   "metadata": {},
   "outputs": [
    {
     "data": {
      "text/plain": [
       "MannwhitneyuResult(statistic=403.0, pvalue=0.0002611719663051031)"
      ]
     },
     "execution_count": 10,
     "metadata": {},
     "output_type": "execute_result"
    }
   ],
   "source": [
    "stats.mannwhitneyu(x=low_integration, y=high_integration, alternative='greater')"
   ]
  },
  {
   "cell_type": "markdown",
   "id": "751b091b",
   "metadata": {},
   "source": [
    "Since the p-value< 0.05, we have sufficient evidence to reject null hypothesis to say that the proportion of fraud cases among lower values of bank_integration is higher than the proportion of fraud cases in higher values of bank_integration"
   ]
  }
 ],
 "metadata": {
  "kernelspec": {
   "display_name": "Python 3 (ipykernel)",
   "language": "python",
   "name": "python3"
  },
  "language_info": {
   "codemirror_mode": {
    "name": "ipython",
    "version": 3
   },
   "file_extension": ".py",
   "mimetype": "text/x-python",
   "name": "python",
   "nbconvert_exporter": "python",
   "pygments_lexer": "ipython3",
   "version": "3.9.12"
  },
  "toc": {
   "base_numbering": 1,
   "nav_menu": {},
   "number_sections": true,
   "sideBar": true,
   "skip_h1_title": false,
   "title_cell": "Table of Contents",
   "title_sidebar": "Contents",
   "toc_cell": false,
   "toc_position": {},
   "toc_section_display": true,
   "toc_window_display": false
  }
 },
 "nbformat": 4,
 "nbformat_minor": 5
}
