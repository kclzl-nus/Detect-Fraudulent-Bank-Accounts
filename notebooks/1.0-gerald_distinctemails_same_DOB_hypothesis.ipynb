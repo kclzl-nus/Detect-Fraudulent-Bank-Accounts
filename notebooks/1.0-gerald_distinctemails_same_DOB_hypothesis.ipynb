{
 "cells": [
  {
   "cell_type": "markdown",
   "id": "bb6cd962-eaf6-4029-8dfb-bac507984892",
   "metadata": {},
   "source": [
    "# higher number of distinct emails with same DOB is indicative of lower fraud occurence"
   ]
  },
  {
   "cell_type": "code",
   "execution_count": null,
   "id": "334efa31-0d91-4108-8088-18bb27b6eb6b",
   "metadata": {},
   "outputs": [],
   "source": []
  },
  {
   "cell_type": "code",
   "execution_count": 25,
   "id": "990b33d4-bff0-43df-a6a8-cc4d458dd070",
   "metadata": {},
   "outputs": [],
   "source": [
    "import pandas as pd\n",
    "import matplotlib.pyplot as plt\n",
    "import numpy as np\n",
    "import seaborn as sns\n",
    "from scipy.stats import ttest_ind\n",
    "from scipy.stats import shapiro\n",
    "from scipy.stats import chi2_contingency\n",
    "from scipy.stats import mannwhitneyu\n",
    "import statsmodels.api as sm\n",
    "from statsmodels.formula.api import ols\n",
    "from scipy.stats import pointbiserialr\n",
    "\n",
    "\n",
    "# Read the CSV file into a DataFrame\n",
    "df = pd.read_csv('undersampled_data.csv')"
   ]
  },
  {
   "cell_type": "code",
   "execution_count": 26,
   "id": "87fb5e34-79b0-41c7-8104-f40ae6148a11",
   "metadata": {},
   "outputs": [
    {
     "data": {
      "image/png": "[encoded data removed]",
      "text/plain": [
       "<Figure size 1200x800 with 1 Axes>"
      ]
     },
     "metadata": {},
     "output_type": "display_data"
    },
    {
     "name": "stdout",
     "output_type": "stream",
     "text": [
      "Column: date_of_birth_distinct_emails_4w\n",
      "T-Statistic: -40.142961424035086\n",
      "P-Value: 0.0\n",
      "Reject the null hypothesis. There is a significant difference in date_of_birth_distinct_emails_4w between fraud and legitimate cases.\n",
      "\n",
      "\n"
     ]
    }
   ],
   "source": [
    "# Subset data for fraudulent and legitimate accounts\n",
    "fraudulent_accounts = df[df['fraud_bool'] == 1]\n",
    "legitimate_accounts = df[df['fraud_bool'] == 0]\n",
    "\n",
    "# Exploratory Data Analysis\n",
    "plt.figure(figsize=(12, 8))\n",
    "\n",
    "\n",
    "# Email History\n",
    "plt.subplot(2, 3, 4)\n",
    "sns.boxplot(x='fraud_bool', y='date_of_birth_distinct_emails_4w', data=df)\n",
    "plt.title('Distinct Emails for Applicants with Same DOB in Last 4 Weeks')\n",
    "\n",
    "\n",
    "\n",
    "plt.tight_layout()\n",
    "plt.show()\n",
    "\n",
    "# Statistical Testing\n",
    "columns_of_interest = ['date_of_birth_distinct_emails_4w']\n",
    "for column in columns_of_interest:\n",
    "    t_stat, p_value = ttest_ind(fraudulent_accounts[column].dropna(), \n",
    "                                legitimate_accounts[column].dropna())\n",
    "    print(f\"Column: {column}\")\n",
    "    print(\"T-Statistic:\", t_stat)\n",
    "    print(\"P-Value:\", p_value)\n",
    "    alpha = 0.05\n",
    "    if p_value < alpha:\n",
    "        print(\"Reject the null hypothesis. There is a significant difference in\", column, \"between fraud and legitimate cases.\")\n",
    "    else:\n",
    "        print(\"Fail to reject the null hypothesis. There is no significant difference in\", column, \"between fraud and legitimate cases.\")\n",
    "    print(\"\\n\")"
   ]
  },
  {
   "cell_type": "code",
   "execution_count": 28,
   "id": "1e420425-5487-46c8-8e8c-c4fc7da59edc",
   "metadata": {},
   "outputs": [],
   "source": [
    "# small p-value indicate a significant difference in date_of_birth_distinct_emails_4w between fraud and legit cases.\n",
    "# possibly suggest that fraud accounts tend to have a significantly lower number of distinct emails for applicants with the same date of birth in the last 4 weeks compared to legit accounts\n",
    "\n",
    "# fraudsters may attempt to use the same date of birth across multiple fraud applications (using bots to spam apply), resulting in a lower number of distinct emails associated with that date of birth.\n",
    "\n",
    "# this supports the hypothesis that certain applicant history features, such as the number of distinct emails associated with the same date of birth are correlated with fraud behavior\n",
    "# banks can leverage these insights to enhance their fraud detection and prevention strategies\n",
    "# For example, they can use the number of distinct emails associated with the same date of birth as a red flag for potential fraudulent activity"
   ]
  },
  {
   "cell_type": "code",
   "execution_count": 29,
   "id": "632ce6c6-448a-4709-9f0e-8ce7cc74471d",
   "metadata": {},
   "outputs": [
    {
     "name": "stdout",
     "output_type": "stream",
     "text": [
      "Shapiro-Wilk test for date_of_birth_distinct_emails_4w of fraudulent accounts:\n",
      "Statistic: 0.9340893030166626\n",
      "P-Value: 0.0\n",
      "\n",
      "Shapiro-Wilk test for date_of_birth_distinct_emails_4w of legitimate accounts:\n",
      "Statistic: 0.9631298780441284\n",
      "P-Value: 0.0\n"
     ]
    },
    {
     "name": "stderr",
     "output_type": "stream",
     "text": [
      "/opt/anaconda3/lib/python3.11/site-packages/scipy/stats/_morestats.py:1882: UserWarning: p-value may not be accurate for N > 5000.\n",
      "  warnings.warn(\"p-value may not be accurate for N > 5000.\")\n"
     ]
    }
   ],
   "source": [
    "# test for normality of predictive features\n",
    "\n",
    "# Shapiro-Wilk test for date_of_birth_distinct_emails_4w of fraudulent accounts\n",
    "\n",
    "\n",
    "# Subset data for fraudulent and legitimate accounts\n",
    "fraudulent_accounts = df[df['fraud_bool'] == 1]\n",
    "legitimate_accounts = df[df['fraud_bool'] == 0]\n",
    "\n",
    "shapiro_stat_fraud, p_value_fraud = shapiro(fraudulent_accounts['date_of_birth_distinct_emails_4w'].dropna())\n",
    "print(\"Shapiro-Wilk test for date_of_birth_distinct_emails_4w of fraudulent accounts:\")\n",
    "print(\"Statistic:\", shapiro_stat_fraud)\n",
    "print(\"P-Value:\", p_value_fraud)\n",
    "\n",
    "# Shapiro-Wilk test for session length of legitimate accounts\n",
    "shapiro_stat_legit, p_value_legit = shapiro(legitimate_accounts['date_of_birth_distinct_emails_4w'].dropna())\n",
    "print(\"\\nShapiro-Wilk test for date_of_birth_distinct_emails_4w of legitimate accounts:\")\n",
    "print(\"Statistic:\", shapiro_stat_legit)\n",
    "print(\"P-Value:\", p_value_legit)"
   ]
  },
  {
   "cell_type": "code",
   "execution_count": null,
   "id": "4afd1cdb-4ced-45f3-9cf2-e9b909ebdc0c",
   "metadata": {},
   "outputs": [],
   "source": []
  },
  {
   "cell_type": "code",
   "execution_count": 5,
   "id": "b53f9973-e7f5-4b1b-bc76-2798ffd22a4f",
   "metadata": {},
   "outputs": [],
   "source": [
    "# things to note:\n",
    "# Shapiro-Wilk test may not be accurate since sample size is > 5000\n",
    "\n",
    "# suppose choose significance level = 0.05 \n",
    "# p value for both fraud and legit cases are very small, less than significance level\n",
    "# cannot assume distribution of 'date_of_birth_distinct_emails_4w' for both cases is normal - so using t-test is not accurate\n",
    "\n",
    "\n",
    "# # alternative is use feature engineering\n",
    "# create categorical bins using 'date_of_birth_distinct_emails_4w'and visualize the distribution of the new categorical feature for fraud and legit cases\n",
    "# transform the continuous date_of_birth_distinct_emails_4w feature into a categorical feature"
   ]
  },
  {
   "cell_type": "code",
   "execution_count": 6,
   "id": "f89a1092-159d-4fcd-a224-cb6df7c53917",
   "metadata": {},
   "outputs": [
    {
     "name": "stdout",
     "output_type": "stream",
     "text": [
      "Point Biserial Correlation Coefficient: -0.15441947016504962\n",
      "p-value: 0.0\n"
     ]
    }
   ],
   "source": [
    "date_of_birth_distinct_emails_4w = df['date_of_birth_distinct_emails_4w']\n",
    "fraud = df['fraud_bool']\n",
    "\n",
    "# Calculate point biserial correlation coefficient and its p-value\n",
    "correlation_coefficient, p_value = pointbiserialr(date_of_birth_distinct_emails_4w, fraud)\n",
    "\n",
    "print(\"Point Biserial Correlation Coefficient:\", correlation_coefficient)\n",
    "print(\"p-value:\", p_value)\n"
   ]
  },
  {
   "cell_type": "code",
   "execution_count": 30,
   "id": "a02fa5b7-f3f9-4ddc-99fb-7029810fef25",
   "metadata": {},
   "outputs": [],
   "source": [
    "# correlation coefficient suggests a negative correlation between date_of_birth_distinct_emails_4w and the likelihood of fraud\n",
    "# negative value indicates as date_of_birth_distinct_emails_4w increases, there is tendency for fraud to be less likely\n",
    "\n",
    "# p value extremely small indicating strong evidence against the null hypothesis that there is no correlation between date_of_birth_distinct_emails_4w and fraud\n",
    "\n",
    "# results suggests that date_of_birth_distinct_emails_4w may have some influence on fraud activities"
   ]
  },
  {
   "cell_type": "markdown",
   "id": "7fbf8dff-ead2-4f50-8ffa-ce77db063447",
   "metadata": {},
   "source": [
    "# use feature engineering, implement new column 'emails_bin' to test the association with fraud occurences"
   ]
  },
  {
   "cell_type": "code",
   "execution_count": 31,
   "id": "9434d6e9-da19-46c5-8d36-1599f466a9f7",
   "metadata": {},
   "outputs": [],
   "source": [
    "# # alternative is use feature engineering\n",
    "# create categorical bins using 'date_of_birth_distinct_emails_4w'and visualize the distribution of the new categorical feature for fraud and legit cases\n",
    "# transform the continuous date_of_birth_distinct_emails_4w feature into a categorical feature"
   ]
  },
  {
   "cell_type": "code",
   "execution_count": 32,
   "id": "616e77a5-2095-49cd-8755-3b7cbe18908a",
   "metadata": {},
   "outputs": [
    {
     "name": "stderr",
     "output_type": "stream",
     "text": [
      "/tmp/ipykernel_54133/3430037724.py:11: FutureWarning: The default of observed=False is deprecated and will be changed to True in a future version of pandas. Pass observed=False to retain current behavior or observed=True to adopt the future default and silence this warning.\n",
      "  fraud_proportion_by_bin = df.groupby('emails_bin')['fraud_bool'].mean().reset_index()\n",
      "/opt/anaconda3/lib/python3.11/site-packages/seaborn/categorical.py:641: FutureWarning: The default of observed=False is deprecated and will be changed to True in a future version of pandas. Pass observed=False to retain current behavior or observed=True to adopt the future default and silence this warning.\n",
      "  grouped_vals = vals.groupby(grouper)\n"
     ]
    },
    {
     "data": {
      "image/png": "[encoded data removed]",
      "text/plain": [
       "<Figure size 1000x600 with 1 Axes>"
      ]
     },
     "metadata": {},
     "output_type": "display_data"
    }
   ],
   "source": [
    "# Define the bin edges and labels for categorical binning\n",
    "bin_edges = [0, 10, 20, 30, 50]  # Define your own bin edges as needed\n",
    "bin_labels = ['0-10', '10-20', '20-30', '>30']  # Define corresponding labels\n",
    "\n",
    "# Perform categorical binning\n",
    "df['emails_bin'] = pd.cut(df['date_of_birth_distinct_emails_4w'], bins=bin_edges, labels=bin_labels)\n",
    "\n",
    "# Assuming df contains the dataset with columns 'emails_bin' and 'fraud_bool'\n",
    "\n",
    "# Calculate the proportion of fraudulent cases for each bin\n",
    "fraud_proportion_by_bin = df.groupby('emails_bin')['fraud_bool'].mean().reset_index()\n",
    "\n",
    "# Plot the relationship between bins and proportion of fraudulent cases\n",
    "plt.figure(figsize=(10, 6))\n",
    "sns.barplot(x='emails_bin', y='fraud_bool', data=fraud_proportion_by_bin, palette='viridis')\n",
    "plt.title('Proportion of Fraudulent Cases by Number of Distinct Emails (Last 4 Weeks)')\n",
    "plt.xlabel('Number of Distinct Emails (Last 4 Weeks)')\n",
    "plt.ylabel('Proportion of Fraudulent Cases')\n",
    "plt.xticks(rotation=45)\n",
    "plt.show()"
   ]
  },
  {
   "cell_type": "code",
   "execution_count": 33,
   "id": "29d6ca74-fd32-4b98-a1b9-8c27df48d729",
   "metadata": {},
   "outputs": [
    {
     "name": "stdout",
     "output_type": "stream",
     "text": [
      "Chi-square Statistic: 1079.3991714408298\n",
      "P-Value: 1.0724595689459299e-233\n",
      "Reject the null hypothesis. There is a significant association between 'emails_bin' and fraud occurrence.\n"
     ]
    }
   ],
   "source": [
    "from scipy.stats import chi2_contingency\n",
    "\n",
    "# Create a contingency table\n",
    "contingency_table = pd.crosstab(df['emails_bin'], df['fraud_bool'])\n",
    "\n",
    "# Perform chi-square test\n",
    "chi2, p_value, _, _ = chi2_contingency(contingency_table)\n",
    "\n",
    "print(\"Chi-square Statistic:\", chi2)\n",
    "print(\"P-Value:\", p_value)\n",
    "\n",
    "# Interpret the results\n",
    "alpha = 0.05\n",
    "if p_value < alpha:\n",
    "    print(\"Reject the null hypothesis. There is a significant association between 'emails_bin' and fraud occurrence.\")\n",
    "else:\n",
    "    print(\"Fail to reject the null hypothesis. There is no significant association between 'emails_bin' and fraud occurrence.\")"
   ]
  },
  {
   "cell_type": "code",
   "execution_count": 12,
   "id": "0ee02c62-6665-45a1-ac8e-944e42d9a697",
   "metadata": {},
   "outputs": [],
   "source": [
    "# suggests a substantial degree of association between the number of distinct emails (email bins) and fraud occurrence\n",
    "# can conclude the association between the 2 features\n",
    "# supports the pattern of higher number of distinct emails indicates lower fraud occurence"
   ]
  },
  {
   "cell_type": "code",
   "execution_count": 35,
   "id": "98a4166e-a7a8-4f3f-a6ac-a3fe2da6b152",
   "metadata": {},
   "outputs": [
    {
     "name": "stdout",
     "output_type": "stream",
     "text": [
      "Point-Biserial Correlation Coefficient: -0.12557690521021964\n",
      "P-Value: 4.983946371574569e-230\n",
      "Negative association: Larger number of distinct emails with same DOB are associated with a lower proportion of fraudulent cases.\n"
     ]
    }
   ],
   "source": [
    "# statistical testing \n",
    "# Point-biserial correlation\n",
    "corr_coeff, p_val = pointbiserialr(df['emails_bin'].cat.codes, df['fraud_bool'])\n",
    "\n",
    "print(\"Point-Biserial Correlation Coefficient:\", corr_coeff)\n",
    "print(\"P-Value:\", p_val)\n",
    "\n",
    "alpha = 0.05\n",
    "if p_val < alpha:\n",
    "    if corr_coeff > 0:\n",
    "        print(\"Positive association: Larger number of distinct emails with same DOB are associated with a higher proportion of fraudulent cases.\")\n",
    "    else:\n",
    "        print(\"Negative association: Larger number of distinct emails with same DOB are associated with a lower proportion of fraudulent cases.\")\n",
    "else:\n",
    "    print(\"No significant association found.\")"
   ]
  },
  {
   "cell_type": "code",
   "execution_count": 36,
   "id": "904f8885-77b0-4070-8879-889e1ac96cee",
   "metadata": {},
   "outputs": [],
   "source": [
    "# supports the hypothesis that the smaller number of distinct emails with same DOB indicative of higher fraud occurences"
   ]
  },
  {
   "cell_type": "code",
   "execution_count": 11,
   "id": "d7c37e17-6429-498e-9155-e1d594101de3",
   "metadata": {},
   "outputs": [
    {
     "name": "stdout",
     "output_type": "stream",
     "text": [
      "                 sum_sq       df           F         PR(>F)\n",
      "emails_bin   149.480698      3.0  365.775857  1.263874e-235\n",
      "Residual    8966.300753  65821.0         NaN            NaN\n"
     ]
    }
   ],
   "source": [
    "\n",
    "# Fit ANOVA model\n",
    "model = ols('fraud_bool ~ emails_bin', data=df).fit()\n",
    "\n",
    "# Perform ANOVA\n",
    "anova_table = sm.stats.anova_lm(model, typ=2)\n",
    "\n",
    "print(anova_table)"
   ]
  },
  {
   "cell_type": "code",
   "execution_count": 34,
   "id": "c7bb9a85-ee27-4d57-bcef-5f89b61e4207",
   "metadata": {},
   "outputs": [],
   "source": [
    "# 'fraud_bool' is the outcome variable and 'emails_bin' is the predictor variable.\n",
    "# specify typ=2 for Type 2 ANOVA, suitable for unbalanced designs.\n",
    "\n",
    "# small p value indicates that number of distinct emails is associated with the different fraud occurrence. \n",
    "\n",
    "# can conclude fraud accounts highly likely to have lower number of distinct emails for applicants with the same date of birth in the last 4 weeks\n"
   ]
  },
  {
   "cell_type": "markdown",
   "id": "80ee55b5-cd35-4005-8a55-5ef5e1775801",
   "metadata": {},
   "source": [
    "# test the effectiveness of using date_of_birth_distinct_emails_4w and credit_risk_score as important predictor for fraud detection and prevention strategies"
   ]
  },
  {
   "cell_type": "code",
   "execution_count": 37,
   "id": "92ce6736-0654-4d09-a102-bb4e34100e21",
   "metadata": {},
   "outputs": [
    {
     "name": "stderr",
     "output_type": "stream",
     "text": [
      "/tmp/ipykernel_54133/3900524074.py:9: FutureWarning: The default of observed=False is deprecated and will be changed to True in a future version of pandas. Pass observed=False to retain current behavior or observed=True to adopt the future default and silence this warning.\n",
      "  fraud_proportion_by_bin_and_score = df.groupby(['emails_bin', 'credit_risk_score_bin'])['fraud_bool'].mean().reset_index()\n",
      "/opt/anaconda3/lib/python3.11/site-packages/seaborn/categorical.py:641: FutureWarning: The default of observed=False is deprecated and will be changed to True in a future version of pandas. Pass observed=False to retain current behavior or observed=True to adopt the future default and silence this warning.\n",
      "  grouped_vals = vals.groupby(grouper)\n"
     ]
    },
    {
     "data": {
      "image/png": "[encoded data removed]",
      "text/plain": [
       "<Figure size 1200x800 with 1 Axes>"
      ]
     },
     "metadata": {},
     "output_type": "display_data"
    }
   ],
   "source": [
    "# Define custom bin edges and labels for 'credit_risk_score'\n",
    "credit_score_bin_edges = [-176, -100, 0, 100, 200, 300, 400] # Define your own custom bin edges\n",
    "credit_score_bin_labels = ['<-100', '-100-0', '0-100', '100-200', '200-300', '>300']  # Define corresponding labels\n",
    "\n",
    "# Perform categorical binning for 'credit_risk_score'\n",
    "df['credit_risk_score_bin'] = pd.cut(df['credit_risk_score'], bins=credit_score_bin_edges, labels=credit_score_bin_labels)\n",
    "\n",
    "# Group data by 'emails_bin' and 'credit_risk_score_bin' and calculate the mean of 'fraud_bool'\n",
    "fraud_proportion_by_bin_and_score = df.groupby(['emails_bin', 'credit_risk_score_bin'])['fraud_bool'].mean().reset_index()\n",
    "\n",
    "# Plot the relationship between bins and proportion of fraudulent cases for each credit risk score bin\n",
    "plt.figure(figsize=(12, 8))\n",
    "sns.barplot(x='emails_bin', y='fraud_bool', hue='credit_risk_score_bin', data=fraud_proportion_by_bin_and_score, palette='viridis')\n",
    "plt.title('Proportion of Fraudulent Cases by Number of Distinct Emails (Last 4 Weeks) and Credit Risk Score')\n",
    "plt.xlabel('Number of Distinct Emails (Last 4 Weeks)')\n",
    "plt.ylabel('Proportion of Fraudulent Cases')\n",
    "plt.xticks(rotation=45)\n",
    "plt.legend(title='Credit Risk Score')\n",
    "plt.tight_layout()\n",
    "plt.show()"
   ]
  },
  {
   "cell_type": "code",
   "execution_count": 13,
   "id": "130f597c-0e5d-42a2-819b-275ebef2253c",
   "metadata": {},
   "outputs": [
    {
     "name": "stdout",
     "output_type": "stream",
     "text": [
      "Chi-square Statistic for 0-10: 2669.050412060975\n",
      "P-Value for 0-10: 0.0\n",
      "Reject the null hypothesis. There is a significant association between 'credit_risk_score_bin' and fraud occurrence in this group.\n",
      "\n",
      "Chi-square Statistic for 10-20: 654.3239136132352\n",
      "P-Value for 10-20: 3.680146693213178e-139\n",
      "Reject the null hypothesis. There is a significant association between 'credit_risk_score_bin' and fraud occurrence in this group.\n",
      "\n",
      "Chi-square Statistic for 20-30: 34.29470304548683\n",
      "P-Value for 20-30: 6.483553610075097e-07\n",
      "Reject the null hypothesis. There is a significant association between 'credit_risk_score_bin' and fraud occurrence in this group.\n",
      "\n",
      "Chi-square Statistic for >30: 4.504238977072311\n",
      "P-Value for >30: 0.34204514269936015\n",
      "Fail to reject the null hypothesis.\n",
      "\n"
     ]
    },
    {
     "name": "stderr",
     "output_type": "stream",
     "text": [
      "/tmp/ipykernel_54133/3068512564.py:4: FutureWarning: The default of observed=False is deprecated and will be changed to True in a future version of pandas. Pass observed=False to retain current behavior or observed=True to adopt the future default and silence this warning.\n",
      "  grouped_data = df.groupby('emails_bin')\n"
     ]
    }
   ],
   "source": [
    "from scipy.stats import chi2_contingency\n",
    "\n",
    "# Group data by 'emails_bin'\n",
    "grouped_data = df.groupby('emails_bin')\n",
    "\n",
    "# Perform chi-square test for each group\n",
    "for name, group in grouped_data:\n",
    "    contingency_table = pd.crosstab(group['credit_risk_score_bin'], group['fraud_bool'])\n",
    "    chi2, p, _, _ = chi2_contingency(contingency_table)\n",
    "    print(f\"Chi-square Statistic for {name}: {chi2}\")\n",
    "    print(f\"P-Value for {name}: {p}\")\n",
    "    if p < 0.05:\n",
    "        print(\"Reject the null hypothesis. There is a significant association between 'credit_risk_score_bin' and fraud occurrence in this group.\")\n",
    "    else:\n",
    "        print(\"Fail to reject the null hypothesis.\")\n",
    "    print()"
   ]
  },
  {
   "cell_type": "code",
   "execution_count": 38,
   "id": "95fb96dc-a2a7-412f-a26b-d68c74a5ca50",
   "metadata": {},
   "outputs": [],
   "source": [
    "# for the bins : 0-10, 10-20, 20-30, \n",
    "# significant association between email_bins,credit_risk_score and fraud occurence \n",
    "\n",
    "# consistent results that suggest that fraud accounts likely to have lower number of distinct emails for applicants with the same date of birth in the last 4 weeks\n",
    "\n",
    "# consistent results of higher credit_risk_score lead to higher fraud rates"
   ]
  },
  {
   "cell_type": "markdown",
   "id": "823362dd-a4d9-4b32-b57c-8fd6aa89ec84",
   "metadata": {},
   "source": [
    "# possible reasons to explain this pattern"
   ]
  },
  {
   "cell_type": "code",
   "execution_count": 15,
   "id": "1f61e4f0-ddca-43f2-abef-fd13c8fc219c",
   "metadata": {},
   "outputs": [],
   "source": [
    "# 1. Fraudsters would choose to rely on anonymity to conceal their identity and evade detection. So they may attempt to create multiple accounts using different or fabricated identities, hence lower count of distinct emails associated with the same date of birth\n",
    "\n",
    "\n",
    "# 2. a higher number of emails associated with the same date of birth could suggest a stronger level of identity verification. As legit users may have multiple email addresses associated with their identity for various legitimate reasons, such as personal and professional communication, so higher count of distinct emails linked to the same date of birth may suggest a more established and verified identity, hence less fraud occurrence\n"
   ]
  },
  {
   "cell_type": "code",
   "execution_count": 19,
   "id": "5f6bbd5f-ac24-48c8-837e-f99fc8ffd1a9",
   "metadata": {},
   "outputs": [
    {
     "data": {
      "text/html": [
       "<div>\n",
       "<style scoped>\n",
       "    .dataframe tbody tr th:only-of-type {\n",
       "        vertical-align: middle;\n",
       "    }\n",
       "\n",
       "    .dataframe tbody tr th {\n",
       "        vertical-align: top;\n",
       "    }\n",
       "\n",
       "    .dataframe thead th {\n",
       "        text-align: right;\n",
       "    }\n",
       "</style>\n",
       "<table border=\"1\" class=\"dataframe\">\n",
       "  <thead>\n",
       "    <tr style=\"text-align: right;\">\n",
       "      <th></th>\n",
       "      <th>fraud_bool</th>\n",
       "      <th>income</th>\n",
       "      <th>name_email_similarity</th>\n",
       "      <th>prev_address_months_count</th>\n",
       "      <th>current_address_months_count</th>\n",
       "      <th>customer_age</th>\n",
       "      <th>days_since_request</th>\n",
       "      <th>intended_balcon_amount</th>\n",
       "      <th>payment_type</th>\n",
       "      <th>zip_count_4w</th>\n",
       "      <th>...</th>\n",
       "      <th>proposed_credit_limit</th>\n",
       "      <th>foreign_request</th>\n",
       "      <th>source</th>\n",
       "      <th>session_length_in_minutes</th>\n",
       "      <th>device_os</th>\n",
       "      <th>keep_alive_session</th>\n",
       "      <th>device_distinct_emails_8w</th>\n",
       "      <th>month</th>\n",
       "      <th>emails_bin</th>\n",
       "      <th>credit_risk_score_bin</th>\n",
       "    </tr>\n",
       "  </thead>\n",
       "  <tbody>\n",
       "    <tr>\n",
       "      <th>0</th>\n",
       "      <td>1</td>\n",
       "      <td>0.9</td>\n",
       "      <td>0.570800</td>\n",
       "      <td>-1</td>\n",
       "      <td>157</td>\n",
       "      <td>60</td>\n",
       "      <td>0.005908</td>\n",
       "      <td>35.337538</td>\n",
       "      <td>AA</td>\n",
       "      <td>4079</td>\n",
       "      <td>...</td>\n",
       "      <td>1500.0</td>\n",
       "      <td>0</td>\n",
       "      <td>INTERNET</td>\n",
       "      <td>4.036394</td>\n",
       "      <td>windows</td>\n",
       "      <td>1</td>\n",
       "      <td>1</td>\n",
       "      <td>0</td>\n",
       "      <td>10-20</td>\n",
       "      <td>100-200</td>\n",
       "    </tr>\n",
       "    <tr>\n",
       "      <th>1</th>\n",
       "      <td>1</td>\n",
       "      <td>0.1</td>\n",
       "      <td>0.993219</td>\n",
       "      <td>-1</td>\n",
       "      <td>67</td>\n",
       "      <td>20</td>\n",
       "      <td>0.015331</td>\n",
       "      <td>92.120139</td>\n",
       "      <td>AA</td>\n",
       "      <td>1192</td>\n",
       "      <td>...</td>\n",
       "      <td>1500.0</td>\n",
       "      <td>0</td>\n",
       "      <td>INTERNET</td>\n",
       "      <td>12.928072</td>\n",
       "      <td>windows</td>\n",
       "      <td>0</td>\n",
       "      <td>1</td>\n",
       "      <td>0</td>\n",
       "      <td>0-10</td>\n",
       "      <td>0-100</td>\n",
       "    </tr>\n",
       "    <tr>\n",
       "      <th>2</th>\n",
       "      <td>1</td>\n",
       "      <td>0.8</td>\n",
       "      <td>0.794351</td>\n",
       "      <td>-1</td>\n",
       "      <td>376</td>\n",
       "      <td>60</td>\n",
       "      <td>17.925951</td>\n",
       "      <td>41.422110</td>\n",
       "      <td>AA</td>\n",
       "      <td>815</td>\n",
       "      <td>...</td>\n",
       "      <td>1500.0</td>\n",
       "      <td>0</td>\n",
       "      <td>INTERNET</td>\n",
       "      <td>2.550167</td>\n",
       "      <td>linux</td>\n",
       "      <td>0</td>\n",
       "      <td>1</td>\n",
       "      <td>0</td>\n",
       "      <td>0-10</td>\n",
       "      <td>100-200</td>\n",
       "    </tr>\n",
       "    <tr>\n",
       "      <th>3</th>\n",
       "      <td>1</td>\n",
       "      <td>0.7</td>\n",
       "      <td>0.090000</td>\n",
       "      <td>-1</td>\n",
       "      <td>58</td>\n",
       "      <td>50</td>\n",
       "      <td>0.004134</td>\n",
       "      <td>-1.000000</td>\n",
       "      <td>AD</td>\n",
       "      <td>4011</td>\n",
       "      <td>...</td>\n",
       "      <td>1500.0</td>\n",
       "      <td>0</td>\n",
       "      <td>INTERNET</td>\n",
       "      <td>3.500856</td>\n",
       "      <td>windows</td>\n",
       "      <td>0</td>\n",
       "      <td>1</td>\n",
       "      <td>0</td>\n",
       "      <td>0-10</td>\n",
       "      <td>100-200</td>\n",
       "    </tr>\n",
       "    <tr>\n",
       "      <th>4</th>\n",
       "      <td>1</td>\n",
       "      <td>0.9</td>\n",
       "      <td>0.998248</td>\n",
       "      <td>31</td>\n",
       "      <td>45</td>\n",
       "      <td>30</td>\n",
       "      <td>0.010165</td>\n",
       "      <td>33.067538</td>\n",
       "      <td>AA</td>\n",
       "      <td>525</td>\n",
       "      <td>...</td>\n",
       "      <td>2000.0</td>\n",
       "      <td>0</td>\n",
       "      <td>INTERNET</td>\n",
       "      <td>44.536211</td>\n",
       "      <td>windows</td>\n",
       "      <td>0</td>\n",
       "      <td>1</td>\n",
       "      <td>0</td>\n",
       "      <td>10-20</td>\n",
       "      <td>200-300</td>\n",
       "    </tr>\n",
       "  </tbody>\n",
       "</table>\n",
       "<p>5 rows × 33 columns</p>\n",
       "</div>"
      ],
      "text/plain": [
       "   fraud_bool  income  name_email_similarity  prev_address_months_count  \\\n",
       "0           1     0.9               0.570800                         -1   \n",
       "1           1     0.1               0.993219                         -1   \n",
       "2           1     0.8               0.794351                         -1   \n",
       "3           1     0.7               0.090000                         -1   \n",
       "4           1     0.9               0.998248                         31   \n",
       "\n",
       "   current_address_months_count  customer_age  days_since_request  \\\n",
       "0                           157            60            0.005908   \n",
       "1                            67            20            0.015331   \n",
       "2                           376            60           17.925951   \n",
       "3                            58            50            0.004134   \n",
       "4                            45            30            0.010165   \n",
       "\n",
       "   intended_balcon_amount payment_type  zip_count_4w  ...  \\\n",
       "0               35.337538           AA          4079  ...   \n",
       "1               92.120139           AA          1192  ...   \n",
       "2               41.422110           AA           815  ...   \n",
       "3               -1.000000           AD          4011  ...   \n",
       "4               33.067538           AA           525  ...   \n",
       "\n",
       "   proposed_credit_limit  foreign_request    source  \\\n",
       "0                 1500.0                0  INTERNET   \n",
       "1                 1500.0                0  INTERNET   \n",
       "2                 1500.0                0  INTERNET   \n",
       "3                 1500.0                0  INTERNET   \n",
       "4                 2000.0                0  INTERNET   \n",
       "\n",
       "   session_length_in_minutes  device_os keep_alive_session  \\\n",
       "0                   4.036394    windows                  1   \n",
       "1                  12.928072    windows                  0   \n",
       "2                   2.550167      linux                  0   \n",
       "3                   3.500856    windows                  0   \n",
       "4                  44.536211    windows                  0   \n",
       "\n",
       "   device_distinct_emails_8w  month emails_bin  credit_risk_score_bin  \n",
       "0                          1      0      10-20                100-200  \n",
       "1                          1      0       0-10                  0-100  \n",
       "2                          1      0       0-10                100-200  \n",
       "3                          1      0       0-10                100-200  \n",
       "4                          1      0      10-20                200-300  \n",
       "\n",
       "[5 rows x 33 columns]"
      ]
     },
     "execution_count": 19,
     "metadata": {},
     "output_type": "execute_result"
    }
   ],
   "source": [
    "df.head()"
   ]
  },
  {
   "cell_type": "code",
   "execution_count": null,
   "id": "f7a22bd6-993a-4d01-8c63-a9486641b1af",
   "metadata": {},
   "outputs": [],
   "source": []
  },
  {
   "cell_type": "code",
   "execution_count": null,
   "id": "665df2d5-2777-4d3f-853f-0008f2557aae",
   "metadata": {},
   "outputs": [],
   "source": []
  },
  {
   "cell_type": "code",
   "execution_count": null,
   "id": "0b6c09b8-cece-4a0c-a887-8193db679147",
   "metadata": {},
   "outputs": [],
   "source": []
  },
  {
   "cell_type": "code",
   "execution_count": null,
   "id": "52d839fe-e7d4-4adf-89cf-1ed96d85949a",
   "metadata": {},
   "outputs": [],
   "source": []
  },
  {
   "cell_type": "code",
   "execution_count": null,
   "id": "f73dc084-66d6-4d72-8922-bc58fb9163d5",
   "metadata": {},
   "outputs": [],
   "source": []
  }
 ],
 "metadata": {
  "kernelspec": {
   "display_name": "Python 3 (ipykernel)",
   "language": "python",
   "name": "python3"
  },
  "language_info": {
   "codemirror_mode": {
    "name": "ipython",
    "version": 3
   },
   "file_extension": ".py",
   "mimetype": "text/x-python",
   "name": "python",
   "nbconvert_exporter": "python",
   "pygments_lexer": "ipython3",
   "version": "3.11.7"
  }
 },
 "nbformat": 4,
 "nbformat_minor": 5
}
