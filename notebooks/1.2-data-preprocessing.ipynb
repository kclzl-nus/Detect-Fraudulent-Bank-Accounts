{
 "cells": [
  {
   "cell_type": "code",
   "execution_count": 39,
   "metadata": {},
   "outputs": [],
   "source": [
    "import pandas as pd\n",
    "from sklearn.preprocessing import LabelEncoder\n",
    "from sklearn.utils import resample\n"
   ]
  },
  {
   "cell_type": "code",
   "execution_count": 40,
   "metadata": {},
   "outputs": [],
   "source": [
    "# Read the CSV file into a DataFrame\n",
    "data = pd.read_csv('../data/raw/Base.csv')"
   ]
  },
  {
   "cell_type": "markdown",
   "metadata": {},
   "source": [
    "Data Preprocessing"
   ]
  },
  {
   "cell_type": "code",
   "execution_count": 41,
   "metadata": {},
   "outputs": [],
   "source": [
    "# Data Cleaning\n",
    "data['intended_balcon_amount'] = data['intended_balcon_amount'].apply(lambda x: -1 if x < 0 else x)\n",
    "data = data[(data['current_address_months_count'] >= 0) & (data['session_length_in_minutes'] >= 0) & (data['device_distinct_emails_8w'] >= 0)]\n",
    "\n",
    "# Convert the variables to the appropriate data types\n",
    "data['fraud_bool'] = data['fraud_bool'].astype('category')\n",
    "data['payment_type'] = data['payment_type'].astype('category')\n",
    "data['employment_status'] = data['employment_status'].astype('category')\n",
    "data['email_is_free'] = data['email_is_free'].astype('uint8')\n",
    "data['housing_status'] = data['housing_status'].astype('category')\n",
    "data['phone_home_valid'] = data['phone_home_valid'].astype('uint8')\n",
    "data['phone_mobile_valid'] = data['phone_mobile_valid'].astype('uint8')\n",
    "data['has_other_cards'] = data['has_other_cards'].astype('uint8')\n",
    "data['foreign_request'] = data['foreign_request'].astype('uint8')\n",
    "data['source'] = data['source'].astype('category')\n",
    "data['device_os'] = data['device_os'].astype('category')"
   ]
  },
  {
   "cell_type": "markdown",
   "metadata": {},
   "source": [
    "Dropping Redundant rows"
   ]
  },
  {
   "cell_type": "code",
   "execution_count": 42,
   "metadata": {},
   "outputs": [],
   "source": [
    "data.drop(columns=['device_fraud_count'], inplace=True)"
   ]
  },
  {
   "cell_type": "markdown",
   "metadata": {},
   "source": [
    "Ratio of 1 to 5"
   ]
  },
  {
   "cell_type": "code",
   "execution_count": 43,
   "metadata": {},
   "outputs": [],
   "source": [
    "# Separate fraud and non-fraud data\n",
    "fraud_data = data[data['fraud_bool'] == 1]\n",
    "non_fraud_data = data[data['fraud_bool'] == 0]\n",
    "\n",
    "# Undersample non-fraud data to match the size of the fraud data\n",
    "undersampled_non_fraud_data = resample(non_fraud_data, replace=False, n_samples=5*len(fraud_data), random_state=42)\n",
    "\n",
    "# Combine fraud and undersampled non-fraud data\n",
    "undersampled_data = pd.concat([fraud_data, undersampled_non_fraud_data])"
   ]
  },
  {
   "cell_type": "code",
   "execution_count": 44,
   "metadata": {},
   "outputs": [],
   "source": [
    "undersampled_data.to_csv('../data/processed/undersampled_data.csv', index=False)"
   ]
  }
 ],
 "metadata": {
  "kernelspec": {
   "display_name": "Python 3",
   "language": "python",
   "name": "python3"
  },
  "language_info": {
   "codemirror_mode": {
    "name": "ipython",
    "version": 3
   },
   "file_extension": ".py",
   "mimetype": "text/x-python",
   "name": "python",
   "nbconvert_exporter": "python",
   "pygments_lexer": "ipython3",
   "version": "3.10.8"
  }
 },
 "nbformat": 4,
 "nbformat_minor": 2
}
