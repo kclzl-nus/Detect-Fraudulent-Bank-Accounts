{
 "cells": [
  {
   "cell_type": "markdown",
   "id": "d36d4866",
   "metadata": {},
   "source": [
    "# income_credit_limit_ratio\n",
    "- This ratio can be interpreted as an indicator of how comfortably a customer can handle the credit given their income. \n",
    "- Additionally, fraudulent applications might exhibit unusual patterns in this ratio. \n",
    "    - A very low ratio suggests that the customer has exceptionally low income relative to the credit limit, which might indicate an unusually high credit limit granted without proper check.\n",
    "    - Conversely, a very high ratio indicates that the customer's income is exceptionally large relative to the customer's credit limit, which could suggest falsified income declarations.\n",
    "    \n",
    "Hypothesis 1: Low Ratio Indicates Potential Fraud\n",
    "- H0: There is no significant difference in the rate of fraudulent cases between the group with low income_credit_limit_ratio (defined as 10% of the range above the min value) and the general population.\n",
    "- H1: Applicants with low income to credit limit ratio tend to have higher fraud rates\n",
    "\n",
    "Hypothesis 2: High Ratio Indicates Potential Fraud\n",
    "- H0: There is no significant difference in the rate of fraudulent cases between the group with high income_credit_limit_ratio (defined as 10% of the range below the max value) and the general population.\n",
    "- H1: Applicants with high income to credit limit ratio tend to have higher fraud rates"
   ]
  },
  {
   "cell_type": "code",
   "execution_count": 2,
   "id": "1b5c0a76",
   "metadata": {},
   "outputs": [],
   "source": [
    "import pandas as pd\n",
    "import numpy as np\n"
   ]
  },
  {
   "cell_type": "code",
   "execution_count": 3,
   "id": "a309611f",
   "metadata": {},
   "outputs": [],
   "source": [
    "x_train =  pd.read_csv('../data/processed/X_train.csv')\n",
    "y_train = pd.read_csv('../data/processed/y_train.csv')\n",
    "df = pd.concat([x_train, y_train], axis=1)"
   ]
  },
  {
   "cell_type": "code",
   "execution_count": 4,
   "id": "87067674",
   "metadata": {},
   "outputs": [],
   "source": [
    "df['income_credit_limit_ratio'] = df['income'] / df['proposed_credit_limit']"
   ]
  },
  {
   "cell_type": "code",
   "execution_count": 72,
   "id": "49287e18",
   "metadata": {},
   "outputs": [
    {
     "data": {
      "text/plain": [
       "Text(0, 0.5, 'Frequency')"
      ]
     },
     "execution_count": 72,
     "metadata": {},
     "output_type": "execute_result"
    },
    {
     "data": {
      "image/png": "[encoded data removed]",
      "text/plain": [
       "<Figure size 1080x720 with 1 Axes>"
      ]
     },
     "metadata": {
      "needs_background": "light"
     },
     "output_type": "display_data"
    }
   ],
   "source": [
    "ax = df['income_credit_limit_ratio'].hist(figsize=[15, 10])\n",
    "ax.set_title('Histogram of Income to Credit Limit Ratio')\n",
    "ax.set_xlabel('Income/Credit Limit Ratio')\n",
    "ax.set_ylabel('Frequency')"
   ]
  },
  {
   "cell_type": "code",
   "execution_count": 8,
   "id": "20dd595f",
   "metadata": {},
   "outputs": [
    {
     "data": {
      "text/plain": [
       "count    52776.000000\n",
       "mean         0.001883\n",
       "std          0.001516\n",
       "min          0.000050\n",
       "25%          0.000500\n",
       "50%          0.001500\n",
       "75%          0.003500\n",
       "max          0.004737\n",
       "Name: income_credit_limit_ratio, dtype: float64"
      ]
     },
     "execution_count": 8,
     "metadata": {},
     "output_type": "execute_result"
    }
   ],
   "source": [
    "df['income_credit_limit_ratio'].describe()"
   ]
  },
  {
   "cell_type": "markdown",
   "id": "2455d344",
   "metadata": {},
   "source": [
    "# 10% of the range below the max value & above min value to determine 'high' & 'low' levels of income_credit_limit_ratio"
   ]
  },
  {
   "cell_type": "code",
   "execution_count": 73,
   "id": "ab8f974a",
   "metadata": {},
   "outputs": [
    {
     "name": "stdout",
     "output_type": "stream",
     "text": [
      "0.0005186842105263158 0.004268157894736843\n"
     ]
    }
   ],
   "source": [
    "low_threshold = (df['income_credit_limit_ratio'].max() - df['income_credit_limit_ratio'].min())*0.1 + df['income_credit_limit_ratio'].min()\n",
    "high_threshold = df['income_credit_limit_ratio'].max() - (df['income_credit_limit_ratio'].max() - df['income_credit_limit_ratio'].min())*0.1\n",
    "print(low_threshold, high_threshold)"
   ]
  },
  {
   "cell_type": "code",
   "execution_count": 74,
   "id": "267b25e4",
   "metadata": {},
   "outputs": [
    {
     "data": {
      "text/html": [
       "<div>\n",
       "<style scoped>\n",
       "    .dataframe tbody tr th:only-of-type {\n",
       "        vertical-align: middle;\n",
       "    }\n",
       "\n",
       "    .dataframe tbody tr th {\n",
       "        vertical-align: top;\n",
       "    }\n",
       "\n",
       "    .dataframe thead th {\n",
       "        text-align: right;\n",
       "    }\n",
       "</style>\n",
       "<table border=\"1\" class=\"dataframe\">\n",
       "  <thead>\n",
       "    <tr style=\"text-align: right;\">\n",
       "      <th>fraud_bool</th>\n",
       "      <th>income_credit_limit_ratio</th>\n",
       "      <th>0</th>\n",
       "      <th>1</th>\n",
       "    </tr>\n",
       "  </thead>\n",
       "  <tbody>\n",
       "    <tr>\n",
       "      <th>0</th>\n",
       "      <td>0.000050</td>\n",
       "      <td>48.214286</td>\n",
       "      <td>51.785714</td>\n",
       "    </tr>\n",
       "    <tr>\n",
       "      <th>1</th>\n",
       "      <td>0.000053</td>\n",
       "      <td>40.000000</td>\n",
       "      <td>60.000000</td>\n",
       "    </tr>\n",
       "    <tr>\n",
       "      <th>2</th>\n",
       "      <td>0.000067</td>\n",
       "      <td>82.034632</td>\n",
       "      <td>17.965368</td>\n",
       "    </tr>\n",
       "    <tr>\n",
       "      <th>3</th>\n",
       "      <td>0.000100</td>\n",
       "      <td>87.564767</td>\n",
       "      <td>12.435233</td>\n",
       "    </tr>\n",
       "    <tr>\n",
       "      <th>4</th>\n",
       "      <td>0.000101</td>\n",
       "      <td>88.235294</td>\n",
       "      <td>11.764706</td>\n",
       "    </tr>\n",
       "  </tbody>\n",
       "</table>\n",
       "</div>"
      ],
      "text/plain": [
       "fraud_bool  income_credit_limit_ratio          0          1\n",
       "0                            0.000050  48.214286  51.785714\n",
       "1                            0.000053  40.000000  60.000000\n",
       "2                            0.000067  82.034632  17.965368\n",
       "3                            0.000100  87.564767  12.435233\n",
       "4                            0.000101  88.235294  11.764706"
      ]
     },
     "execution_count": 74,
     "metadata": {},
     "output_type": "execute_result"
    }
   ],
   "source": [
    "distribution = df.groupby(['income_credit_limit_ratio', 'fraud_bool']).size().unstack(fill_value=0)\n",
    "distribution_percentage = distribution.div(distribution.sum(axis=1), axis=0) * 100\n",
    "distribution_percentage.reset_index(drop=False, inplace=True)\n",
    "distribution_percentage.head()"
   ]
  },
  {
   "cell_type": "code",
   "execution_count": 75,
   "id": "a5e7113c",
   "metadata": {},
   "outputs": [
    {
     "data": {
      "text/plain": [
       "ShapiroResult(statistic=0.7650668621063232, pvalue=1.51136506088001e-10)"
      ]
     },
     "execution_count": 75,
     "metadata": {},
     "output_type": "execute_result"
    }
   ],
   "source": [
    "import numpy as np\n",
    "import scipy.stats as stats\n",
    "from numpy.random import randn\n",
    " \n",
    "stats.shapiro(distribution_percentage[0])"
   ]
  },
  {
   "cell_type": "markdown",
   "id": "ac10f429",
   "metadata": {},
   "source": [
    "As p-value<0.05, we have sufficient evidence to reject the null hypothesis to say that sample does not come from a normal distribution."
   ]
  },
  {
   "cell_type": "markdown",
   "id": "97cf1cf2",
   "metadata": {},
   "source": [
    "As distribution of the proportion of fraud cases across values of income_credit_limit_ratio cannot be assumed as normal, will use Mann-Whitney U test for hypothesis testing"
   ]
  },
  {
   "cell_type": "markdown",
   "id": "320e2bdb",
   "metadata": {},
   "source": [
    "# Mann-Whitney U test"
   ]
  },
  {
   "cell_type": "code",
   "execution_count": 82,
   "id": "e47fcd4e",
   "metadata": {},
   "outputs": [],
   "source": [
    "low_ratio = distribution_percentage[distribution_percentage['income_credit_limit_ratio'] <= low_threshold][1]\n",
    "general_ratio = distribution_percentage[(distribution_percentage['income_credit_limit_ratio'] > low_threshold) &\\\n",
    "                                       (distribution_percentage['income_credit_limit_ratio'] < high_threshold)][1] \n",
    "high_ratio = distribution_percentage[distribution_percentage['income_credit_limit_ratio'] >= high_threshold][1]"
   ]
  },
  {
   "cell_type": "code",
   "execution_count": 83,
   "id": "c06d3c9f",
   "metadata": {},
   "outputs": [
    {
     "data": {
      "text/plain": [
       "MannwhitneyuResult(statistic=1464.0, pvalue=2.458869158101335e-07)"
      ]
     },
     "execution_count": 83,
     "metadata": {},
     "output_type": "execute_result"
    }
   ],
   "source": [
    "stats.mannwhitneyu(x=low_ratio, y=general_ratio, alternative='greater')"
   ]
  },
  {
   "cell_type": "markdown",
   "id": "21d1d476",
   "metadata": {},
   "source": [
    "Since the p-value< 0.05, we have sufficient evidence to reject null hypothesis to say that the proportion of fraud cases among low values of income_credit_limit_ratio is higher than the proportion of fraud cases in normal values of income_credit_limit_ratio"
   ]
  },
  {
   "cell_type": "code",
   "execution_count": 84,
   "id": "eb474252",
   "metadata": {},
   "outputs": [
    {
     "data": {
      "text/plain": [
       "MannwhitneyuResult(statistic=106.5, pvalue=0.05814089090788009)"
      ]
     },
     "execution_count": 84,
     "metadata": {},
     "output_type": "execute_result"
    }
   ],
   "source": [
    "stats.mannwhitneyu(x=high_ratio, y=general_ratio, alternative='greater')"
   ]
  },
  {
   "cell_type": "markdown",
   "id": "05ff6f2e",
   "metadata": {},
   "source": [
    "Since the p-value > 0.05, we have insufficient evidence to reject null hypothesis. Hence, the proportion of fraud cases among high values of income_credit_limit_ratio is not higher than the proportion of fraud cases in normal values of income_credit_limit_ratio"
   ]
  },
  {
   "cell_type": "code",
   "execution_count": null,
   "id": "1f81bf16",
   "metadata": {},
   "outputs": [],
   "source": []
  }
 ],
 "metadata": {
  "kernelspec": {
   "display_name": "Python 3 (ipykernel)",
   "language": "python",
   "name": "python3"
  },
  "language_info": {
   "codemirror_mode": {
    "name": "ipython",
    "version": 3
   },
   "file_extension": ".py",
   "mimetype": "text/x-python",
   "name": "python",
   "nbconvert_exporter": "python",
   "pygments_lexer": "ipython3",
   "version": "3.9.12"
  },
  "toc": {
   "base_numbering": 1,
   "nav_menu": {},
   "number_sections": true,
   "sideBar": true,
   "skip_h1_title": false,
   "title_cell": "Table of Contents",
   "title_sidebar": "Contents",
   "toc_cell": false,
   "toc_position": {},
   "toc_section_display": true,
   "toc_window_display": false
  }
 },
 "nbformat": 4,
 "nbformat_minor": 5
}
