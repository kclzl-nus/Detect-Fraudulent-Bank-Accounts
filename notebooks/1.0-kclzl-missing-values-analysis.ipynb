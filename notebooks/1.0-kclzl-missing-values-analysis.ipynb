{
 "cells": [
  {
   "cell_type": "markdown",
   "metadata": {},
   "source": [
    "# Bank Account Fraud Detection - Missing Values Analysis"
   ]
  },
  {
   "cell_type": "code",
   "execution_count": 1,
   "metadata": {},
   "outputs": [],
   "source": [
    "# import libraries\n",
    "import numpy as np\n",
    "import pandas as pd\n",
    "import matplotlib.pyplot as plt\n",
    "import seaborn as sns"
   ]
  },
  {
   "cell_type": "markdown",
   "metadata": {},
   "source": [
    "**Read Data**"
   ]
  },
  {
   "cell_type": "code",
   "execution_count": 2,
   "metadata": {},
   "outputs": [
    {
     "name": "stdout",
     "output_type": "stream",
     "text": [
      "data shape: (1000000, 32)\n"
     ]
    },
    {
     "data": {
      "text/html": [
       "<div>\n",
       "<style scoped>\n",
       "    .dataframe tbody tr th:only-of-type {\n",
       "        vertical-align: middle;\n",
       "    }\n",
       "\n",
       "    .dataframe tbody tr th {\n",
       "        vertical-align: top;\n",
       "    }\n",
       "\n",
       "    .dataframe thead th {\n",
       "        text-align: right;\n",
       "    }\n",
       "</style>\n",
       "<table border=\"1\" class=\"dataframe\">\n",
       "  <thead>\n",
       "    <tr style=\"text-align: right;\">\n",
       "      <th></th>\n",
       "      <th>fraud_bool</th>\n",
       "      <th>income</th>\n",
       "      <th>name_email_similarity</th>\n",
       "      <th>prev_address_months_count</th>\n",
       "      <th>current_address_months_count</th>\n",
       "      <th>customer_age</th>\n",
       "      <th>days_since_request</th>\n",
       "      <th>intended_balcon_amount</th>\n",
       "      <th>payment_type</th>\n",
       "      <th>zip_count_4w</th>\n",
       "      <th>...</th>\n",
       "      <th>has_other_cards</th>\n",
       "      <th>proposed_credit_limit</th>\n",
       "      <th>foreign_request</th>\n",
       "      <th>source</th>\n",
       "      <th>session_length_in_minutes</th>\n",
       "      <th>device_os</th>\n",
       "      <th>keep_alive_session</th>\n",
       "      <th>device_distinct_emails_8w</th>\n",
       "      <th>device_fraud_count</th>\n",
       "      <th>month</th>\n",
       "    </tr>\n",
       "  </thead>\n",
       "  <tbody>\n",
       "    <tr>\n",
       "      <th>0</th>\n",
       "      <td>0</td>\n",
       "      <td>0.3</td>\n",
       "      <td>0.986506</td>\n",
       "      <td>-1</td>\n",
       "      <td>25</td>\n",
       "      <td>40</td>\n",
       "      <td>0.006735</td>\n",
       "      <td>102.453711</td>\n",
       "      <td>AA</td>\n",
       "      <td>1059</td>\n",
       "      <td>...</td>\n",
       "      <td>0</td>\n",
       "      <td>1500.0</td>\n",
       "      <td>0</td>\n",
       "      <td>INTERNET</td>\n",
       "      <td>16.224843</td>\n",
       "      <td>linux</td>\n",
       "      <td>1</td>\n",
       "      <td>1</td>\n",
       "      <td>0</td>\n",
       "      <td>0</td>\n",
       "    </tr>\n",
       "    <tr>\n",
       "      <th>1</th>\n",
       "      <td>0</td>\n",
       "      <td>0.8</td>\n",
       "      <td>0.617426</td>\n",
       "      <td>-1</td>\n",
       "      <td>89</td>\n",
       "      <td>20</td>\n",
       "      <td>0.010095</td>\n",
       "      <td>-0.849551</td>\n",
       "      <td>AD</td>\n",
       "      <td>1658</td>\n",
       "      <td>...</td>\n",
       "      <td>0</td>\n",
       "      <td>1500.0</td>\n",
       "      <td>0</td>\n",
       "      <td>INTERNET</td>\n",
       "      <td>3.363854</td>\n",
       "      <td>other</td>\n",
       "      <td>1</td>\n",
       "      <td>1</td>\n",
       "      <td>0</td>\n",
       "      <td>0</td>\n",
       "    </tr>\n",
       "    <tr>\n",
       "      <th>2</th>\n",
       "      <td>0</td>\n",
       "      <td>0.8</td>\n",
       "      <td>0.996707</td>\n",
       "      <td>9</td>\n",
       "      <td>14</td>\n",
       "      <td>40</td>\n",
       "      <td>0.012316</td>\n",
       "      <td>-1.490386</td>\n",
       "      <td>AB</td>\n",
       "      <td>1095</td>\n",
       "      <td>...</td>\n",
       "      <td>0</td>\n",
       "      <td>200.0</td>\n",
       "      <td>0</td>\n",
       "      <td>INTERNET</td>\n",
       "      <td>22.730559</td>\n",
       "      <td>windows</td>\n",
       "      <td>0</td>\n",
       "      <td>1</td>\n",
       "      <td>0</td>\n",
       "      <td>0</td>\n",
       "    </tr>\n",
       "    <tr>\n",
       "      <th>3</th>\n",
       "      <td>0</td>\n",
       "      <td>0.6</td>\n",
       "      <td>0.475100</td>\n",
       "      <td>11</td>\n",
       "      <td>14</td>\n",
       "      <td>30</td>\n",
       "      <td>0.006991</td>\n",
       "      <td>-1.863101</td>\n",
       "      <td>AB</td>\n",
       "      <td>3483</td>\n",
       "      <td>...</td>\n",
       "      <td>0</td>\n",
       "      <td>200.0</td>\n",
       "      <td>0</td>\n",
       "      <td>INTERNET</td>\n",
       "      <td>15.215816</td>\n",
       "      <td>linux</td>\n",
       "      <td>1</td>\n",
       "      <td>1</td>\n",
       "      <td>0</td>\n",
       "      <td>0</td>\n",
       "    </tr>\n",
       "    <tr>\n",
       "      <th>4</th>\n",
       "      <td>0</td>\n",
       "      <td>0.9</td>\n",
       "      <td>0.842307</td>\n",
       "      <td>-1</td>\n",
       "      <td>29</td>\n",
       "      <td>40</td>\n",
       "      <td>5.742626</td>\n",
       "      <td>47.152498</td>\n",
       "      <td>AA</td>\n",
       "      <td>2339</td>\n",
       "      <td>...</td>\n",
       "      <td>0</td>\n",
       "      <td>200.0</td>\n",
       "      <td>0</td>\n",
       "      <td>INTERNET</td>\n",
       "      <td>3.743048</td>\n",
       "      <td>other</td>\n",
       "      <td>0</td>\n",
       "      <td>1</td>\n",
       "      <td>0</td>\n",
       "      <td>0</td>\n",
       "    </tr>\n",
       "  </tbody>\n",
       "</table>\n",
       "<p>5 rows × 32 columns</p>\n",
       "</div>"
      ],
      "text/plain": [
       "   fraud_bool  income  name_email_similarity  prev_address_months_count  \\\n",
       "0           0     0.3               0.986506                         -1   \n",
       "1           0     0.8               0.617426                         -1   \n",
       "2           0     0.8               0.996707                          9   \n",
       "3           0     0.6               0.475100                         11   \n",
       "4           0     0.9               0.842307                         -1   \n",
       "\n",
       "   current_address_months_count  customer_age  days_since_request  \\\n",
       "0                            25            40            0.006735   \n",
       "1                            89            20            0.010095   \n",
       "2                            14            40            0.012316   \n",
       "3                            14            30            0.006991   \n",
       "4                            29            40            5.742626   \n",
       "\n",
       "   intended_balcon_amount payment_type  zip_count_4w  ...  has_other_cards  \\\n",
       "0              102.453711           AA          1059  ...                0   \n",
       "1               -0.849551           AD          1658  ...                0   \n",
       "2               -1.490386           AB          1095  ...                0   \n",
       "3               -1.863101           AB          3483  ...                0   \n",
       "4               47.152498           AA          2339  ...                0   \n",
       "\n",
       "   proposed_credit_limit  foreign_request    source  \\\n",
       "0                 1500.0                0  INTERNET   \n",
       "1                 1500.0                0  INTERNET   \n",
       "2                  200.0                0  INTERNET   \n",
       "3                  200.0                0  INTERNET   \n",
       "4                  200.0                0  INTERNET   \n",
       "\n",
       "   session_length_in_minutes device_os  keep_alive_session  \\\n",
       "0                  16.224843     linux                   1   \n",
       "1                   3.363854     other                   1   \n",
       "2                  22.730559   windows                   0   \n",
       "3                  15.215816     linux                   1   \n",
       "4                   3.743048     other                   0   \n",
       "\n",
       "   device_distinct_emails_8w device_fraud_count  month  \n",
       "0                          1                  0      0  \n",
       "1                          1                  0      0  \n",
       "2                          1                  0      0  \n",
       "3                          1                  0      0  \n",
       "4                          1                  0      0  \n",
       "\n",
       "[5 rows x 32 columns]"
      ]
     },
     "execution_count": 2,
     "metadata": {},
     "output_type": "execute_result"
    }
   ],
   "source": [
    "# import data\n",
    "data = pd.read_csv('../data/raw/raw_data.csv')\n",
    "print(f\"data shape: {data.shape}\")\n",
    "data.head()"
   ]
  },
  {
   "cell_type": "markdown",
   "metadata": {},
   "source": [
    "## Data Cleaning\n",
    "\n",
    "1. Split into numerical and categorical columns\n",
    "2. Check number of missing values"
   ]
  },
  {
   "cell_type": "code",
   "execution_count": 3,
   "metadata": {},
   "outputs": [],
   "source": [
    "# define categorical and numerical columns\n",
    "categorical_columns = ['fraud_bool', 'payment_type', 'employment_status', 'email_is_free', 'housing_status', 'phone_home_valid', 'phone_mobile_valid', 'has_other_cards', 'foreign_request', 'source', 'device_os', 'keep_alive_session', 'device_distinct_emails_8w']\n",
    "\n",
    "# define numerical columns, everything else\n",
    "numerical_columns = [col for col in data.columns if col not in categorical_columns]"
   ]
  },
  {
   "cell_type": "code",
   "execution_count": 4,
   "metadata": {},
   "outputs": [],
   "source": [
    "# change datatype of categorical columns to 'category'\n",
    "data[categorical_columns] = data[categorical_columns].astype('category')"
   ]
  },
  {
   "cell_type": "code",
   "execution_count": 5,
   "metadata": {},
   "outputs": [
    {
     "data": {
      "text/plain": [
       "Index(['fraud_bool', 'income', 'name_email_similarity',\n",
       "       'prev_address_months_count', 'current_address_months_count',\n",
       "       'customer_age', 'days_since_request', 'intended_balcon_amount',\n",
       "       'payment_type', 'zip_count_4w', 'velocity_6h', 'velocity_24h',\n",
       "       'velocity_4w', 'bank_branch_count_8w',\n",
       "       'date_of_birth_distinct_emails_4w', 'employment_status',\n",
       "       'credit_risk_score', 'email_is_free', 'housing_status',\n",
       "       'phone_home_valid', 'phone_mobile_valid', 'bank_months_count',\n",
       "       'has_other_cards', 'proposed_credit_limit', 'foreign_request', 'source',\n",
       "       'session_length_in_minutes', 'device_os', 'keep_alive_session',\n",
       "       'device_distinct_emails_8w', 'device_fraud_count', 'month'],\n",
       "      dtype='object')"
      ]
     },
     "execution_count": 5,
     "metadata": {},
     "output_type": "execute_result"
    }
   ],
   "source": [
    "# print columnn names\n",
    "data.columns"
   ]
  },
  {
   "cell_type": "code",
   "execution_count": 6,
   "metadata": {},
   "outputs": [
    {
     "name": "stderr",
     "output_type": "stream",
     "text": [
      "/var/folders/_3/8z9s_23x6w349w1_9vlqlhzh0000gn/T/ipykernel_97817/1514125876.py:9: SettingWithCopyWarning: \n",
      "A value is trying to be set on a copy of a slice from a DataFrame.\n",
      "Try using .loc[row_indexer,col_indexer] = value instead\n",
      "\n",
      "See the caveats in the documentation: https://pandas.pydata.org/pandas-docs/stable/user_guide/indexing.html#returning-a-view-versus-a-copy\n",
      "  missing[missing <= 0] = np.nan\n",
      "/var/folders/_3/8z9s_23x6w349w1_9vlqlhzh0000gn/T/ipykernel_97817/1514125876.py:9: SettingWithCopyWarning: \n",
      "A value is trying to be set on a copy of a slice from a DataFrame\n",
      "\n",
      "See the caveats in the documentation: https://pandas.pydata.org/pandas-docs/stable/user_guide/indexing.html#returning-a-view-versus-a-copy\n",
      "  missing[missing <= 0] = np.nan\n"
     ]
    },
    {
     "data": {
      "text/plain": [
       "prev_address_months_count       712920\n",
       "current_address_months_count     13863\n",
       "intended_balcon_amount          742523\n",
       "bank_months_count               253635\n",
       "session_length_in_minutes         2015\n",
       "device_distinct_emails_8w         6631\n",
       "dtype: int64"
      ]
     },
     "execution_count": 6,
     "metadata": {},
     "output_type": "execute_result"
    }
   ],
   "source": [
    "# columns with potential missing values\n",
    "na_cols = ['prev_address_months_count', 'current_address_months_count', 'intended_balcon_amount', 'bank_months_count', 'session_length_in_minutes', 'device_distinct_emails_8w']\n",
    "\n",
    "# check for missing values, if values are -1 or negative, they are considered missing\n",
    "# if data is negative, it is considered missing\n",
    "# change devise_distinct_emails_8w to numerical\n",
    "data['device_distinct_emails_8w'] = data['device_distinct_emails_8w'].astype(int)\n",
    "missing = data[na_cols]\n",
    "missing[missing <= 0] = np.nan\n",
    "missing.isnull().sum()"
   ]
  },
  {
   "cell_type": "code",
   "execution_count": 7,
   "metadata": {},
   "outputs": [
    {
     "data": {
      "text/html": [
       "<div>\n",
       "<style scoped>\n",
       "    .dataframe tbody tr th:only-of-type {\n",
       "        vertical-align: middle;\n",
       "    }\n",
       "\n",
       "    .dataframe tbody tr th {\n",
       "        vertical-align: top;\n",
       "    }\n",
       "\n",
       "    .dataframe thead th {\n",
       "        text-align: right;\n",
       "    }\n",
       "</style>\n",
       "<table border=\"1\" class=\"dataframe\">\n",
       "  <thead>\n",
       "    <tr style=\"text-align: right;\">\n",
       "      <th></th>\n",
       "      <th>na_counts</th>\n",
       "      <th>na_proportion</th>\n",
       "    </tr>\n",
       "  </thead>\n",
       "  <tbody>\n",
       "    <tr>\n",
       "      <th>prev_address_months_count</th>\n",
       "      <td>712920</td>\n",
       "      <td>71.29</td>\n",
       "    </tr>\n",
       "    <tr>\n",
       "      <th>current_address_months_count</th>\n",
       "      <td>13863</td>\n",
       "      <td>1.39</td>\n",
       "    </tr>\n",
       "    <tr>\n",
       "      <th>intended_balcon_amount</th>\n",
       "      <td>742523</td>\n",
       "      <td>74.25</td>\n",
       "    </tr>\n",
       "    <tr>\n",
       "      <th>bank_months_count</th>\n",
       "      <td>253635</td>\n",
       "      <td>25.36</td>\n",
       "    </tr>\n",
       "    <tr>\n",
       "      <th>session_length_in_minutes</th>\n",
       "      <td>2015</td>\n",
       "      <td>0.20</td>\n",
       "    </tr>\n",
       "    <tr>\n",
       "      <th>device_distinct_emails_8w</th>\n",
       "      <td>6631</td>\n",
       "      <td>0.66</td>\n",
       "    </tr>\n",
       "  </tbody>\n",
       "</table>\n",
       "</div>"
      ],
      "text/plain": [
       "                              na_counts  na_proportion\n",
       "prev_address_months_count        712920          71.29\n",
       "current_address_months_count      13863           1.39\n",
       "intended_balcon_amount           742523          74.25\n",
       "bank_months_count                253635          25.36\n",
       "session_length_in_minutes          2015           0.20\n",
       "device_distinct_emails_8w          6631           0.66"
      ]
     },
     "execution_count": 7,
     "metadata": {},
     "output_type": "execute_result"
    }
   ],
   "source": [
    "# create dataframe with na_counts, na_percentage\n",
    "missing_info = missing.isnull().sum().to_frame(name='na_counts')\n",
    "missing_info['na_proportion'] = round((missing_info['na_counts'] / data.shape[0])*100, 2)\n",
    "missing_info"
   ]
  },
  {
   "cell_type": "code",
   "execution_count": 8,
   "metadata": {},
   "outputs": [
    {
     "data": {
      "text/plain": [
       "fraud_bool\n",
       "0    988971\n",
       "1     11029\n",
       "Name: count, dtype: int64"
      ]
     },
     "execution_count": 8,
     "metadata": {},
     "output_type": "execute_result"
    }
   ],
   "source": [
    "data['fraud_bool'].value_counts()"
   ]
  },
  {
   "cell_type": "code",
   "execution_count": 9,
   "metadata": {},
   "outputs": [
    {
     "name": "stdout",
     "output_type": "stream",
     "text": [
      "missing_data shape: (1000000, 7)\n"
     ]
    },
    {
     "data": {
      "text/html": [
       "<div>\n",
       "<style scoped>\n",
       "    .dataframe tbody tr th:only-of-type {\n",
       "        vertical-align: middle;\n",
       "    }\n",
       "\n",
       "    .dataframe tbody tr th {\n",
       "        vertical-align: top;\n",
       "    }\n",
       "\n",
       "    .dataframe thead th {\n",
       "        text-align: right;\n",
       "    }\n",
       "</style>\n",
       "<table border=\"1\" class=\"dataframe\">\n",
       "  <thead>\n",
       "    <tr style=\"text-align: right;\">\n",
       "      <th></th>\n",
       "      <th>prev_address_months_count</th>\n",
       "      <th>current_address_months_count</th>\n",
       "      <th>intended_balcon_amount</th>\n",
       "      <th>bank_months_count</th>\n",
       "      <th>session_length_in_minutes</th>\n",
       "      <th>device_distinct_emails_8w</th>\n",
       "      <th>fraud_bool</th>\n",
       "    </tr>\n",
       "  </thead>\n",
       "  <tbody>\n",
       "    <tr>\n",
       "      <th>0</th>\n",
       "      <td>NaN</td>\n",
       "      <td>25.0</td>\n",
       "      <td>102.453711</td>\n",
       "      <td>9.0</td>\n",
       "      <td>16.224843</td>\n",
       "      <td>1.0</td>\n",
       "      <td>0</td>\n",
       "    </tr>\n",
       "    <tr>\n",
       "      <th>1</th>\n",
       "      <td>NaN</td>\n",
       "      <td>89.0</td>\n",
       "      <td>NaN</td>\n",
       "      <td>2.0</td>\n",
       "      <td>3.363854</td>\n",
       "      <td>1.0</td>\n",
       "      <td>0</td>\n",
       "    </tr>\n",
       "    <tr>\n",
       "      <th>2</th>\n",
       "      <td>9.0</td>\n",
       "      <td>14.0</td>\n",
       "      <td>NaN</td>\n",
       "      <td>30.0</td>\n",
       "      <td>22.730559</td>\n",
       "      <td>1.0</td>\n",
       "      <td>0</td>\n",
       "    </tr>\n",
       "    <tr>\n",
       "      <th>3</th>\n",
       "      <td>11.0</td>\n",
       "      <td>14.0</td>\n",
       "      <td>NaN</td>\n",
       "      <td>1.0</td>\n",
       "      <td>15.215816</td>\n",
       "      <td>1.0</td>\n",
       "      <td>0</td>\n",
       "    </tr>\n",
       "    <tr>\n",
       "      <th>4</th>\n",
       "      <td>NaN</td>\n",
       "      <td>29.0</td>\n",
       "      <td>47.152498</td>\n",
       "      <td>26.0</td>\n",
       "      <td>3.743048</td>\n",
       "      <td>1.0</td>\n",
       "      <td>0</td>\n",
       "    </tr>\n",
       "  </tbody>\n",
       "</table>\n",
       "</div>"
      ],
      "text/plain": [
       "   prev_address_months_count  current_address_months_count  \\\n",
       "0                        NaN                          25.0   \n",
       "1                        NaN                          89.0   \n",
       "2                        9.0                          14.0   \n",
       "3                       11.0                          14.0   \n",
       "4                        NaN                          29.0   \n",
       "\n",
       "   intended_balcon_amount  bank_months_count  session_length_in_minutes  \\\n",
       "0              102.453711                9.0                  16.224843   \n",
       "1                     NaN                2.0                   3.363854   \n",
       "2                     NaN               30.0                  22.730559   \n",
       "3                     NaN                1.0                  15.215816   \n",
       "4               47.152498               26.0                   3.743048   \n",
       "\n",
       "   device_distinct_emails_8w fraud_bool  \n",
       "0                        1.0          0  \n",
       "1                        1.0          0  \n",
       "2                        1.0          0  \n",
       "3                        1.0          0  \n",
       "4                        1.0          0  "
      ]
     },
     "execution_count": 9,
     "metadata": {},
     "output_type": "execute_result"
    }
   ],
   "source": [
    "# concat missing with data['fraud_bool'] along columns\n",
    "missing_data = pd.concat([missing, data['fraud_bool']], axis=1)\n",
    "print(f'missing_data shape: {missing_data.shape}')\n",
    "missing_data.head()"
   ]
  },
  {
   "cell_type": "code",
   "execution_count": 10,
   "metadata": {},
   "outputs": [
    {
     "data": {
      "text/plain": [
       "fraud_bool\n",
       "0    988971\n",
       "1     11029\n",
       "Name: count, dtype: int64"
      ]
     },
     "execution_count": 10,
     "metadata": {},
     "output_type": "execute_result"
    }
   ],
   "source": [
    "data['fraud_bool'].value_counts()"
   ]
  },
  {
   "cell_type": "code",
   "execution_count": 11,
   "metadata": {},
   "outputs": [
    {
     "data": {
      "text/plain": [
       "fraud_bool\n",
       "0    702786\n",
       "1     10134\n",
       "Name: count, dtype: int64"
      ]
     },
     "execution_count": 11,
     "metadata": {},
     "output_type": "execute_result"
    }
   ],
   "source": [
    "# keep rows with missing data\n",
    "prev_address_months_count_missing = missing_data[missing_data['prev_address_months_count'].isnull()]\n",
    "\n",
    "prev_address_months_count_missing['fraud_bool'].value_counts() # 10134/11029 = 91.8% fraud cases"
   ]
  },
  {
   "cell_type": "code",
   "execution_count": 12,
   "metadata": {},
   "outputs": [
    {
     "data": {
      "text/plain": [
       "fraud_bool\n",
       "0    13814\n",
       "1       49\n",
       "Name: count, dtype: int64"
      ]
     },
     "execution_count": 12,
     "metadata": {},
     "output_type": "execute_result"
    }
   ],
   "source": [
    "# keep rows with missing data\n",
    "current_address_months_count_missing = missing_data[missing_data['current_address_months_count'].isnull()]\n",
    "\n",
    "current_address_months_count_missing['fraud_bool'].value_counts() # 49/11029 = 0.44% fraud cases"
   ]
  },
  {
   "cell_type": "code",
   "execution_count": 13,
   "metadata": {},
   "outputs": [
    {
     "data": {
      "text/plain": [
       "fraud_bool\n",
       "0    732776\n",
       "1      9747\n",
       "Name: count, dtype: int64"
      ]
     },
     "execution_count": 13,
     "metadata": {},
     "output_type": "execute_result"
    }
   ],
   "source": [
    "intended_balcon_amount_missing = missing_data[missing_data['intended_balcon_amount'].isnull()]\n",
    "\n",
    "intended_balcon_amount_missing['fraud_bool'].value_counts() # 9747/11029 = 88.4% fraud cases"
   ]
  },
  {
   "cell_type": "code",
   "execution_count": 14,
   "metadata": {},
   "outputs": [
    {
     "data": {
      "text/plain": [
       "fraud_bool\n",
       "0    249495\n",
       "1      4140\n",
       "Name: count, dtype: int64"
      ]
     },
     "execution_count": 14,
     "metadata": {},
     "output_type": "execute_result"
    }
   ],
   "source": [
    "bank_months_count_missing = missing_data[missing_data['bank_months_count'].isnull()]\n",
    "\n",
    "bank_months_count_missing['fraud_bool'].value_counts() # 4140/11029 = 37.5% fraud cases"
   ]
  },
  {
   "cell_type": "code",
   "execution_count": 15,
   "metadata": {},
   "outputs": [
    {
     "data": {
      "text/plain": [
       "fraud_bool\n",
       "0    1997\n",
       "1      18\n",
       "Name: count, dtype: int64"
      ]
     },
     "execution_count": 15,
     "metadata": {},
     "output_type": "execute_result"
    }
   ],
   "source": [
    "session_length_in_minutes_missing = missing_data[missing_data['session_length_in_minutes'].isnull()]\n",
    "\n",
    "session_length_in_minutes_missing['fraud_bool'].value_counts() # 18/11029 = 0.16% fraud cases"
   ]
  },
  {
   "cell_type": "code",
   "execution_count": 16,
   "metadata": {},
   "outputs": [
    {
     "data": {
      "text/plain": [
       "fraud_bool\n",
       "0    6476\n",
       "1     155\n",
       "Name: count, dtype: int64"
      ]
     },
     "execution_count": 16,
     "metadata": {},
     "output_type": "execute_result"
    }
   ],
   "source": [
    "device_distinct_emails_8w_missing = missing_data[missing_data['device_distinct_emails_8w'].isnull()]\n",
    "\n",
    "device_distinct_emails_8w_missing['fraud_bool'].value_counts() # 155/11029 = 1.41% fraud cases"
   ]
  },
  {
   "cell_type": "code",
   "execution_count": 17,
   "metadata": {},
   "outputs": [
    {
     "name": "stdout",
     "output_type": "stream",
     "text": [
      "combination_missing shape: (522549, 7)\n"
     ]
    },
    {
     "data": {
      "text/plain": [
       "fraud_bool\n",
       "0    513606\n",
       "1      8943\n",
       "Name: count, dtype: int64"
      ]
     },
     "execution_count": 17,
     "metadata": {},
     "output_type": "execute_result"
    }
   ],
   "source": [
    "# find all the rows that have missing values in 'prev_address_months_count' and 'intended_balcon_amount'\n",
    "combination_missing = missing_data[(missing_data['prev_address_months_count'].isnull()) & (missing_data['intended_balcon_amount'].isnull())]\n",
    "print(f'combination_missing shape: {combination_missing.shape}')\n",
    "combination_missing['fraud_bool'].value_counts() # 8943/11029 = 81.1% fraud cases"
   ]
  },
  {
   "cell_type": "code",
   "execution_count": 18,
   "metadata": {},
   "outputs": [
    {
     "name": "stdout",
     "output_type": "stream",
     "text": [
      "combination_missing shape: (161867, 7)\n"
     ]
    }
   ],
   "source": [
    "combination_missing = missing_data[(missing_data['prev_address_months_count'].isnull()) & (missing_data['intended_balcon_amount'].isnull()) & (missing_data['bank_months_count'].isnull())]\n",
    "print(f'combination_missing shape: {combination_missing.shape}')\n",
    "combination_missing = combination_missing['fraud_bool'].value_counts()\n"
   ]
  },
  {
   "cell_type": "code",
   "execution_count": 19,
   "metadata": {},
   "outputs": [
    {
     "data": {
      "text/plain": [
       "prev_address_months_count       712920\n",
       "current_address_months_count     13863\n",
       "intended_balcon_amount          742523\n",
       "bank_months_count               253635\n",
       "session_length_in_minutes         2015\n",
       "device_distinct_emails_8w         6631\n",
       "fraud_bool                           0\n",
       "dtype: int64"
      ]
     },
     "execution_count": 19,
     "metadata": {},
     "output_type": "execute_result"
    }
   ],
   "source": [
    "missing_data.isna().sum()"
   ]
  },
  {
   "cell_type": "markdown",
   "metadata": {},
   "source": [
    "**Conclusion on Missing Values Analysis**\n",
    "\n",
    "| Columns with Missing Values | % of Fraud Cases that have missing values | % of Non-Fraud Cases that have missing values |\n",
    "|:----------------------------|:------------------------------------------|:----------------------------------------------|\n",
    "| prev_address_months_count | 91.8% | 71.1% |\n",
    "| current_address_months_count | 0.44% | 1.39% |\n",
    "| intended_balcon_amount | 88.4% | 74.1% |\n",
    "| bank_months_count | 37.5% | 25.2% |\n",
    "| session_length_in_minutes | 0.16% | 0.20% |\n",
    "| device_distinct_emails_8w | 1.41% | 0.66% |\n",
    "\n",
    "* Insights:\n",
    "    * Ok to remove `current_address_months_count` and `session_length_in_minutes` because a small proportion of fraud cases are in these missing values.\n",
    "    * If other columns have missing values, it could be a pattern for fraud.\n",
    "    * **81.1%** of fraud cases have `prev_address_months_count` and `intended_balcon_amount` as missing values, compared to only **51.9%** of all non-fraud cases as missing values."
   ]
  },
  {
   "cell_type": "markdown",
   "metadata": {},
   "source": [
    "## EDA Bank Activity and Device Activity\n",
    "\n",
    "* Device Activity:\n",
    "    * `session_length_in_minutes`\n",
    "    * `device_os`\n",
    "    * `keep_alive_session`\n",
    "    * `device_distinct_emails_8w`\n",
    "    * `device_fraud_count` (can drop this column)\n",
    "    * `source`\n",
    "    * `foreign_request`\n",
    "\n",
    "* Bank Activity:\n",
    "    * `zip_count_4w`\n",
    "    * `velocity_6h`\n",
    "    * `velocity_24h`\n",
    "    * `velocity_4w`\n",
    "    * `bank_branch_count_8w`\n",
    "    * `date_of_birth_distinct_emails_4w`\n"
   ]
  },
  {
   "cell_type": "code",
   "execution_count": null,
   "metadata": {},
   "outputs": [],
   "source": [
    "# select columns related to device activity\n",
    "device_activity  = ['fraud_bool', 'session_length_in_minutes', 'device_os', 'keep_alive_session', 'device_distinct_emails_8w', 'source', 'foreign_request']\n",
    "device_activity_df = data[device_activity]\n",
    "\n",
    "# print shape\n",
    "device_activity_df.shape"
   ]
  },
  {
   "cell_type": "code",
   "execution_count": null,
   "metadata": {},
   "outputs": [],
   "source": [
    "# for each column, if it is categorical, plot the value counts, if it is numerical, plot histogram\n",
    "# put in a 3 x 3 grid, and color code the fraud_bool column\n",
    "# print all except the first column\n",
    "plt.figure(figsize=(15, 15))\n",
    "for i, col in enumerate(device_activity_df.columns[1:]):\n",
    "    plt.subplot(3, 3, i+1)\n",
    "    if device_activity_df[col].dtype.name == 'category':\n",
    "        sns.countplot(data=device_activity_df, x=col, hue='fraud_bool')\n",
    "    else:\n",
    "        sns.histplot(data=device_activity_df, x=col, hue='fraud_bool', bins=100)"
   ]
  },
  {
   "cell_type": "code",
   "execution_count": null,
   "metadata": {},
   "outputs": [],
   "source": [
    "# split session_length_in_minutes into 2 groups, fraud and non-fraud\n",
    "session_length_fraud = device_activity_df[device_activity_df['fraud_bool'] == 1][['session_length_in_minutes', 'fraud_bool']]\n",
    "sessions_length_non_fraud = device_activity_df[device_activity_df['fraud_bool'] == 0][['session_length_in_minutes', 'fraud_bool']]\n",
    "\n",
    "# print shapes\n",
    "print(f\"fraud shape: {session_length_fraud.shape}\")\n",
    "print(f\"non-fraud shape: {sessions_length_non_fraud.shape}\")"
   ]
  },
  {
   "cell_type": "code",
   "execution_count": null,
   "metadata": {},
   "outputs": [],
   "source": [
    "# plot boxplot for non-fraud session length in minutes\n",
    "# plot side by side, with different colors, on columns 'session_length_in_minutes'\n",
    "plt.figure(figsize=(6, 3))\n",
    "sns.boxplot(data=session_length_fraud, x='session_length_in_minutes', color='red')"
   ]
  },
  {
   "cell_type": "code",
   "execution_count": null,
   "metadata": {},
   "outputs": [],
   "source": [
    "# plot boxplot for non-fraud session length in minutes\n",
    "plt.figure(figsize=(6, 3))\n",
    "sns.boxplot(data=sessions_length_non_fraud, x='session_length_in_minutes', color='blue')"
   ]
  },
  {
   "cell_type": "code",
   "execution_count": null,
   "metadata": {},
   "outputs": [],
   "source": [
    "# check value_counts for device_distinct_emails_8w\n",
    "device_activity_df['device_distinct_emails_8w'].value_counts()"
   ]
  },
  {
   "cell_type": "code",
   "execution_count": null,
   "metadata": {},
   "outputs": [],
   "source": [
    "# select device_distinct_emails_8w and fraud_bool columns, and select all the frauds\n",
    "device_distinct_emails_fraud = device_activity_df[device_activity_df['fraud_bool'] == 1][['device_distinct_emails_8w', 'fraud_bool']]\n",
    "device_distinct_emails_non_fraud = device_activity_df[device_activity_df['fraud_bool'] == 0][['device_distinct_emails_8w', 'fraud_bool']]\n",
    "\n",
    "# plot count plot for both fraud and non-fraud, in 1 x 2 grid, provide title for each\n",
    "plt.figure(figsize=(12, 6))\n",
    "plt.subplot(1, 2, 1)\n",
    "sns.countplot(data=device_distinct_emails_fraud, x='device_distinct_emails_8w', hue='fraud_bool')\n",
    "plt.title('Fraud')\n",
    "plt.subplot(1, 2, 2)\n",
    "sns.countplot(data=device_distinct_emails_non_fraud, x='device_distinct_emails_8w', hue='fraud_bool')\n",
    "plt.title('Non-Fraud')\n"
   ]
  },
  {
   "cell_type": "code",
   "execution_count": null,
   "metadata": {},
   "outputs": [],
   "source": [
    "# use the device_activity_df, combine the device_os and keep_alive_sessions columns\n",
    "# change device_os and keep_alive_session to str\n",
    "device_activity_df['device_os'] = device_activity_df['device_os'].astype(str)\n",
    "device_activity_df['keep_alive_session'] = device_activity_df['keep_alive_session'].astype(str)\n",
    "device_activity_df['device_os_keep_alive'] = device_activity_df['device_os'] + '_' + device_activity_df['keep_alive_session']\n",
    "\n",
    "# plot countplot for device_os_keep_alive\n",
    "plt.figure(figsize=(12, 6))\n",
    "sns.countplot(data=device_activity_df, x='device_os_keep_alive', hue='fraud_bool')"
   ]
  },
  {
   "cell_type": "code",
   "execution_count": null,
   "metadata": {},
   "outputs": [],
   "source": [
    "# group by device_os_keep_alive\n",
    "device_os_keep_alive_grouped = device_activity_df.groupby('device_os_keep_alive')\n",
    "device_os_keep_alive_grouped['fraud_bool'].value_counts()"
   ]
  },
  {
   "cell_type": "code",
   "execution_count": null,
   "metadata": {},
   "outputs": [],
   "source": []
  }
 ],
 "metadata": {
  "kernelspec": {
   "display_name": ".fraudvenv",
   "language": "python",
   "name": "python3"
  },
  "language_info": {
   "codemirror_mode": {
    "name": "ipython",
    "version": 3
   },
   "file_extension": ".py",
   "mimetype": "text/x-python",
   "name": "python",
   "nbconvert_exporter": "python",
   "pygments_lexer": "ipython3",
   "version": "3.8.5"
  }
 },
 "nbformat": 4,
 "nbformat_minor": 2
}
