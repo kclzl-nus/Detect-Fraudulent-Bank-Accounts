{
 "cells": [
  {
   "cell_type": "code",
   "execution_count": 5,
   "metadata": {},
   "outputs": [
    {
     "name": "stdout",
     "output_type": "stream",
     "text": [
      "- username is now set to: khanseem\n",
      "- key is now set to: 705a18cbbd7e4d23d72450605243b00f\n",
      "Warning: Your Kaggle API key is readable by other users on this system! To fix this, you can run 'chmod 600 /Users/waseemkhan/.kaggle/kaggle.json'\n",
      "Dataset URL: https://www.kaggle.com/datasets/sgpjesus/bank-account-fraud-dataset-neurips-2022\n"
     ]
    }
   ],
   "source": [
    "import os\n",
    "import zipfile\n",
    "from kaggle.api.kaggle_api_extended import KaggleApi\n",
    "\n",
    "# Check if 'Base.csv' exists before downloading and extracting the dataset\n",
    "if not os.path.exists('../data/raw/Base.csv'):\n",
    "    # Instantiate the Kaggle API client\n",
    "    api = KaggleApi()\n",
    "    # Will Deactivate credentials after course ends\n",
    "    api.set_config_value('username', 'khanseem')\n",
    "    api.set_config_value('key', '705a18cbbd7e4d23d72450605243b00f')\n",
    "    # Authenticate using the configured credentials\n",
    "    api.authenticate()\n",
    "    # Download the dataset\n",
    "    api.dataset_download_files(dataset='sgpjesus/bank-account-fraud-dataset-neurips-2022', path='../data/raw', unzip=True)\n",
    "    \n",
    "    # Define the path to the dataset zip file and the directory for extraction\n",
    "    zip_file_path = '../data/raw/bank-account-fraud-dataset-neurips-2022.zip'\n",
    "    # Check if the dataset zip file exists\n",
    "    if os.path.exists(zip_file_path):\n",
    "        # Extract the zip file\n",
    "        with zipfile.ZipFile(zip_file_path, 'r') as zip_ref:\n",
    "            zip_ref.extractall('../data/raw/')\n"
   ]
  }
 ],
 "metadata": {
  "kernelspec": {
   "display_name": "Python 3",
   "language": "python",
   "name": "python3"
  },
  "language_info": {
   "codemirror_mode": {
    "name": "ipython",
    "version": 3
   },
   "file_extension": ".py",
   "mimetype": "text/x-python",
   "name": "python",
   "nbconvert_exporter": "python",
   "pygments_lexer": "ipython3",
   "version": "3.10.8"
  }
 },
 "nbformat": 4,
 "nbformat_minor": 2
}
