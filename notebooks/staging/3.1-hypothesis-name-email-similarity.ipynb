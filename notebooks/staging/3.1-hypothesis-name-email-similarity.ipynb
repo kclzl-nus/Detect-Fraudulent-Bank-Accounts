{
 "cells": [
  {
   "cell_type": "markdown",
   "id": "2aec2481-247f-4df6-9a4d-a97cd74f5840",
   "metadata": {},
   "source": [
    "# high name_email_similarity is indicative of lower fraud rates"
   ]
  },
  {
   "cell_type": "code",
   "execution_count": 62,
   "id": "54e1e169-09e6-4d0b-a515-093b3edeb2dc",
   "metadata": {},
   "outputs": [],
   "source": [
    "import pandas as pd\n",
    "import matplotlib.pyplot as plt\n",
    "import numpy as np\n",
    "import seaborn as sns\n",
    "from scipy.stats import ttest_ind\n",
    "from scipy.stats import shapiro\n",
    "from scipy.stats import chi2_contingency\n",
    "from scipy.stats import mannwhitneyu\n",
    "import statsmodels.api as sm\n",
    "from statsmodels.formula.api import ols\n",
    "from scipy.stats import pointbiserialr\n",
    "import scipy.stats as stats\n",
    "\n",
    "\n",
    "# Read the CSV file into a DataFrame\n",
    "df = pd.read_csv('undersampled_data.csv')"
   ]
  },
  {
   "cell_type": "code",
   "execution_count": 47,
   "id": "d0879f57-1c2d-40a7-873c-ffec4195e18a",
   "metadata": {},
   "outputs": [
    {
     "name": "stdout",
     "output_type": "stream",
     "text": [
      "<class 'pandas.core.frame.DataFrame'>\n",
      "RangeIndex: 65970 entries, 0 to 65969\n",
      "Data columns (total 31 columns):\n",
      " #   Column                            Non-Null Count  Dtype  \n",
      "---  ------                            --------------  -----  \n",
      " 0   fraud_bool                        65970 non-null  int64  \n",
      " 1   income                            65970 non-null  float64\n",
      " 2   name_email_similarity             65970 non-null  float64\n",
      " 3   prev_address_months_count         65970 non-null  int64  \n",
      " 4   current_address_months_count      65970 non-null  int64  \n",
      " 5   customer_age                      65970 non-null  int64  \n",
      " 6   days_since_request                65970 non-null  float64\n",
      " 7   intended_balcon_amount            65970 non-null  float64\n",
      " 8   payment_type                      65970 non-null  object \n",
      " 9   zip_count_4w                      65970 non-null  int64  \n",
      " 10  velocity_6h                       65970 non-null  float64\n",
      " 11  velocity_24h                      65970 non-null  float64\n",
      " 12  velocity_4w                       65970 non-null  float64\n",
      " 13  bank_branch_count_8w              65970 non-null  int64  \n",
      " 14  date_of_birth_distinct_emails_4w  65970 non-null  int64  \n",
      " 15  employment_status                 65970 non-null  object \n",
      " 16  credit_risk_score                 65970 non-null  int64  \n",
      " 17  email_is_free                     65970 non-null  int64  \n",
      " 18  housing_status                    65970 non-null  object \n",
      " 19  phone_home_valid                  65970 non-null  int64  \n",
      " 20  phone_mobile_valid                65970 non-null  int64  \n",
      " 21  bank_months_count                 65970 non-null  int64  \n",
      " 22  has_other_cards                   65970 non-null  int64  \n",
      " 23  proposed_credit_limit             65970 non-null  float64\n",
      " 24  foreign_request                   65970 non-null  int64  \n",
      " 25  source                            65970 non-null  object \n",
      " 26  session_length_in_minutes         65970 non-null  float64\n",
      " 27  device_os                         65970 non-null  object \n",
      " 28  keep_alive_session                65970 non-null  int64  \n",
      " 29  device_distinct_emails_8w         65970 non-null  int64  \n",
      " 30  month                             65970 non-null  int64  \n",
      "dtypes: float64(9), int64(17), object(5)\n",
      "memory usage: 15.6+ MB\n"
     ]
    }
   ],
   "source": [
    "df.info()"
   ]
  },
  {
   "cell_type": "code",
   "execution_count": 48,
   "id": "a18b9890-3f4b-4912-92bf-53d61fd31ffa",
   "metadata": {},
   "outputs": [
    {
     "name": "stdout",
     "output_type": "stream",
     "text": [
      "Mean name_email_similarity for fraud cases: 0.39348950535552996\n",
      "Mean name_email_similarity for legitimate cases: 0.49578328507522235\n"
     ]
    },
    {
     "data": {
      "image/png": "[encoded data removed]",
      "text/plain": [
       "<Figure size 1000x600 with 1 Axes>"
      ]
     },
     "metadata": {},
     "output_type": "display_data"
    },
    {
     "name": "stdout",
     "output_type": "stream",
     "text": [
      "T-Statistic: -33.77267986723434\n",
      "P-Value: 6.5570763222410456e-248\n",
      "Reject the null hypothesis. There is a significant difference in name_email_similarity between fraud and legitimate cases.\n"
     ]
    }
   ],
   "source": [
    "fraud_mean_similarity = df[df['fraud_bool'] == 1]['name_email_similarity'].mean()\n",
    "legit_mean_similarity = df[df['fraud_bool'] == 0]['name_email_similarity'].mean()\n",
    "\n",
    "print(\"Mean name_email_similarity for fraud cases:\", fraud_mean_similarity)\n",
    "print(\"Mean name_email_similarity for legitimate cases:\", legit_mean_similarity)\n",
    "\n",
    "# Visualization\n",
    "plt.figure(figsize=(10, 6))\n",
    "sns.boxplot(x='fraud_bool', y='name_email_similarity', data=df)\n",
    "plt.title('Distribution of name_email_similarity for Fraud and Legitimate Cases')\n",
    "plt.xlabel('Fraud')\n",
    "plt.ylabel('Name-Email Similarity')\n",
    "plt.xticks([0, 1], ['Legitimate', 'Fraud'])\n",
    "plt.show()\n",
    "\n",
    "# Statistical Testing\n",
    "t_stat, p_value = ttest_ind(df[df['fraud_bool'] == 1]['name_email_similarity'],\n",
    "                             df[df['fraud_bool'] == 0]['name_email_similarity'])\n",
    "\n",
    "print(\"T-Statistic:\", t_stat)\n",
    "print(\"P-Value:\", p_value)\n",
    "\n",
    "# Interpretation\n",
    "alpha = 0.05\n",
    "if p_value < alpha:\n",
    "    print(\"Reject the null hypothesis. There is a significant difference in name_email_similarity between fraud and legitimate cases.\")\n",
    "else:\n",
    "    print(\"Fail to reject the null hypothesis. There is no significant difference in name_email_similarity between fraud and legitimate cases.\")\n"
   ]
  },
  {
   "cell_type": "code",
   "execution_count": 49,
   "id": "bcd1e2ea-0c35-4b87-95b8-cc9c88968939",
   "metadata": {},
   "outputs": [],
   "source": [
    "# the significant difference in name_email_similarity between fraud and legitimate cases suggest that 'name_email_similarity' is an important feature as an indication of fraud.\n",
    "#the significantly lower mean name_email_similarity for fraud cases compared to legitimate cases supports the hypothesis that higher name_email_similarity may indicate lower fraud rates.\n",
    "#this implies that there may be a pattern or correlation between lower name_email_similarity and fraudulent behavior, suggesting that applicants with higher name-email dissimilarity may be more likely to engage in fraudulent activities"
   ]
  },
  {
   "cell_type": "code",
   "execution_count": 50,
   "id": "d80ae00f-18c7-4e81-ba4d-158ec14f7d85",
   "metadata": {},
   "outputs": [
    {
     "name": "stdout",
     "output_type": "stream",
     "text": [
      "Shapiro-Wilk test for fraud cases:\n",
      "Statistic: 0.8983161449432373\n",
      "P-Value: 0.0\n",
      "\n",
      "Shapiro-Wilk test for legit cases:\n",
      "Statistic: 0.9466801285743713\n",
      "P-Value: 0.0\n"
     ]
    },
    {
     "name": "stderr",
     "output_type": "stream",
     "text": [
      "/opt/anaconda3/lib/python3.11/site-packages/scipy/stats/_morestats.py:1882: UserWarning: p-value may not be accurate for N > 5000.\n",
      "  warnings.warn(\"p-value may not be accurate for N > 5000.\")\n"
     ]
    }
   ],
   "source": [
    "# test for normality of predictive features\n",
    "\n",
    "# check normality for fraudulent cases\n",
    "stat_fraud, p_fraud = shapiro(df[df['fraud_bool'] == 1]['name_email_similarity'])\n",
    "print(\"Shapiro-Wilk test for fraud cases:\")\n",
    "print(\"Statistic:\", stat_fraud)\n",
    "print(\"P-Value:\", p_fraud)\n",
    "\n",
    "# check normality for legitimate cases\n",
    "stat_legit, p_legit = shapiro(df[df['fraud_bool'] == 0]['name_email_similarity'])\n",
    "print(\"\\nShapiro-Wilk test for legit cases:\")\n",
    "print(\"Statistic:\", stat_legit)\n",
    "print(\"P-Value:\", p_legit)"
   ]
  },
  {
   "cell_type": "code",
   "execution_count": 51,
   "id": "585d3f5f-0e5b-4b39-88b4-88f8f8f2667f",
   "metadata": {},
   "outputs": [],
   "source": [
    "# things to note:\n",
    "# Shapiro-Wilk test may not be accurate since sample size is > 5000\n",
    "\n",
    "# suppose choose significance level = 0.05 \n",
    "# p value for both fraud and legit cases are very small, less than significance level\n",
    "# cannot assume distribution of 'name_email_similarity' for both cases is normal - so using t-test is not accurate\n",
    "\n",
    "\n",
    "# # alternative is use feature engineering\n",
    "# create categorical bins using 'name_email_similarity'and visualize the distribution of the new categorical feature for fraud and legit cases\n",
    "# transform the continuous name_email_similarity feature into a categorical feature"
   ]
  },
  {
   "cell_type": "code",
   "execution_count": 55,
   "id": "f6fa5259-a531-487c-a768-a6e4fa987415",
   "metadata": {},
   "outputs": [
    {
     "name": "stdout",
     "output_type": "stream",
     "text": [
      "Mann-Whitney U Test Statistic: 239716491.0\n",
      "P-Value: 1.0884251073893012e-257\n",
      "Reject the null hypothesis. There is a significant difference in name_email_similarity between fraud and legitimate cases.\n"
     ]
    }
   ],
   "source": [
    "# since 'name_email_similarity' not normal, use Mann-Whitney U test to check\n",
    "\n",
    "# Perform Mann-Whitney U test\n",
    "\n",
    "fraudulent_accounts = df[df['fraud_bool'] == 1]\n",
    "legitimate_accounts = df[df['fraud_bool'] == 0]\n",
    "statistic, p_value = mannwhitneyu(fraudulent_accounts['name_email_similarity'], \n",
    "                                   legitimate_accounts['name_email_similarity'])\n",
    "\n",
    "print(\"Mann-Whitney U Test Statistic:\", statistic)\n",
    "print(\"P-Value:\", p_value)\n",
    "\n",
    "alpha = 0.05\n",
    "if p_value < alpha:\n",
    "    print(\"Reject the null hypothesis. There is a significant difference in name_email_similarity between fraud and legitimate cases.\")\n",
    "else:\n",
    "    print(\"Fail to reject the null hypothesis. There is no significant difference in name_email_similarity between fraud and legitimate cases.\")\n"
   ]
  },
  {
   "cell_type": "code",
   "execution_count": 66,
   "id": "9f84cb13-8d95-474e-a92f-2fd30e70b92b",
   "metadata": {},
   "outputs": [],
   "source": [
    "# strong evidence against null hypothesis that there is no difference in name_email_similarity between fraudulent and legitimate accounts.\n",
    "# p value small < 0.05  means that there is sufficient evidence to conclude that there is a significant difference in name_email_similarity between fraudulent and legitimate cases.\n"
   ]
  },
  {
   "cell_type": "code",
   "execution_count": 54,
   "id": "63a30b83-2a01-41de-a98e-ac82526d637a",
   "metadata": {},
   "outputs": [
    {
     "name": "stdout",
     "output_type": "stream",
     "text": [
      "Point Biserial Correlation Coefficient: -0.1303696362133764\n",
      "p-value: 6.557076335889639e-248\n"
     ]
    }
   ],
   "source": [
    "#  test the association between name_email_similarity and fraud_bool\n",
    "\n",
    "\n",
    "name_email_similarity = df['name_email_similarity']\n",
    "fraud = df['fraud_bool']\n",
    "\n",
    "# Calculate point biserial correlation coefficient and its p-value\n",
    "correlation_coefficient, p_value = pointbiserialr(name_email_similarity, fraud)\n",
    "\n",
    "print(\"Point Biserial Correlation Coefficient:\", correlation_coefficient)\n",
    "print(\"p-value:\", p_value)"
   ]
  },
  {
   "cell_type": "code",
   "execution_count": 65,
   "id": "fb6715aa-7c2c-484b-914e-c8f61e8dc411",
   "metadata": {},
   "outputs": [],
   "source": [
    "# correlation coefficient suggests a negative correlation between name_email_similarity and the likelihood of fraud\n",
    "# negative value indicates as name_email_similarity increases, there is tendency for fraud to be less likely\n",
    "\n",
    "# p value extremely small indicating strong evidence against the null hypothesis that there is no correlation between name_email_similarity and fraud\n",
    "\n",
    "# results suggests that name_email_similarity may have some influence on fraud"
   ]
  },
  {
   "cell_type": "markdown",
   "id": "752070c1-7db7-4b09-a777-6264fdd9e1be",
   "metadata": {},
   "source": [
    "# use feature engineering, implement new column 'name_email_similarity_bins' to test the association with fraud occurences"
   ]
  },
  {
   "cell_type": "code",
   "execution_count": 64,
   "id": "a0011420-0e94-48d4-9b05-34515792918f",
   "metadata": {},
   "outputs": [
    {
     "name": "stderr",
     "output_type": "stream",
     "text": [
      "/tmp/ipykernel_51749/3300637608.py:10: FutureWarning: The default of observed=False is deprecated and will be changed to True in a future version of pandas. Pass observed=False to retain current behavior or observed=True to adopt the future default and silence this warning.\n",
      "  fraud_proportions = df.groupby('name_email_similarity_bins')['fraud_bool'].mean()\n",
      "/opt/anaconda3/lib/python3.11/site-packages/seaborn/categorical.py:641: FutureWarning: The default of observed=False is deprecated and will be changed to True in a future version of pandas. Pass observed=False to retain current behavior or observed=True to adopt the future default and silence this warning.\n",
      "  grouped_vals = vals.groupby(grouper)\n"
     ]
    },
    {
     "data": {
      "image/png": "[encoded data removed]",
      "text/plain": [
       "<Figure size 800x500 with 1 Axes>"
      ]
     },
     "metadata": {},
     "output_type": "display_data"
    },
    {
     "name": "stdout",
     "output_type": "stream",
     "text": [
      "Chi-square Statistic: 1544.5049123369665\n",
      "P-Value: 0.0\n"
     ]
    }
   ],
   "source": [
    "# specify the bin edges\n",
    "bin_edges = [0, 0.2, 0.4, 0.6, 0.8, 1]  \n",
    "\n",
    "# define bin labels\n",
    "bin_labels = ['0-0.2', '0.2-0.4', '0.4-0.6', '0.6-0.8', '0.8-1']\n",
    "\n",
    "df['name_email_similarity_bins'] = pd.cut(df['name_email_similarity'], bins=bin_edges, labels=bin_labels)\n",
    "\n",
    "# calculate the proportion of fraudulent cases within each similarity bin\n",
    "fraud_proportions = df.groupby('name_email_similarity_bins')['fraud_bool'].mean()\n",
    "\n",
    "# plot the proportion of fraudulent cases by similarity bin\n",
    "plt.figure(figsize=(8, 5))\n",
    "sns.barplot(x=fraud_proportions.index, y=fraud_proportions.values, color='skyblue')\n",
    "plt.title('Proportion of Fraudulent Cases by Name-Email Similarity Bins')\n",
    "plt.xlabel('Name-Email Similarity Bins')\n",
    "plt.ylabel('Proportion of Fraudulent Cases')\n",
    "plt.show()\n",
    "\n",
    "# statistical testing using Chi-square test\n",
    "contingency_table = pd.crosstab(df['name_email_similarity_bins'], df['fraud_bool'])\n",
    "chi2, p, dof, expected = chi2_contingency(contingency_table)\n",
    "\n",
    "print(\"Chi-square Statistic:\", chi2)\n",
    "print(\"P-Value:\", p)"
   ]
  },
  {
   "cell_type": "code",
   "execution_count": 24,
   "id": "3f39be3f-7ca8-44d9-bf50-ea474235c13a",
   "metadata": {},
   "outputs": [],
   "source": [
    "# to note:\n",
    "# proportion of fraud in each bin = number of fraud accs in the bin / total number of accs in the bin\n",
    "\n",
    "\n",
    "# the high chi-square value indicates a larger discrepancy between the observed and expected frequencies, suggesting a stronger association between name_email_similarity_bins and fraud occurrence.\n",
    "\n",
    "# low p-value suggest strong evidence indicating that the observed association between name_email_similarity_bins and fraud occurrence is unlikely to be due to random chance.\n",
    "\n",
    "# results provide strong evidence that there is a significant association between the level of name-email similarity and the likelihood of fraud occurrence. \n",
    "# the proportion of fraudulent cases varies significantly across different similarity bins\n",
    "# this supports the hypothesis that high name_email_similarity is indicative of lower fraud rates."
   ]
  },
  {
   "cell_type": "code",
   "execution_count": 67,
   "id": "b9fd2e16-3218-4f6f-a7ac-d8beadf3c883",
   "metadata": {},
   "outputs": [
    {
     "name": "stdout",
     "output_type": "stream",
     "text": [
      "Point-Biserial Correlation Coefficient: -0.12933706297597944\n",
      "P-Value: 5.33902387921767e-244\n",
      "Negative association: Larger name email similarity are associated with a lower proportion of fraudulent cases.\n"
     ]
    }
   ],
   "source": [
    "# statistical testing \n",
    "# Point-biserial correlation\n",
    "corr_coeff, p_val = pointbiserialr(df['name_email_similarity_bins'].cat.codes, df['fraud_bool'])\n",
    "\n",
    "print(\"Point-Biserial Correlation Coefficient:\", corr_coeff)\n",
    "print(\"P-Value:\", p_val)\n",
    "\n",
    "alpha = 0.05\n",
    "if p_val < alpha:\n",
    "    if corr_coeff > 0:\n",
    "        print(\"Positive association: Larger name email similarity are associated with a higher proportion of fraudulent cases.\")\n",
    "    else:\n",
    "        print(\"Negative association: Larger name email similarity are associated with a lower proportion of fraudulent cases.\")\n",
    "else:\n",
    "    print(\"No significant association found.\")"
   ]
  },
  {
   "cell_type": "code",
   "execution_count": 68,
   "id": "4f05d396-4ef8-466f-b48d-1e2b92a9b6bd",
   "metadata": {},
   "outputs": [],
   "source": [
    "# this supports the hypothesis that high name_email_similarity is indicative of lower fraud rates."
   ]
  },
  {
   "cell_type": "code",
   "execution_count": 59,
   "id": "402a5c80-fc54-4228-ac38-cb6d56c91326",
   "metadata": {},
   "outputs": [
    {
     "data": {
      "text/html": [
       "<div>\n",
       "<style scoped>\n",
       "    .dataframe tbody tr th:only-of-type {\n",
       "        vertical-align: middle;\n",
       "    }\n",
       "\n",
       "    .dataframe tbody tr th {\n",
       "        vertical-align: top;\n",
       "    }\n",
       "\n",
       "    .dataframe thead th {\n",
       "        text-align: right;\n",
       "    }\n",
       "</style>\n",
       "<table border=\"1\" class=\"dataframe\">\n",
       "  <thead>\n",
       "    <tr style=\"text-align: right;\">\n",
       "      <th></th>\n",
       "      <th>fraud_bool</th>\n",
       "      <th>income</th>\n",
       "      <th>name_email_similarity</th>\n",
       "      <th>prev_address_months_count</th>\n",
       "      <th>current_address_months_count</th>\n",
       "      <th>customer_age</th>\n",
       "      <th>days_since_request</th>\n",
       "      <th>intended_balcon_amount</th>\n",
       "      <th>payment_type</th>\n",
       "      <th>zip_count_4w</th>\n",
       "      <th>...</th>\n",
       "      <th>has_other_cards</th>\n",
       "      <th>proposed_credit_limit</th>\n",
       "      <th>foreign_request</th>\n",
       "      <th>source</th>\n",
       "      <th>session_length_in_minutes</th>\n",
       "      <th>device_os</th>\n",
       "      <th>keep_alive_session</th>\n",
       "      <th>device_distinct_emails_8w</th>\n",
       "      <th>month</th>\n",
       "      <th>name_email_similarity_bins</th>\n",
       "    </tr>\n",
       "  </thead>\n",
       "  <tbody>\n",
       "    <tr>\n",
       "      <th>0</th>\n",
       "      <td>1</td>\n",
       "      <td>0.9</td>\n",
       "      <td>0.570800</td>\n",
       "      <td>-1</td>\n",
       "      <td>157</td>\n",
       "      <td>60</td>\n",
       "      <td>0.005908</td>\n",
       "      <td>35.337538</td>\n",
       "      <td>AA</td>\n",
       "      <td>4079</td>\n",
       "      <td>...</td>\n",
       "      <td>0</td>\n",
       "      <td>1500.0</td>\n",
       "      <td>0</td>\n",
       "      <td>INTERNET</td>\n",
       "      <td>4.036394</td>\n",
       "      <td>windows</td>\n",
       "      <td>1</td>\n",
       "      <td>1</td>\n",
       "      <td>0</td>\n",
       "      <td>0.4-0.6</td>\n",
       "    </tr>\n",
       "    <tr>\n",
       "      <th>1</th>\n",
       "      <td>1</td>\n",
       "      <td>0.1</td>\n",
       "      <td>0.993219</td>\n",
       "      <td>-1</td>\n",
       "      <td>67</td>\n",
       "      <td>20</td>\n",
       "      <td>0.015331</td>\n",
       "      <td>92.120139</td>\n",
       "      <td>AA</td>\n",
       "      <td>1192</td>\n",
       "      <td>...</td>\n",
       "      <td>0</td>\n",
       "      <td>1500.0</td>\n",
       "      <td>0</td>\n",
       "      <td>INTERNET</td>\n",
       "      <td>12.928072</td>\n",
       "      <td>windows</td>\n",
       "      <td>0</td>\n",
       "      <td>1</td>\n",
       "      <td>0</td>\n",
       "      <td>0.8-1</td>\n",
       "    </tr>\n",
       "    <tr>\n",
       "      <th>2</th>\n",
       "      <td>1</td>\n",
       "      <td>0.8</td>\n",
       "      <td>0.794351</td>\n",
       "      <td>-1</td>\n",
       "      <td>376</td>\n",
       "      <td>60</td>\n",
       "      <td>17.925951</td>\n",
       "      <td>41.422110</td>\n",
       "      <td>AA</td>\n",
       "      <td>815</td>\n",
       "      <td>...</td>\n",
       "      <td>0</td>\n",
       "      <td>1500.0</td>\n",
       "      <td>0</td>\n",
       "      <td>INTERNET</td>\n",
       "      <td>2.550167</td>\n",
       "      <td>linux</td>\n",
       "      <td>0</td>\n",
       "      <td>1</td>\n",
       "      <td>0</td>\n",
       "      <td>0.6-0.8</td>\n",
       "    </tr>\n",
       "    <tr>\n",
       "      <th>3</th>\n",
       "      <td>1</td>\n",
       "      <td>0.7</td>\n",
       "      <td>0.090000</td>\n",
       "      <td>-1</td>\n",
       "      <td>58</td>\n",
       "      <td>50</td>\n",
       "      <td>0.004134</td>\n",
       "      <td>-1.000000</td>\n",
       "      <td>AD</td>\n",
       "      <td>4011</td>\n",
       "      <td>...</td>\n",
       "      <td>0</td>\n",
       "      <td>1500.0</td>\n",
       "      <td>0</td>\n",
       "      <td>INTERNET</td>\n",
       "      <td>3.500856</td>\n",
       "      <td>windows</td>\n",
       "      <td>0</td>\n",
       "      <td>1</td>\n",
       "      <td>0</td>\n",
       "      <td>0-0.2</td>\n",
       "    </tr>\n",
       "    <tr>\n",
       "      <th>4</th>\n",
       "      <td>1</td>\n",
       "      <td>0.9</td>\n",
       "      <td>0.998248</td>\n",
       "      <td>31</td>\n",
       "      <td>45</td>\n",
       "      <td>30</td>\n",
       "      <td>0.010165</td>\n",
       "      <td>33.067538</td>\n",
       "      <td>AA</td>\n",
       "      <td>525</td>\n",
       "      <td>...</td>\n",
       "      <td>1</td>\n",
       "      <td>2000.0</td>\n",
       "      <td>0</td>\n",
       "      <td>INTERNET</td>\n",
       "      <td>44.536211</td>\n",
       "      <td>windows</td>\n",
       "      <td>0</td>\n",
       "      <td>1</td>\n",
       "      <td>0</td>\n",
       "      <td>0.8-1</td>\n",
       "    </tr>\n",
       "  </tbody>\n",
       "</table>\n",
       "<p>5 rows × 32 columns</p>\n",
       "</div>"
      ],
      "text/plain": [
       "   fraud_bool  income  name_email_similarity  prev_address_months_count  \\\n",
       "0           1     0.9               0.570800                         -1   \n",
       "1           1     0.1               0.993219                         -1   \n",
       "2           1     0.8               0.794351                         -1   \n",
       "3           1     0.7               0.090000                         -1   \n",
       "4           1     0.9               0.998248                         31   \n",
       "\n",
       "   current_address_months_count  customer_age  days_since_request  \\\n",
       "0                           157            60            0.005908   \n",
       "1                            67            20            0.015331   \n",
       "2                           376            60           17.925951   \n",
       "3                            58            50            0.004134   \n",
       "4                            45            30            0.010165   \n",
       "\n",
       "   intended_balcon_amount payment_type  zip_count_4w  ...  has_other_cards  \\\n",
       "0               35.337538           AA          4079  ...                0   \n",
       "1               92.120139           AA          1192  ...                0   \n",
       "2               41.422110           AA           815  ...                0   \n",
       "3               -1.000000           AD          4011  ...                0   \n",
       "4               33.067538           AA           525  ...                1   \n",
       "\n",
       "   proposed_credit_limit  foreign_request    source  \\\n",
       "0                 1500.0                0  INTERNET   \n",
       "1                 1500.0                0  INTERNET   \n",
       "2                 1500.0                0  INTERNET   \n",
       "3                 1500.0                0  INTERNET   \n",
       "4                 2000.0                0  INTERNET   \n",
       "\n",
       "   session_length_in_minutes device_os  keep_alive_session  \\\n",
       "0                   4.036394   windows                   1   \n",
       "1                  12.928072   windows                   0   \n",
       "2                   2.550167     linux                   0   \n",
       "3                   3.500856   windows                   0   \n",
       "4                  44.536211   windows                   0   \n",
       "\n",
       "   device_distinct_emails_8w month  name_email_similarity_bins  \n",
       "0                          1     0                     0.4-0.6  \n",
       "1                          1     0                       0.8-1  \n",
       "2                          1     0                     0.6-0.8  \n",
       "3                          1     0                       0-0.2  \n",
       "4                          1     0                       0.8-1  \n",
       "\n",
       "[5 rows x 32 columns]"
      ]
     },
     "execution_count": 59,
     "metadata": {},
     "output_type": "execute_result"
    }
   ],
   "source": [
    "df.head()"
   ]
  },
  {
   "cell_type": "markdown",
   "id": "263c5727-0d7b-4e69-920a-ddc48e70a31c",
   "metadata": {},
   "source": [
    "# test the effectiveness of using name_email_similarity and credit_risk_score as important predictor for fraud detection and prevention strategies."
   ]
  },
  {
   "cell_type": "code",
   "execution_count": 60,
   "id": "ec0ed9bb-c0c2-4348-9fe1-f47622db5a97",
   "metadata": {},
   "outputs": [
    {
     "name": "stderr",
     "output_type": "stream",
     "text": [
      "/tmp/ipykernel_51749/3949835451.py:22: FutureWarning: The default of observed=False is deprecated and will be changed to True in a future version of pandas. Pass observed=False to retain current behavior or observed=True to adopt the future default and silence this warning.\n",
      "  fraud_proportion_by_bin = df.groupby(['credit_risk_score_bins', 'name_email_similarity_bins'])['fraud_bool'].mean().reset_index()\n",
      "/opt/anaconda3/lib/python3.11/site-packages/seaborn/categorical.py:641: FutureWarning: The default of observed=False is deprecated and will be changed to True in a future version of pandas. Pass observed=False to retain current behavior or observed=True to adopt the future default and silence this warning.\n",
      "  grouped_vals = vals.groupby(grouper)\n"
     ]
    },
    {
     "data": {
      "image/png": "[encoded data removed]",
      "text/plain": [
       "<Figure size 1200x800 with 1 Axes>"
      ]
     },
     "metadata": {},
     "output_type": "display_data"
    }
   ],
   "source": [
    "# 'name_email_similarity' and 'credit_risk_score' with fraud occurence\n",
    "\n",
    "\n",
    "# Define name_email_similarity bins\n",
    "name_email_similarity_bins = pd.cut(df['name_email_similarity'], bins=[0, 0.2, 0.4, 0.6, 0.8, 1],\n",
    "                              labels=['0-0.2', '0.2-0.4', '0.4-0.6', '0.6-0.8', '0.8-1'])\n",
    "\n",
    "\n",
    "# Add session length bins to the DataFrame\n",
    "df['name_email_similarity_bins'] = name_email_similarity_bins\n",
    "\n",
    "# Manually select intervals for credit risk score bins\n",
    "credit_risk_score_bins = pd.cut(df['credit_risk_score'], bins=[-176, -100, 0, 100, 200, 300, 400],\n",
    "                                labels=['<-100', '-100-0', '0-100', '100-200', '200-300', '>300'])\n",
    "\n",
    "\n",
    "\n",
    "# Add credit risk score bins to the DataFrame\n",
    "df['credit_risk_score_bins'] = credit_risk_score_bins\n",
    "\n",
    "# Group by credit risk score and session length bins, calculate proportion of fraudulent cases\n",
    "fraud_proportion_by_bin = df.groupby(['credit_risk_score_bins', 'name_email_similarity_bins'])['fraud_bool'].mean().reset_index()\n",
    "\n",
    "# Plot the relationship between session length bins and proportion of fraudulent cases for each credit risk score bin\n",
    "plt.figure(figsize=(12, 8))\n",
    "sns.barplot(x='name_email_similarity_bins', y='fraud_bool', hue='credit_risk_score_bins', data=fraud_proportion_by_bin)\n",
    "plt.title('Proportion of Fraudulent Cases by name email similarity and Credit Risk Score')\n",
    "plt.xlabel('name email similarity bins')\n",
    "plt.ylabel('Proportion of Fraudulent Cases')\n",
    "plt.xticks(rotation=45)\n",
    "plt.legend(title='Credit Risk Score')\n",
    "plt.tight_layout()\n",
    "plt.show()"
   ]
  },
  {
   "cell_type": "code",
   "execution_count": null,
   "id": "29ce565e-1eb4-4cde-a76d-c24fc371613c",
   "metadata": {},
   "outputs": [],
   "source": [
    "# consistent with above findings\n",
    "# lower name email similarity likely to be fraud\n",
    "# higher credit risk score is indicative of higher fraud occurences"
   ]
  },
  {
   "cell_type": "code",
   "execution_count": null,
   "id": "619e5bd6-56b6-4a98-bb19-aebb70ded2af",
   "metadata": {},
   "outputs": [],
   "source": []
  },
  {
   "cell_type": "markdown",
   "id": "56054699-bce7-4b00-a4d6-5d9496d4c13f",
   "metadata": {},
   "source": [
    "# possible reasons to explain this pattern"
   ]
  },
  {
   "cell_type": "code",
   "execution_count": 27,
   "id": "f953f958-88fe-4998-ba72-fe1448f75eba",
   "metadata": {},
   "outputs": [],
   "source": [
    "# 1. higher similarity between a name and an email address, could indicate a lower level of anonymity\n",
    "# so fraudsters often prefer anonymity to avoid detection\n",
    "# so for individuals that use more coherent or identifiable information, may indicate less inclination to engage in fraudulent activities\n",
    "\n",
    "# 2. legit applicants are more likely to provide accurate and consistent information (name and email address). Hence, higher name_email_similarity could indicate genuine information, which reduces the likelihood of fraud activity.\n",
    "\n",
    "# 3. Bots can be used to mass spam fraud applications so likely emails and names are randomly generated by bots, hence lower name email similarity\n"
   ]
  },
  {
   "cell_type": "code",
   "execution_count": null,
   "id": "d17e089c-1e1f-41d7-bc66-8bb95bb11784",
   "metadata": {},
   "outputs": [],
   "source": [
    "\n"
   ]
  },
  {
   "cell_type": "code",
   "execution_count": null,
   "id": "9c0aeccb-59f8-4f3a-879f-a18293a7331e",
   "metadata": {},
   "outputs": [],
   "source": []
  },
  {
   "cell_type": "code",
   "execution_count": null,
   "id": "cb19e2c4-0931-41f5-847a-1cca026a12e2",
   "metadata": {},
   "outputs": [],
   "source": []
  },
  {
   "cell_type": "code",
   "execution_count": null,
   "id": "db4768ad-fb3d-4117-9419-83f5223c790c",
   "metadata": {},
   "outputs": [],
   "source": []
  },
  {
   "cell_type": "code",
   "execution_count": null,
   "id": "1ca7dcff-0791-48af-9d88-11544e79329a",
   "metadata": {},
   "outputs": [],
   "source": []
  },
  {
   "cell_type": "code",
   "execution_count": null,
   "id": "548f7a41-1d11-4165-b078-09fa72f50683",
   "metadata": {},
   "outputs": [],
   "source": []
  },
  {
   "cell_type": "code",
   "execution_count": null,
   "id": "2185cc38-afcb-4d35-a498-57d6662a0881",
   "metadata": {},
   "outputs": [],
   "source": []
  },
  {
   "cell_type": "code",
   "execution_count": null,
   "id": "cb0fe117-5f86-46ca-b598-765af03dcc04",
   "metadata": {},
   "outputs": [],
   "source": []
  },
  {
   "cell_type": "code",
   "execution_count": null,
   "id": "36c1435f-aafa-4da3-9246-5b0db546201e",
   "metadata": {},
   "outputs": [],
   "source": []
  },
  {
   "cell_type": "code",
   "execution_count": null,
   "id": "07df324e-cbf4-4a57-9814-96812c0c924c",
   "metadata": {},
   "outputs": [],
   "source": []
  }
 ],
 "metadata": {
  "kernelspec": {
   "display_name": "Python 3 (ipykernel)",
   "language": "python",
   "name": "python3"
  },
  "language_info": {
   "codemirror_mode": {
    "name": "ipython",
    "version": 3
   },
   "file_extension": ".py",
   "mimetype": "text/x-python",
   "name": "python",
   "nbconvert_exporter": "python",
   "pygments_lexer": "ipython3",
   "version": "3.11.7"
  }
 },
 "nbformat": 4,
 "nbformat_minor": 5
}
